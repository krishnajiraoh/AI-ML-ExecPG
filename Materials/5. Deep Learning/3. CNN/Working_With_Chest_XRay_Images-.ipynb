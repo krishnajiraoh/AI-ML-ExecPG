





<!DOCTYPE html>
<html lang="en" data-color-mode="auto" data-light-theme="dark_high_contrast" data-dark-theme="dark_dimmed" data-a11y-animated-images="system">
  <head>
    <meta charset="utf-8">
  <link rel="dns-prefetch" href="https://github.githubassets.com">
  <link rel="dns-prefetch" href="https://avatars.githubusercontent.com">
  <link rel="dns-prefetch" href="https://github-cloud.s3.amazonaws.com">
  <link rel="dns-prefetch" href="https://user-images.githubusercontent.com/">
  <link rel="preconnect" href="https://github.githubassets.com" crossorigin>
  <link rel="preconnect" href="https://avatars.githubusercontent.com">

  


  <link crossorigin="anonymous" media="all" rel="stylesheet" href="https://github.githubassets.com/assets/dark_high_contrast-11302a585e33.css" /><link crossorigin="anonymous" media="all" rel="stylesheet" href="https://github.githubassets.com/assets/dark_dimmed-9b9a8c91acc5.css" /><link data-color-theme="light" crossorigin="anonymous" media="all" rel="stylesheet" data-href="https://github.githubassets.com/assets/light-0946cdc16f15.css" /><link data-color-theme="dark" crossorigin="anonymous" media="all" rel="stylesheet" data-href="https://github.githubassets.com/assets/dark-3946c959759a.css" /><link data-color-theme="dark_colorblind" crossorigin="anonymous" media="all" rel="stylesheet" data-href="https://github.githubassets.com/assets/dark_colorblind-1a4564ab0fbf.css" /><link data-color-theme="light_colorblind" crossorigin="anonymous" media="all" rel="stylesheet" data-href="https://github.githubassets.com/assets/light_colorblind-12a8b2aa9101.css" /><link data-color-theme="light_high_contrast" crossorigin="anonymous" media="all" rel="stylesheet" data-href="https://github.githubassets.com/assets/light_high_contrast-5924a648f3e7.css" /><link data-color-theme="light_tritanopia" crossorigin="anonymous" media="all" rel="stylesheet" data-href="https://github.githubassets.com/assets/light_tritanopia-05358496cb79.css" /><link data-color-theme="dark_tritanopia" crossorigin="anonymous" media="all" rel="stylesheet" data-href="https://github.githubassets.com/assets/dark_tritanopia-aad6b801a158.css" />
    <link crossorigin="anonymous" media="all" rel="stylesheet" href="https://github.githubassets.com/assets/primer-primitives-fb1d51d1ef66.css" />
    <link crossorigin="anonymous" media="all" rel="stylesheet" href="https://github.githubassets.com/assets/primer-57c312e484b2.css" />
    <link crossorigin="anonymous" media="all" rel="stylesheet" href="https://github.githubassets.com/assets/global-d5c603d3a41b.css" />
    <link crossorigin="anonymous" media="all" rel="stylesheet" href="https://github.githubassets.com/assets/github-c7a3a0ac71d4.css" />
  <link crossorigin="anonymous" media="all" rel="stylesheet" href="https://github.githubassets.com/assets/code-38f466844f96.css" />



  <script crossorigin="anonymous" defer="defer" type="application/javascript" src="https://github.githubassets.com/assets/wp-runtime-83acef355ca9.js"></script>
<script crossorigin="anonymous" defer="defer" type="application/javascript" src="https://github.githubassets.com/assets/vendors-node_modules_stacktrace-parser_dist_stack-trace-parser_esm_js-node_modules_github_bro-a4c183-ae93d3fba59c.js"></script>
<script crossorigin="anonymous" defer="defer" type="application/javascript" src="https://github.githubassets.com/assets/ui_packages_failbot_failbot_ts-e38c93eab86e.js"></script>
<script crossorigin="anonymous" defer="defer" type="application/javascript" src="https://github.githubassets.com/assets/environment-de3997b81651.js"></script>
<script crossorigin="anonymous" defer="defer" type="application/javascript" src="https://github.githubassets.com/assets/vendors-node_modules_github_selector-observer_dist_index_esm_js-2646a2c533e3.js"></script>
<script crossorigin="anonymous" defer="defer" type="application/javascript" src="https://github.githubassets.com/assets/vendors-node_modules_github_relative-time-element_dist_index_js-99e288659d4f.js"></script>
<script crossorigin="anonymous" defer="defer" type="application/javascript" src="https://github.githubassets.com/assets/vendors-node_modules_fzy_js_index_js-node_modules_github_markdown-toolbar-element_dist_index_js-e3de700a4c9d.js"></script>
<script crossorigin="anonymous" defer="defer" type="application/javascript" src="https://github.githubassets.com/assets/vendors-node_modules_delegated-events_dist_index_js-node_modules_github_auto-complete-element-5b3870-ff38694180c6.js"></script>
<script crossorigin="anonymous" defer="defer" type="application/javascript" src="https://github.githubassets.com/assets/vendors-node_modules_github_file-attachment-element_dist_index_js-node_modules_github_text-ex-3415a8-7ecc10fb88d0.js"></script>
<script crossorigin="anonymous" defer="defer" type="application/javascript" src="https://github.githubassets.com/assets/vendors-node_modules_github_filter-input-element_dist_index_js-node_modules_github_remote-inp-8873b7-5771678648e0.js"></script>
<script crossorigin="anonymous" defer="defer" type="application/javascript" src="https://github.githubassets.com/assets/vendors-node_modules_primer_view-components_app_components_primer_primer_js-node_modules_gith-3af896-ba2b2ef33e4b.js"></script>
<script crossorigin="anonymous" defer="defer" type="application/javascript" src="https://github.githubassets.com/assets/github-elements-7b037525f59f.js"></script>
<script crossorigin="anonymous" defer="defer" type="application/javascript" src="https://github.githubassets.com/assets/element-registry-5c1f95468ce8.js"></script>
<script crossorigin="anonymous" defer="defer" type="application/javascript" src="https://github.githubassets.com/assets/vendors-node_modules_lit-html_lit-html_js-9d9fe1859ce5.js"></script>
<script crossorigin="anonymous" defer="defer" type="application/javascript" src="https://github.githubassets.com/assets/vendors-node_modules_github_mini-throttle_dist_index_js-node_modules_github_alive-client_dist-bf5aa2-424aa982deef.js"></script>
<script crossorigin="anonymous" defer="defer" type="application/javascript" src="https://github.githubassets.com/assets/vendors-node_modules_github_turbo_dist_turbo_es2017-esm_js-ba0e4d5b3207.js"></script>
<script crossorigin="anonymous" defer="defer" type="application/javascript" src="https://github.githubassets.com/assets/vendors-node_modules_github_remote-form_dist_index_js-node_modules_scroll-anchoring_dist_scro-52dc4b-e1e33bfc0b7e.js"></script>
<script crossorigin="anonymous" defer="defer" type="application/javascript" src="https://github.githubassets.com/assets/vendors-node_modules_color-convert_index_js-node_modules_github_jtml_lib_index_js-40bf234a19dc.js"></script>
<script crossorigin="anonymous" defer="defer" type="application/javascript" src="https://github.githubassets.com/assets/vendors-node_modules_github_paste-markdown_dist_index_esm_js-node_modules_github_quote-select-743f1d-1b20d530fbf0.js"></script>
<script crossorigin="anonymous" defer="defer" type="application/javascript" src="https://github.githubassets.com/assets/app_assets_modules_github_updatable-content_ts-dadb69f79923.js"></script>
<script crossorigin="anonymous" defer="defer" type="application/javascript" src="https://github.githubassets.com/assets/app_assets_modules_github_behaviors_keyboard-shortcuts-helper_ts-app_assets_modules_github_be-f5afdb-3f05df4c282b.js"></script>
<script crossorigin="anonymous" defer="defer" type="application/javascript" src="https://github.githubassets.com/assets/app_assets_modules_github_blob-anchor_ts-app_assets_modules_github_code-editor_ts-app_assets_-d384d0-c22babf4e371.js"></script>
<script crossorigin="anonymous" defer="defer" type="application/javascript" src="https://github.githubassets.com/assets/app_assets_modules_github_sticky-scroll-into-view_ts-1d145b63ed56.js"></script>
<script crossorigin="anonymous" defer="defer" type="application/javascript" src="https://github.githubassets.com/assets/app_assets_modules_github_behaviors_ajax-error_ts-app_assets_modules_github_behaviors_include-2e2258-dae7d38e0248.js"></script>
<script crossorigin="anonymous" defer="defer" type="application/javascript" src="https://github.githubassets.com/assets/app_assets_modules_github_behaviors_commenting_edit_ts-app_assets_modules_github_behaviors_ht-83c235-c97eacdef68a.js"></script>
<script crossorigin="anonymous" defer="defer" type="application/javascript" src="https://github.githubassets.com/assets/behaviors-abaec43985ff.js"></script>
<script crossorigin="anonymous" defer="defer" type="application/javascript" src="https://github.githubassets.com/assets/vendors-node_modules_delegated-events_dist_index_js-node_modules_github_catalyst_lib_index_js-623425af41e1.js"></script>
<script crossorigin="anonymous" defer="defer" type="application/javascript" src="https://github.githubassets.com/assets/notifications-global-4dc6f295cc92.js"></script>
<script crossorigin="anonymous" defer="defer" type="application/javascript" src="https://github.githubassets.com/assets/code-menu-856f83220602.js"></script>
  
  <script crossorigin="anonymous" defer="defer" type="application/javascript" src="https://github.githubassets.com/assets/react-lib-26cb888452e9.js"></script>
<script crossorigin="anonymous" defer="defer" type="application/javascript" src="https://github.githubassets.com/assets/vendors-node_modules_primer_octicons-react_dist_index_esm_js-node_modules_primer_react_lib-es-ca6dae-a1133077cb2e.js"></script>
<script crossorigin="anonymous" defer="defer" type="application/javascript" src="https://github.githubassets.com/assets/vendors-node_modules_primer_react_lib-esm_Button_index_js-node_modules_primer_react_lib-esm_L-5634ab-42e8568c9a37.js"></script>
<script crossorigin="anonymous" defer="defer" type="application/javascript" src="https://github.githubassets.com/assets/vendors-node_modules_primer_behaviors_dist_esm_focus-zone_js-d55308df5023.js"></script>
<script crossorigin="anonymous" defer="defer" type="application/javascript" src="https://github.githubassets.com/assets/vendors-node_modules_primer_react_lib-esm_ActionList_index_js-node_modules_primer_react_lib-e-d264d6-f9d3bc6f32ea.js"></script>
<script crossorigin="anonymous" defer="defer" type="application/javascript" src="https://github.githubassets.com/assets/vendors-node_modules_primer_react_lib-esm_ActionMenu_js-9f46ef9292fe.js"></script>
<script crossorigin="anonymous" defer="defer" type="application/javascript" src="https://github.githubassets.com/assets/vendors-node_modules_primer_behaviors_dist_esm_scroll-into-view_js-node_modules_primer_react_-04bb1b-dadff286ba44.js"></script>
<script crossorigin="anonymous" defer="defer" type="application/javascript" src="https://github.githubassets.com/assets/vendors-node_modules_primer_react_lib-esm_FormControl_FormControl_js-a0b171a7401f.js"></script>
<script crossorigin="anonymous" defer="defer" type="application/javascript" src="https://github.githubassets.com/assets/vendors-node_modules_dompurify_dist_purify_js-64d590970fa6.js"></script>
<script crossorigin="anonymous" defer="defer" type="application/javascript" src="https://github.githubassets.com/assets/vendors-node_modules_primer_react_lib-esm_Dialog_ConfirmationDialog_js-node_modules_primer_re-3d8a84-e777e763812a.js"></script>
<script crossorigin="anonymous" defer="defer" type="application/javascript" src="https://github.githubassets.com/assets/vendors-node_modules_primer_react_lib-esm_PageLayout_PageLayout_js-4fa99e9ebc43.js"></script>
<script crossorigin="anonymous" defer="defer" type="application/javascript" src="https://github.githubassets.com/assets/vendors-node_modules_primer_react_lib-esm_TreeView_TreeView_js-24fd33d383d9.js"></script>
<script crossorigin="anonymous" defer="defer" type="application/javascript" src="https://github.githubassets.com/assets/vendors-node_modules_primer_react_lib-esm_Avatar_Avatar_js-node_modules_primer_react_lib-esm_-9d76dd-90f908d64068.js"></script>
<script crossorigin="anonymous" defer="defer" type="application/javascript" src="https://github.githubassets.com/assets/vendors-node_modules_github_blackbird-parser_dist_blackbird_js-fcd9d30e9b7e.js"></script>
<script crossorigin="anonymous" defer="defer" type="application/javascript" src="https://github.githubassets.com/assets/vendors-node_modules_primer_react_lib-esm_CheckboxGroup_CheckboxGroup_js-node_modules_delegat-b5c553-34eb33c693d6.js"></script>
<script crossorigin="anonymous" defer="defer" type="application/javascript" src="https://github.githubassets.com/assets/vendors-node_modules_primer_react_lib-esm_UnderlineNav2_index_js-0f3ba9d900a1.js"></script>
<script crossorigin="anonymous" defer="defer" type="application/javascript" src="https://github.githubassets.com/assets/vendors-node_modules_primer_react_lib-esm_AvatarStack_AvatarStack_js-node_modules_primer_reac-d0e599-fad8285fcf34.js"></script>
<script crossorigin="anonymous" defer="defer" type="application/javascript" src="https://github.githubassets.com/assets/ui_packages_react-core_deferred-registry_ts-ui_packages_react-core_AppContextProvider_tsx-ui_-ffd985-18d5698b6549.js"></script>
<script crossorigin="anonymous" defer="defer" type="application/javascript" src="https://github.githubassets.com/assets/ui_packages_react-core_Entry_tsx-8c7cce1646a4.js"></script>
<script crossorigin="anonymous" defer="defer" type="application/javascript" src="https://github.githubassets.com/assets/ui_packages_paths_path_ts-ui_packages_verified-fetch_verified-fetch_ts-ui_packages_safe-html_-d7e3f1-b892db079a2d.js"></script>
<script crossorigin="anonymous" defer="defer" type="application/javascript" src="https://github.githubassets.com/assets/app_assets_modules_react-shared_RefSelector_RefSelector_tsx-0ade0381bf11.js"></script>
<script crossorigin="anonymous" defer="defer" type="application/javascript" src="https://github.githubassets.com/assets/app_assets_modules_blackbird-monolith_hooks_use-navigate-to-query_ts-app_assets_modules_black-182e14-c0f74c125ef2.js"></script>
<script crossorigin="anonymous" defer="defer" type="application/javascript" src="https://github.githubassets.com/assets/ui_packages_trusted-types-policies_policy_ts-ui_packages_trusted-types_trusted-types_ts-app_a-af1c83-e5d642f7eae9.js"></script>
<script crossorigin="anonymous" defer="defer" type="application/javascript" src="https://github.githubassets.com/assets/react-code-view-9a7d0667ebcd.js"></script>


  <title>Convolutional-Neural-Network-Industry-Applications/Working_With_Chest_XRay_Images-.ipynb at main · ContentUpgrad/Convolutional-Neural-Network-Industry-Applications</title>



  <meta name="route-pattern" content="/:user_id/:repository/blob/*name(/*path)">

    
  <meta name="current-catalog-service-hash" content="581425c0eaaa5e5e53c5b736f58a14dbe5d38b0be425901738ad0670bd1d5a33">


  <meta name="request-id" content="07A0:0AEA:133BC73:163CC75:64594683" data-turbo-transient="true" /><meta name="html-safe-nonce" content="115593dc9df28c35738ae65fe6009a655e3c27046c60145a594174cf7d381a4c" data-turbo-transient="true" /><meta name="visitor-payload" content="eyJyZWZlcnJlciI6Imh0dHBzOi8vZ2l0aHViLmNvbS9Db250ZW50VXBncmFkL0NvbnZvbHV0aW9uYWwtTmV1cmFsLU5ldHdvcmstSW5kdXN0cnktQXBwbGljYXRpb25zL3RyZWUvbWFpbi9Vc2luZy1DTk5zLXdpdGgtWC1yYXktSW1hZ2VzIiwicmVxdWVzdF9pZCI6IjA3QTA6MEFFQToxMzNCQzczOjE2M0NDNzU6NjQ1OTQ2ODMiLCJ2aXNpdG9yX2lkIjoiNDQ2NjUzMjMwNDY0MzM1Nzc4NyIsInJlZ2lvbl9lZGdlIjoiY2VudHJhbGluZGlhIiwicmVnaW9uX3JlbmRlciI6ImlhZCJ9" data-turbo-transient="true" /><meta name="visitor-hmac" content="c929097d7ba86b8e9e5e580158ddc1ed7d84ed90abe02218bc857f180da47340" data-turbo-transient="true" />


    <meta name="hovercard-subject-tag" content="repository:478520428" data-turbo-transient>


  <meta name="github-keyboard-shortcuts" content="repository,source-code,file-tree" data-turbo-transient="true" />
  

  <meta name="selected-link" value="repo_source" data-turbo-transient>

    <meta name="google-site-verification" content="c1kuD-K2HIVF635lypcsWPoD4kilo5-jA_wBFyT4uMY">
  <meta name="google-site-verification" content="KT5gs8h0wvaagLKAVWq8bbeNwnZZK1r1XQysX3xurLU">
  <meta name="google-site-verification" content="ZzhVyEFwb7w3e0-uOTltm8Jsck2F5StVihD0exw2fsA">
  <meta name="google-site-verification" content="GXs5KoUUkNCoaAZn7wPN-t01Pywp9M3sEjnt_3_ZWPc">
  <meta name="google-site-verification" content="Apib7-x98H0j5cPqHWwSMm6dNU4GmODRoqxLiDzdx9I">

<meta name="octolytics-url" content="https://collector.github.com/github/collect" /><meta name="octolytics-actor-id" content="10133554" /><meta name="octolytics-actor-login" content="krishnajiraoh" /><meta name="octolytics-actor-hash" content="2a0dbba1eb182c1b8689492b26c7c254e1590d0009e49c6d7c0d1b30e8b40256" />

  <meta name="analytics-location" content="/&lt;user-name&gt;/&lt;repo-name&gt;/blob/show" data-turbo-transient="true" />

  




  

    <meta name="user-login" content="krishnajiraoh">

  <link rel="sudo-modal" href="/sessions/sudo_modal">

    <meta name="viewport" content="width=device-width">
    
      <meta name="description" content="Contribute to ContentUpgrad/Convolutional-Neural-Network-Industry-Applications development by creating an account on GitHub.">
      <link rel="search" type="application/opensearchdescription+xml" href="/opensearch.xml" title="GitHub">
    <link rel="fluid-icon" href="https://github.com/fluidicon.png" title="GitHub">
    <meta property="fb:app_id" content="1401488693436528">
    <meta name="apple-itunes-app" content="app-id=1477376905" />
      <meta name="twitter:image:src" content="https://opengraph.githubassets.com/2de1dfd9626bbe0798e36fe58972d82e18634525510ff52a4a2eb5101f8ec452/ContentUpgrad/Convolutional-Neural-Network-Industry-Applications" /><meta name="twitter:site" content="@github" /><meta name="twitter:card" content="summary_large_image" /><meta name="twitter:title" content="Convolutional-Neural-Network-Industry-Applications/Working_With_Chest_XRay_Images-.ipynb at main · ContentUpgrad/Convolutional-Neural-Network-Industry-Applications" /><meta name="twitter:description" content="Contribute to ContentUpgrad/Convolutional-Neural-Network-Industry-Applications development by creating an account on GitHub." />
      <meta property="og:image" content="https://opengraph.githubassets.com/2de1dfd9626bbe0798e36fe58972d82e18634525510ff52a4a2eb5101f8ec452/ContentUpgrad/Convolutional-Neural-Network-Industry-Applications" /><meta property="og:image:alt" content="Contribute to ContentUpgrad/Convolutional-Neural-Network-Industry-Applications development by creating an account on GitHub." /><meta property="og:image:width" content="1200" /><meta property="og:image:height" content="600" /><meta property="og:site_name" content="GitHub" /><meta property="og:type" content="object" /><meta property="og:title" content="Convolutional-Neural-Network-Industry-Applications/Working_With_Chest_XRay_Images-.ipynb at main · ContentUpgrad/Convolutional-Neural-Network-Industry-Applications" /><meta property="og:url" content="https://github.com/ContentUpgrad/Convolutional-Neural-Network-Industry-Applications" /><meta property="og:description" content="Contribute to ContentUpgrad/Convolutional-Neural-Network-Industry-Applications development by creating an account on GitHub." />
      
    <link rel="assets" href="https://github.githubassets.com/">
      <link rel="shared-web-socket" href="wss://alive.github.com/_sockets/u/10133554/ws?session=eyJ2IjoiVjMiLCJ1IjoxMDEzMzU1NCwicyI6MTA4NjEwMjg3OCwiYyI6MTc5NjE1NDgzLCJ0IjoxNjgzNTcyMzc2fQ==--ebacae0e98699071bffb0010bae0bd54feb21592f9421254180c5154b0c0c83d" data-refresh-url="/_alive" data-session-id="868d00fa33fd4504beaf91de84ef5b77230d852137a8f942a69023410eb40b67">
      <link rel="shared-web-socket-src" href="/assets-cdn/worker/socket-worker-71e98f781d79.js">


        <meta name="hostname" content="github.com">


      <meta name="keyboard-shortcuts-preference" content="all">

        <meta name="expected-hostname" content="github.com">

    <meta name="enabled-features" content="TURBO_EXPERIMENT_RISKY,IMAGE_METRIC_TRACKING,GEOJSON_AZURE_MAPS">


  <meta http-equiv="x-pjax-version" content="f8c2c99d7028fcf0014f359b03e8a1490ed148819e7673c055981c4a61810dc5" data-turbo-track="reload">
  <meta http-equiv="x-pjax-csp-version" content="0db263f9a873141d8256f783c35f244c06d490aacc3b680f99794dd8fd59fb59" data-turbo-track="reload">
  <meta http-equiv="x-pjax-css-version" content="7ea00050c785106ce7781841c6bfc84087335834f0ce5ab2c15990cadbc22a71" data-turbo-track="reload">
  <meta http-equiv="x-pjax-js-version" content="5b77eb22a701168bff26fc68b0591bf76a0eca9fd9c05bdfcce776abc17ba1cb" data-turbo-track="reload">

  <meta name="turbo-cache-control" content="no-preview" data-turbo-transient="">

      <meta name="turbo-cache-control" content="no-cache" data-turbo-transient>
    <meta data-hydrostats="publish">

  <meta name="go-import" content="github.com/ContentUpgrad/Convolutional-Neural-Network-Industry-Applications git https://github.com/ContentUpgrad/Convolutional-Neural-Network-Industry-Applications.git">

  <meta name="octolytics-dimension-user_id" content="82654736" /><meta name="octolytics-dimension-user_login" content="ContentUpgrad" /><meta name="octolytics-dimension-repository_id" content="478520428" /><meta name="octolytics-dimension-repository_nwo" content="ContentUpgrad/Convolutional-Neural-Network-Industry-Applications" /><meta name="octolytics-dimension-repository_public" content="true" /><meta name="octolytics-dimension-repository_is_fork" content="false" /><meta name="octolytics-dimension-repository_network_root_id" content="478520428" /><meta name="octolytics-dimension-repository_network_root_nwo" content="ContentUpgrad/Convolutional-Neural-Network-Industry-Applications" />



  <meta name="turbo-body-classes" content="logged-in env-production page-responsive">


  <meta name="browser-stats-url" content="https://api.github.com/_private/browser/stats">

  <meta name="browser-errors-url" content="https://api.github.com/_private/browser/errors">

  <meta name="browser-optimizely-client-errors-url" content="https://api.github.com/_private/browser/optimizely_client/errors">

  <link rel="mask-icon" href="https://github.githubassets.com/pinned-octocat.svg" color="#000000">
  <link rel="alternate icon" class="js-site-favicon" type="image/png" href="https://github.githubassets.com/favicons/favicon.png">
  <link rel="icon" class="js-site-favicon" type="image/svg+xml" href="https://github.githubassets.com/favicons/favicon.svg">

<meta name="theme-color" content="#1e2327">
<meta name="color-scheme" content="light dark" />


  <link rel="manifest" href="/manifest.json" crossOrigin="use-credentials">

  </head>

  <body class="logged-in env-production page-responsive" style="word-wrap: break-word;">
    <div data-turbo-body class="logged-in env-production page-responsive" style="word-wrap: break-word;">
      


    <div class="position-relative js-header-wrapper ">
      <a href="#start-of-content" class="p-3 color-bg-accent-emphasis color-fg-on-emphasis show-on-focus js-skip-to-content">Skip to content</a>
      <span data-view-component="true" class="progress-pjax-loader Progress position-fixed width-full">
    <span style="width: 0%;" data-view-component="true" class="Progress-item progress-pjax-loader-bar left-0 top-0 color-bg-accent-emphasis"></span>
</span>      
      


        <script crossorigin="anonymous" defer="defer" type="application/javascript" src="https://github.githubassets.com/assets/vendors-node_modules_allex_crc32_lib_crc32_esm_js-node_modules_github_mini-throttle_dist_deco-26fa0f-02e7ed68dae1.js"></script>
<script crossorigin="anonymous" defer="defer" type="application/javascript" src="https://github.githubassets.com/assets/vendors-node_modules_github_clipboard-copy-element_dist_index_esm_js-node_modules_delegated-e-b37f7d-a9177ba414f2.js"></script>
<script crossorigin="anonymous" defer="defer" type="application/javascript" src="https://github.githubassets.com/assets/app_assets_modules_github_command-palette_items_help-item_ts-app_assets_modules_github_comman-48ad9d-beffe41c24a7.js"></script>
<script crossorigin="anonymous" defer="defer" type="application/javascript" src="https://github.githubassets.com/assets/command-palette-c2a5f7e7eb12.js"></script>

            <header class="Header js-details-container Details px-3 px-md-4 px-lg-5 flex-wrap flex-md-nowrap" role="banner">

    <div class="Header-item mt-n1 mb-n1  d-none d-md-flex">
      <a
  class="Header-link"
  href="https://github.com/"
  data-hotkey="g d"
  aria-label="Homepage "
  data-turbo="false"
  data-analytics-event="{&quot;category&quot;:&quot;Header&quot;,&quot;action&quot;:&quot;go to dashboard&quot;,&quot;label&quot;:&quot;icon:logo&quot;}"
>
  <svg height="32" aria-hidden="true" viewBox="0 0 16 16" version="1.1" width="32" data-view-component="true" class="octicon octicon-mark-github v-align-middle">
    <path d="M8 0c4.42 0 8 3.58 8 8a8.013 8.013 0 0 1-5.45 7.59c-.4.08-.55-.17-.55-.38 0-.27.01-1.13.01-2.2 0-.75-.25-1.23-.54-1.48 1.78-.2 3.65-.88 3.65-3.95 0-.88-.31-1.59-.82-2.15.08-.2.36-1.02-.08-2.12 0 0-.67-.22-2.2.82-.64-.18-1.32-.27-2-.27-.68 0-1.36.09-2 .27-1.53-1.03-2.2-.82-2.2-.82-.44 1.1-.16 1.92-.08 2.12-.51.56-.82 1.28-.82 2.15 0 3.06 1.86 3.75 3.64 3.95-.23.2-.44.55-.51 1.07-.46.21-1.61.55-2.33-.66-.15-.24-.6-.83-1.23-.82-.67.01-.27.38.01.53.34.19.73.9.82 1.13.16.45.68 1.31 2.69.94 0 .67.01 1.3.01 1.49 0 .21-.15.45-.55.38A7.995 7.995 0 0 1 0 8c0-4.42 3.58-8 8-8Z"></path>
</svg>
</a>

    </div>

    <div class="Header-item d-md-none">
        <button aria-label="Toggle navigation" aria-expanded="false" type="button" data-view-component="true" class="Header-link js-details-target btn-link">    <svg aria-hidden="true" height="24" viewBox="0 0 16 16" version="1.1" width="24" data-view-component="true" class="octicon octicon-three-bars">
    <path d="M1 2.75A.75.75 0 0 1 1.75 2h12.5a.75.75 0 0 1 0 1.5H1.75A.75.75 0 0 1 1 2.75Zm0 5A.75.75 0 0 1 1.75 7h12.5a.75.75 0 0 1 0 1.5H1.75A.75.75 0 0 1 1 7.75ZM1.75 12h12.5a.75.75 0 0 1 0 1.5H1.75a.75.75 0 0 1 0-1.5Z"></path>
</svg>
</button>    </div>

    <div class="Header-item Header-item--full flex-column flex-md-row width-full flex-order-2 flex-md-order-none mr-0 mt-3 mt-md-0 Details-content--hidden-not-important d-md-flex">
              


<template id="search-icon">
  <svg aria-hidden="true" height="16" viewBox="0 0 16 16" version="1.1" width="16" data-view-component="true" class="octicon octicon-search">
    <path d="M10.68 11.74a6 6 0 0 1-7.922-8.982 6 6 0 0 1 8.982 7.922l3.04 3.04a.749.749 0 0 1-.326 1.275.749.749 0 0 1-.734-.215ZM11.5 7a4.499 4.499 0 1 0-8.997 0A4.499 4.499 0 0 0 11.5 7Z"></path>
</svg>
</template>

<template id="code-icon">
  <svg aria-hidden="true" height="16" viewBox="0 0 16 16" version="1.1" width="16" data-view-component="true" class="octicon octicon-code">
    <path d="m11.28 3.22 4.25 4.25a.75.75 0 0 1 0 1.06l-4.25 4.25a.749.749 0 0 1-1.275-.326.749.749 0 0 1 .215-.734L13.94 8l-3.72-3.72a.749.749 0 0 1 .326-1.275.749.749 0 0 1 .734.215Zm-6.56 0a.751.751 0 0 1 1.042.018.751.751 0 0 1 .018 1.042L2.06 8l3.72 3.72a.749.749 0 0 1-.326 1.275.749.749 0 0 1-.734-.215L.47 8.53a.75.75 0 0 1 0-1.06Z"></path>
</svg>
</template>

<template id="file-code-icon">
  <svg aria-hidden="true" height="16" viewBox="0 0 16 16" version="1.1" width="16" data-view-component="true" class="octicon octicon-file-code">
    <path d="M4 1.75C4 .784 4.784 0 5.75 0h5.586c.464 0 .909.184 1.237.513l2.914 2.914c.329.328.513.773.513 1.237v8.586A1.75 1.75 0 0 1 14.25 15h-9a.75.75 0 0 1 0-1.5h9a.25.25 0 0 0 .25-.25V6h-2.75A1.75 1.75 0 0 1 10 4.25V1.5H5.75a.25.25 0 0 0-.25.25v2.5a.75.75 0 0 1-1.5 0Zm1.72 4.97a.75.75 0 0 1 1.06 0l2 2a.75.75 0 0 1 0 1.06l-2 2a.749.749 0 0 1-1.275-.326.749.749 0 0 1 .215-.734l1.47-1.47-1.47-1.47a.75.75 0 0 1 0-1.06ZM3.28 7.78 1.81 9.25l1.47 1.47a.751.751 0 0 1-.018 1.042.751.751 0 0 1-1.042.018l-2-2a.75.75 0 0 1 0-1.06l2-2a.751.751 0 0 1 1.042.018.751.751 0 0 1 .018 1.042Zm8.22-6.218V4.25c0 .138.112.25.25.25h2.688l-.011-.013-2.914-2.914-.013-.011Z"></path>
</svg>
</template>

<template id="history-icon">
  <svg aria-hidden="true" height="16" viewBox="0 0 16 16" version="1.1" width="16" data-view-component="true" class="octicon octicon-history">
    <path d="m.427 1.927 1.215 1.215a8.002 8.002 0 1 1-1.6 5.685.75.75 0 1 1 1.493-.154 6.5 6.5 0 1 0 1.18-4.458l1.358 1.358A.25.25 0 0 1 3.896 6H.25A.25.25 0 0 1 0 5.75V2.104a.25.25 0 0 1 .427-.177ZM7.75 4a.75.75 0 0 1 .75.75v2.992l2.028.812a.75.75 0 0 1-.557 1.392l-2.5-1A.751.751 0 0 1 7 8.25v-3.5A.75.75 0 0 1 7.75 4Z"></path>
</svg>
</template>

<template id="repo-icon">
  <svg aria-hidden="true" height="16" viewBox="0 0 16 16" version="1.1" width="16" data-view-component="true" class="octicon octicon-repo">
    <path d="M2 2.5A2.5 2.5 0 0 1 4.5 0h8.75a.75.75 0 0 1 .75.75v12.5a.75.75 0 0 1-.75.75h-2.5a.75.75 0 0 1 0-1.5h1.75v-2h-8a1 1 0 0 0-.714 1.7.75.75 0 1 1-1.072 1.05A2.495 2.495 0 0 1 2 11.5Zm10.5-1h-8a1 1 0 0 0-1 1v6.708A2.486 2.486 0 0 1 4.5 9h8ZM5 12.25a.25.25 0 0 1 .25-.25h3.5a.25.25 0 0 1 .25.25v3.25a.25.25 0 0 1-.4.2l-1.45-1.087a.249.249 0 0 0-.3 0L5.4 15.7a.25.25 0 0 1-.4-.2Z"></path>
</svg>
</template>

<template id="bookmark-icon">
  <svg aria-hidden="true" height="16" viewBox="0 0 16 16" version="1.1" width="16" data-view-component="true" class="octicon octicon-bookmark">
    <path d="M3 2.75C3 1.784 3.784 1 4.75 1h6.5c.966 0 1.75.784 1.75 1.75v11.5a.75.75 0 0 1-1.227.579L8 11.722l-3.773 3.107A.751.751 0 0 1 3 14.25Zm1.75-.25a.25.25 0 0 0-.25.25v9.91l3.023-2.489a.75.75 0 0 1 .954 0l3.023 2.49V2.75a.25.25 0 0 0-.25-.25Z"></path>
</svg>
</template>

<template id="plus-circle-icon">
  <svg aria-hidden="true" height="16" viewBox="0 0 16 16" version="1.1" width="16" data-view-component="true" class="octicon octicon-plus-circle">
    <path d="M8 0a8 8 0 1 1 0 16A8 8 0 0 1 8 0ZM1.5 8a6.5 6.5 0 1 0 13 0 6.5 6.5 0 0 0-13 0Zm7.25-3.25v2.5h2.5a.75.75 0 0 1 0 1.5h-2.5v2.5a.75.75 0 0 1-1.5 0v-2.5h-2.5a.75.75 0 0 1 0-1.5h2.5v-2.5a.75.75 0 0 1 1.5 0Z"></path>
</svg>
</template>

<template id="circle-icon">
  <svg aria-hidden="true" height="16" viewBox="0 0 16 16" version="1.1" width="16" data-view-component="true" class="octicon octicon-dot-fill">
    <path d="M8 4a4 4 0 1 1 0 8 4 4 0 0 1 0-8Z"></path>
</svg>
</template>

<template id="trash-icon">
  <svg aria-hidden="true" height="16" viewBox="0 0 16 16" version="1.1" width="16" data-view-component="true" class="octicon octicon-trash">
    <path d="M11 1.75V3h2.25a.75.75 0 0 1 0 1.5H2.75a.75.75 0 0 1 0-1.5H5V1.75C5 .784 5.784 0 6.75 0h2.5C10.216 0 11 .784 11 1.75ZM4.496 6.675l.66 6.6a.25.25 0 0 0 .249.225h5.19a.25.25 0 0 0 .249-.225l.66-6.6a.75.75 0 0 1 1.492.149l-.66 6.6A1.748 1.748 0 0 1 10.595 15h-5.19a1.75 1.75 0 0 1-1.741-1.575l-.66-6.6a.75.75 0 1 1 1.492-.15ZM6.5 1.75V3h3V1.75a.25.25 0 0 0-.25-.25h-2.5a.25.25 0 0 0-.25.25Z"></path>
</svg>
</template>

<template id="team-icon">
  <svg aria-hidden="true" height="16" viewBox="0 0 16 16" version="1.1" width="16" data-view-component="true" class="octicon octicon-people">
    <path d="M2 5.5a3.5 3.5 0 1 1 5.898 2.549 5.508 5.508 0 0 1 3.034 4.084.75.75 0 1 1-1.482.235 4 4 0 0 0-7.9 0 .75.75 0 0 1-1.482-.236A5.507 5.507 0 0 1 3.102 8.05 3.493 3.493 0 0 1 2 5.5ZM11 4a3.001 3.001 0 0 1 2.22 5.018 5.01 5.01 0 0 1 2.56 3.012.749.749 0 0 1-.885.954.752.752 0 0 1-.549-.514 3.507 3.507 0 0 0-2.522-2.372.75.75 0 0 1-.574-.73v-.352a.75.75 0 0 1 .416-.672A1.5 1.5 0 0 0 11 5.5.75.75 0 0 1 11 4Zm-5.5-.5a2 2 0 1 0-.001 3.999A2 2 0 0 0 5.5 3.5Z"></path>
</svg>
</template>

<template id="project-icon">
  <svg aria-hidden="true" height="16" viewBox="0 0 16 16" version="1.1" width="16" data-view-component="true" class="octicon octicon-project">
    <path d="M1.75 0h12.5C15.216 0 16 .784 16 1.75v12.5A1.75 1.75 0 0 1 14.25 16H1.75A1.75 1.75 0 0 1 0 14.25V1.75C0 .784.784 0 1.75 0ZM1.5 1.75v12.5c0 .138.112.25.25.25h12.5a.25.25 0 0 0 .25-.25V1.75a.25.25 0 0 0-.25-.25H1.75a.25.25 0 0 0-.25.25ZM11.75 3a.75.75 0 0 1 .75.75v7.5a.75.75 0 0 1-1.5 0v-7.5a.75.75 0 0 1 .75-.75Zm-8.25.75a.75.75 0 0 1 1.5 0v5.5a.75.75 0 0 1-1.5 0ZM8 3a.75.75 0 0 1 .75.75v3.5a.75.75 0 0 1-1.5 0v-3.5A.75.75 0 0 1 8 3Z"></path>
</svg>
</template>

<template id="pencil-icon">
  <svg aria-hidden="true" height="16" viewBox="0 0 16 16" version="1.1" width="16" data-view-component="true" class="octicon octicon-pencil">
    <path d="M11.013 1.427a1.75 1.75 0 0 1 2.474 0l1.086 1.086a1.75 1.75 0 0 1 0 2.474l-8.61 8.61c-.21.21-.47.364-.756.445l-3.251.93a.75.75 0 0 1-.927-.928l.929-3.25c.081-.286.235-.547.445-.758l8.61-8.61Zm.176 4.823L9.75 4.81l-6.286 6.287a.253.253 0 0 0-.064.108l-.558 1.953 1.953-.558a.253.253 0 0 0 .108-.064Zm1.238-3.763a.25.25 0 0 0-.354 0L10.811 3.75l1.439 1.44 1.263-1.263a.25.25 0 0 0 0-.354Z"></path>
</svg>
</template>

<qbsearch-input class="search-input" data-scope="repo:ContentUpgrad/Convolutional-Neural-Network-Industry-Applications" data-custom-scopes-path="/search/custom_scopes" data-delete-custom-scopes-csrf="QY3GDUtsfrgc44dN-_KH49Wa7LzBMxq4ra84aTfgl4kPqkz5BEfOyRQXpOWgLUw9qAixKo1ev2Kaw_vDlAlW0w" data-max-custom-scopes="10" data-header-redesign-enabled="false" data-initial-value="" data-blackbird-suggestions-path="/search/suggestions" data-jump-to-suggestions-path="/_graphql/GetSuggestedNavigationDestinations" data-current-repository="ContentUpgrad/Convolutional-Neural-Network-Industry-Applications" data-current-org="" data-current-owner="ContentUpgrad">
  <div
    class="search-input-container search-with-dialog position-relative d-flex flex-row flex-items-center mr-4 rounded"
    data-action="click:qbsearch-input#searchInputContainerClicked"
  >
      <button
        type="button"
        class="header-search-button placeholder  input-button form-control d-flex flex-1 flex-self-stretch flex-items-center no-wrap width-full py-0 pl-2 pr-0 text-left border-0 box-shadow-none"
        data-target="qbsearch-input.inputButton"
        placeholder="Search or jump to..."
        data-hotkey=s,/
        autocapitalize="off"
        data-action="click:qbsearch-input#handleExpand"
      >
        <div class="mr-2 color-fg-muted">
          <svg aria-hidden="true" height="16" viewBox="0 0 16 16" version="1.1" width="16" data-view-component="true" class="octicon octicon-search">
    <path d="M10.68 11.74a6 6 0 0 1-7.922-8.982 6 6 0 0 1 8.982 7.922l3.04 3.04a.749.749 0 0 1-.326 1.275.749.749 0 0 1-.734-.215ZM11.5 7a4.499 4.499 0 1 0-8.997 0A4.499 4.499 0 0 0 11.5 7Z"></path>
</svg>
        </div>
        <span class="flex-1" data-target="qbsearch-input.inputButtonText">Search or jump to...</span>
          <div class="d-flex" data-target="qbsearch-input.hotkeyIndicator">
            <svg xmlns="http://www.w3.org/2000/svg" width="22" height="20" aria-hidden="true" class="mr-1"><path fill="none" stroke="#979A9C" opacity=".4" d="M3.5.5h12c1.7 0 3 1.3 3 3v13c0 1.7-1.3 3-3 3h-12c-1.7 0-3-1.3-3-3v-13c0-1.7 1.3-3 3-3z"></path><path fill="#979A9C" d="M11.8 6L8 15.1h-.9L10.8 6h1z"></path></svg>

          </div>
      </button>

    <input type="hidden" name="type" class="js-site-search-type-field">

    
<div class="Overlay--hidden " data-modal-dialog-overlay>
  <modal-dialog data-action="close:qbsearch-input#handleClose cancel:qbsearch-input#handleClose" data-target="qbsearch-input.searchSuggestionsDialog" role="dialog" id="search-suggestions-dialog" aria-modal="true" aria-labelledby="search-suggestions-dialog-header" data-view-component="true" class="Overlay Overlay--width-large Overlay--height-auto">
      <h1 id="search-suggestions-dialog-header" class="sr-only">Search code, repositories, users, issues, pull requests...</h1>
    <div class="Overlay-body Overlay-body--paddingNone">
      
          <div data-view-component="true">        <div class="search-suggestions position-absolute width-full color-shadow-large border color-fg-default color-bg-default overflow-hidden d-flex flex-column query-builder-container"
          style="border-radius: 12px;"
          data-target="qbsearch-input.queryBuilderContainer"
          hidden
        >
          <!-- '"` --><!-- </textarea></xmp> --></option></form><form id="query-builder-test-form" action="" accept-charset="UTF-8" method="get">
  <query-builder data-target="qbsearch-input.queryBuilder" id="query-builder-query-builder-test" data-filter-key=":" data-view-component="true" class="QueryBuilder search-query-builder">
    <div class="FormControl FormControl--fullWidth">
      <label id="query-builder-test-label" for="query-builder-test" class="FormControl-label sr-only">
        Search
      </label>
      <div class="QueryBuilder-StyledInput width-fit" data-target="query-builder.styledInput">
          <span id="query-builder-test-leadingvisual-wrap" class="FormControl-input-leadingVisualWrap QueryBuilder-leadingVisualWrap">
            <svg aria-hidden="true" height="16" viewBox="0 0 16 16" version="1.1" width="16" data-view-component="true" class="octicon octicon-search FormControl-input-leadingVisual">
    <path d="M10.68 11.74a6 6 0 0 1-7.922-8.982 6 6 0 0 1 8.982 7.922l3.04 3.04a.749.749 0 0 1-.326 1.275.749.749 0 0 1-.734-.215ZM11.5 7a4.499 4.499 0 1 0-8.997 0A4.499 4.499 0 0 0 11.5 7Z"></path>
</svg>
          </span>
        <div data-target="query-builder.styledInputContainer" class="QueryBuilder-StyledInputContainer">
          <div
            aria-hidden="true"
            class="QueryBuilder-StyledInputContent"
            data-target="query-builder.styledInputContent"
          ></div>
          <div class="QueryBuilder-InputWrapper">
            <div aria-hidden="true" class="QueryBuilder-Sizer" data-target="query-builder.sizer"></div>
            <input id="query-builder-test" name="query-builder-test" value="" autocomplete="off" type="text" role="combobox" spellcheck="false" aria-expanded="false" data-target="query-builder.input" data-action="
          input:query-builder#inputChange
          blur:query-builder#inputBlur
          keydown:query-builder#inputKeydown
          focus:query-builder#inputFocus
        " data-view-component="true" class="FormControl-input QueryBuilder-Input FormControl-medium" />
          </div>
        </div>
          <span class="sr-only" id="query-builder-test-clear">Clear</span>
          
  <button role="button" id="query-builder-test-clear-button" aria-labelledby="query-builder-test-clear query-builder-test-label" data-target="query-builder.clearButton" data-action="
                click:query-builder#clear
                focus:query-builder#clearButtonFocus
                blur:query-builder#clearButtonBlur
              " variant="small" hidden="hidden" type="button" data-view-component="true" class="Button Button--iconOnly Button--invisible Button--medium mr-1 px-2 py-0 d-flex flex-items-center rounded-1 color-fg-muted">    <svg aria-hidden="true" height="16" viewBox="0 0 16 16" version="1.1" width="16" data-view-component="true" class="octicon octicon-x-circle-fill Button-visual">
    <path d="M2.343 13.657A8 8 0 1 1 13.658 2.343 8 8 0 0 1 2.343 13.657ZM6.03 4.97a.751.751 0 0 0-1.042.018.751.751 0 0 0-.018 1.042L6.94 8 4.97 9.97a.749.749 0 0 0 .326 1.275.749.749 0 0 0 .734-.215L8 9.06l1.97 1.97a.749.749 0 0 0 1.275-.326.749.749 0 0 0-.215-.734L9.06 8l1.97-1.97a.749.749 0 0 0-.326-1.275.749.749 0 0 0-.734.215L8 6.94Z"></path>
</svg>
</button>  

      </div>
      <template id="search-icon">
  <svg aria-hidden="true" height="16" viewBox="0 0 16 16" version="1.1" width="16" data-view-component="true" class="octicon octicon-search">
    <path d="M10.68 11.74a6 6 0 0 1-7.922-8.982 6 6 0 0 1 8.982 7.922l3.04 3.04a.749.749 0 0 1-.326 1.275.749.749 0 0 1-.734-.215ZM11.5 7a4.499 4.499 0 1 0-8.997 0A4.499 4.499 0 0 0 11.5 7Z"></path>
</svg>
</template>

<template id="code-icon">
  <svg aria-hidden="true" height="16" viewBox="0 0 16 16" version="1.1" width="16" data-view-component="true" class="octicon octicon-code">
    <path d="m11.28 3.22 4.25 4.25a.75.75 0 0 1 0 1.06l-4.25 4.25a.749.749 0 0 1-1.275-.326.749.749 0 0 1 .215-.734L13.94 8l-3.72-3.72a.749.749 0 0 1 .326-1.275.749.749 0 0 1 .734.215Zm-6.56 0a.751.751 0 0 1 1.042.018.751.751 0 0 1 .018 1.042L2.06 8l3.72 3.72a.749.749 0 0 1-.326 1.275.749.749 0 0 1-.734-.215L.47 8.53a.75.75 0 0 1 0-1.06Z"></path>
</svg>
</template>

<template id="file-code-icon">
  <svg aria-hidden="true" height="16" viewBox="0 0 16 16" version="1.1" width="16" data-view-component="true" class="octicon octicon-file-code">
    <path d="M4 1.75C4 .784 4.784 0 5.75 0h5.586c.464 0 .909.184 1.237.513l2.914 2.914c.329.328.513.773.513 1.237v8.586A1.75 1.75 0 0 1 14.25 15h-9a.75.75 0 0 1 0-1.5h9a.25.25 0 0 0 .25-.25V6h-2.75A1.75 1.75 0 0 1 10 4.25V1.5H5.75a.25.25 0 0 0-.25.25v2.5a.75.75 0 0 1-1.5 0Zm1.72 4.97a.75.75 0 0 1 1.06 0l2 2a.75.75 0 0 1 0 1.06l-2 2a.749.749 0 0 1-1.275-.326.749.749 0 0 1 .215-.734l1.47-1.47-1.47-1.47a.75.75 0 0 1 0-1.06ZM3.28 7.78 1.81 9.25l1.47 1.47a.751.751 0 0 1-.018 1.042.751.751 0 0 1-1.042.018l-2-2a.75.75 0 0 1 0-1.06l2-2a.751.751 0 0 1 1.042.018.751.751 0 0 1 .018 1.042Zm8.22-6.218V4.25c0 .138.112.25.25.25h2.688l-.011-.013-2.914-2.914-.013-.011Z"></path>
</svg>
</template>

<template id="history-icon">
  <svg aria-hidden="true" height="16" viewBox="0 0 16 16" version="1.1" width="16" data-view-component="true" class="octicon octicon-history">
    <path d="m.427 1.927 1.215 1.215a8.002 8.002 0 1 1-1.6 5.685.75.75 0 1 1 1.493-.154 6.5 6.5 0 1 0 1.18-4.458l1.358 1.358A.25.25 0 0 1 3.896 6H.25A.25.25 0 0 1 0 5.75V2.104a.25.25 0 0 1 .427-.177ZM7.75 4a.75.75 0 0 1 .75.75v2.992l2.028.812a.75.75 0 0 1-.557 1.392l-2.5-1A.751.751 0 0 1 7 8.25v-3.5A.75.75 0 0 1 7.75 4Z"></path>
</svg>
</template>

<template id="repo-icon">
  <svg aria-hidden="true" height="16" viewBox="0 0 16 16" version="1.1" width="16" data-view-component="true" class="octicon octicon-repo">
    <path d="M2 2.5A2.5 2.5 0 0 1 4.5 0h8.75a.75.75 0 0 1 .75.75v12.5a.75.75 0 0 1-.75.75h-2.5a.75.75 0 0 1 0-1.5h1.75v-2h-8a1 1 0 0 0-.714 1.7.75.75 0 1 1-1.072 1.05A2.495 2.495 0 0 1 2 11.5Zm10.5-1h-8a1 1 0 0 0-1 1v6.708A2.486 2.486 0 0 1 4.5 9h8ZM5 12.25a.25.25 0 0 1 .25-.25h3.5a.25.25 0 0 1 .25.25v3.25a.25.25 0 0 1-.4.2l-1.45-1.087a.249.249 0 0 0-.3 0L5.4 15.7a.25.25 0 0 1-.4-.2Z"></path>
</svg>
</template>

<template id="bookmark-icon">
  <svg aria-hidden="true" height="16" viewBox="0 0 16 16" version="1.1" width="16" data-view-component="true" class="octicon octicon-bookmark">
    <path d="M3 2.75C3 1.784 3.784 1 4.75 1h6.5c.966 0 1.75.784 1.75 1.75v11.5a.75.75 0 0 1-1.227.579L8 11.722l-3.773 3.107A.751.751 0 0 1 3 14.25Zm1.75-.25a.25.25 0 0 0-.25.25v9.91l3.023-2.489a.75.75 0 0 1 .954 0l3.023 2.49V2.75a.25.25 0 0 0-.25-.25Z"></path>
</svg>
</template>

<template id="plus-circle-icon">
  <svg aria-hidden="true" height="16" viewBox="0 0 16 16" version="1.1" width="16" data-view-component="true" class="octicon octicon-plus-circle">
    <path d="M8 0a8 8 0 1 1 0 16A8 8 0 0 1 8 0ZM1.5 8a6.5 6.5 0 1 0 13 0 6.5 6.5 0 0 0-13 0Zm7.25-3.25v2.5h2.5a.75.75 0 0 1 0 1.5h-2.5v2.5a.75.75 0 0 1-1.5 0v-2.5h-2.5a.75.75 0 0 1 0-1.5h2.5v-2.5a.75.75 0 0 1 1.5 0Z"></path>
</svg>
</template>

<template id="circle-icon">
  <svg aria-hidden="true" height="16" viewBox="0 0 16 16" version="1.1" width="16" data-view-component="true" class="octicon octicon-dot-fill">
    <path d="M8 4a4 4 0 1 1 0 8 4 4 0 0 1 0-8Z"></path>
</svg>
</template>

<template id="trash-icon">
  <svg aria-hidden="true" height="16" viewBox="0 0 16 16" version="1.1" width="16" data-view-component="true" class="octicon octicon-trash">
    <path d="M11 1.75V3h2.25a.75.75 0 0 1 0 1.5H2.75a.75.75 0 0 1 0-1.5H5V1.75C5 .784 5.784 0 6.75 0h2.5C10.216 0 11 .784 11 1.75ZM4.496 6.675l.66 6.6a.25.25 0 0 0 .249.225h5.19a.25.25 0 0 0 .249-.225l.66-6.6a.75.75 0 0 1 1.492.149l-.66 6.6A1.748 1.748 0 0 1 10.595 15h-5.19a1.75 1.75 0 0 1-1.741-1.575l-.66-6.6a.75.75 0 1 1 1.492-.15ZM6.5 1.75V3h3V1.75a.25.25 0 0 0-.25-.25h-2.5a.25.25 0 0 0-.25.25Z"></path>
</svg>
</template>

<template id="team-icon">
  <svg aria-hidden="true" height="16" viewBox="0 0 16 16" version="1.1" width="16" data-view-component="true" class="octicon octicon-people">
    <path d="M2 5.5a3.5 3.5 0 1 1 5.898 2.549 5.508 5.508 0 0 1 3.034 4.084.75.75 0 1 1-1.482.235 4 4 0 0 0-7.9 0 .75.75 0 0 1-1.482-.236A5.507 5.507 0 0 1 3.102 8.05 3.493 3.493 0 0 1 2 5.5ZM11 4a3.001 3.001 0 0 1 2.22 5.018 5.01 5.01 0 0 1 2.56 3.012.749.749 0 0 1-.885.954.752.752 0 0 1-.549-.514 3.507 3.507 0 0 0-2.522-2.372.75.75 0 0 1-.574-.73v-.352a.75.75 0 0 1 .416-.672A1.5 1.5 0 0 0 11 5.5.75.75 0 0 1 11 4Zm-5.5-.5a2 2 0 1 0-.001 3.999A2 2 0 0 0 5.5 3.5Z"></path>
</svg>
</template>

<template id="project-icon">
  <svg aria-hidden="true" height="16" viewBox="0 0 16 16" version="1.1" width="16" data-view-component="true" class="octicon octicon-project">
    <path d="M1.75 0h12.5C15.216 0 16 .784 16 1.75v12.5A1.75 1.75 0 0 1 14.25 16H1.75A1.75 1.75 0 0 1 0 14.25V1.75C0 .784.784 0 1.75 0ZM1.5 1.75v12.5c0 .138.112.25.25.25h12.5a.25.25 0 0 0 .25-.25V1.75a.25.25 0 0 0-.25-.25H1.75a.25.25 0 0 0-.25.25ZM11.75 3a.75.75 0 0 1 .75.75v7.5a.75.75 0 0 1-1.5 0v-7.5a.75.75 0 0 1 .75-.75Zm-8.25.75a.75.75 0 0 1 1.5 0v5.5a.75.75 0 0 1-1.5 0ZM8 3a.75.75 0 0 1 .75.75v3.5a.75.75 0 0 1-1.5 0v-3.5A.75.75 0 0 1 8 3Z"></path>
</svg>
</template>

<template id="pencil-icon">
  <svg aria-hidden="true" height="16" viewBox="0 0 16 16" version="1.1" width="16" data-view-component="true" class="octicon octicon-pencil">
    <path d="M11.013 1.427a1.75 1.75 0 0 1 2.474 0l1.086 1.086a1.75 1.75 0 0 1 0 2.474l-8.61 8.61c-.21.21-.47.364-.756.445l-3.251.93a.75.75 0 0 1-.927-.928l.929-3.25c.081-.286.235-.547.445-.758l8.61-8.61Zm.176 4.823L9.75 4.81l-6.286 6.287a.253.253 0 0 0-.064.108l-.558 1.953 1.953-.558a.253.253 0 0 0 .108-.064Zm1.238-3.763a.25.25 0 0 0-.354 0L10.811 3.75l1.439 1.44 1.263-1.263a.25.25 0 0 0 0-.354Z"></path>
</svg>
</template>

        <div class="position-relative">
                <ul
                  role="listbox"
                  class="ActionListWrap QueryBuilder-ListWrap"
                  aria-label="Suggestions"
                  data-action="
                    combobox-commit:query-builder#comboboxCommit
                    mousedown:query-builder#resultsMousedown
                  "
                  data-target="query-builder.resultsList"
                  data-persist-list=false
                  id="query-builder-test-results"
                ></ul>
        </div>
    </div>
    <div data-target="query-builder.screenReaderFeedback" aria-live="polite" aria-atomic="true" class="sr-only"></div>
</query-builder></form>
          <div class="d-flex flex-row color-fg-muted px-3 text-small color-bg-default search-feedback-prompt">
            <a target="_blank" href="https://docs.github.com/en/search-github/github-code-search/understanding-github-code-search-syntax" data-view-component="true" class="color-fg-accent text-normal ml-2">
              Search syntax tips
</a>            <div class="d-flex flex-1"></div>
              <button data-action="click:qbsearch-input#showFeedbackDialog" type="button" data-view-component="true" class="Button--link Button--medium Button color-fg-accent text-normal ml-2">    <span class="Button-content">
      <span class="Button-label">Give feedback</span>
    </span>
</button>  
          </div>
        </div>
</div>

    </div>
</modal-dialog></div>
  </div>
  <div data-action="click:qbsearch-input#retract" class="dark-backdrop position-fixed width-full" hidden data-target="qbsearch-input.darkBackdrop"></div>
  <div class="color-fg-default">
    
<div class="Overlay--hidden Overlay-backdrop--center" data-modal-dialog-overlay>
  <modal-dialog data-target="qbsearch-input.feedbackDialog" data-action="close:qbsearch-input#handleDialogClose cancel:qbsearch-input#handleDialogClose" role="dialog" id="feedback-dialog" aria-modal="true" aria-disabled="true" aria-describedby="feedback-dialog-title feedback-dialog-description" data-view-component="true" class="Overlay Overlay-whenNarrow Overlay--size-medium Overlay--motion-scaleFade">
    <div data-view-component="true" class="Overlay-header">
  <div class="Overlay-headerContentWrap">
    <div class="Overlay-titleWrap">
      <h1 class="Overlay-title " id="feedback-dialog-title">
        Provide feedback
      </h1>
    </div>
    <div class="Overlay-actionWrap">
      <button data-close-dialog-id="feedback-dialog" aria-label="Close" type="button" data-view-component="true" class="close-button Overlay-closeButton"><svg aria-hidden="true" height="16" viewBox="0 0 16 16" version="1.1" width="16" data-view-component="true" class="octicon octicon-x">
    <path d="M3.72 3.72a.75.75 0 0 1 1.06 0L8 6.94l3.22-3.22a.749.749 0 0 1 1.275.326.749.749 0 0 1-.215.734L9.06 8l3.22 3.22a.749.749 0 0 1-.326 1.275.749.749 0 0 1-.734-.215L8 9.06l-3.22 3.22a.751.751 0 0 1-1.042-.018.751.751 0 0 1-.018-1.042L6.94 8 3.72 4.78a.75.75 0 0 1 0-1.06Z"></path>
</svg></button>
    </div>
  </div>
</div>
      <div data-view-component="true" class="Overlay-body">        <!-- '"` --><!-- </textarea></xmp> --></option></form><form id="code-search-feedback-form" data-turbo="false" action="/search/feedback" accept-charset="UTF-8" method="post"><input type="hidden" name="authenticity_token" value="_Z_DqbpWeR66T9AQKHM7tVdoB6i2caxDs2dFX2FPHNXmIZ-CBdjWyF-3M5erqYgEI5EfgRss8owAqP-VXTVWhQ" />
          <p>We read every piece of feedback, and take your input very seriously.</p>
          <textarea name="feedback" class="form-control width-full mb-2" style="height: 120px" id="feedback"></textarea>
          <input name="include_email" id="include_email" aria-label="Include my email address so I can be contacted" class="form-control mr-2" type="checkbox">
          <label for="include_email" style="font-weight: normal">Include my email address so I can be contacted</label>
</form></div>
      <div data-view-component="true" class="Overlay-footer Overlay-footer--alignEnd">          <button data-close-dialog-id="feedback-dialog" type="button" data-view-component="true" class="btn">    Cancel
</button>
          <button form="code-search-feedback-form" data-action="click:qbsearch-input#submitFeedback" type="submit" data-view-component="true" class="btn-primary btn">    Submit feedback
</button>
</div>
</modal-dialog></div>

    <custom-scopes data-target="qbsearch-input.customScopesManager">
    
<div class="Overlay--hidden Overlay-backdrop--center" data-modal-dialog-overlay>
  <modal-dialog data-target="custom-scopes.customScopesModalDialog" data-action="close:qbsearch-input#handleDialogClose cancel:qbsearch-input#handleDialogClose" role="dialog" id="custom-scopes-dialog" aria-modal="true" aria-disabled="true" aria-describedby="custom-scopes-dialog-title custom-scopes-dialog-description" data-view-component="true" class="Overlay Overlay-whenNarrow Overlay--size-medium Overlay--motion-scaleFade">
    <div data-view-component="true" class="Overlay-header Overlay-header--divided">
  <div class="Overlay-headerContentWrap">
    <div class="Overlay-titleWrap">
      <h1 class="Overlay-title " id="custom-scopes-dialog-title">
        Saved searches
      </h1>
        <h2 id="custom-scopes-dialog-description" class="Overlay-description">Use saved searches to filter your results more quickly</h2>
    </div>
    <div class="Overlay-actionWrap">
      <button data-close-dialog-id="custom-scopes-dialog" aria-label="Close" type="button" data-view-component="true" class="close-button Overlay-closeButton"><svg aria-hidden="true" height="16" viewBox="0 0 16 16" version="1.1" width="16" data-view-component="true" class="octicon octicon-x">
    <path d="M3.72 3.72a.75.75 0 0 1 1.06 0L8 6.94l3.22-3.22a.749.749 0 0 1 1.275.326.749.749 0 0 1-.215.734L9.06 8l3.22 3.22a.749.749 0 0 1-.326 1.275.749.749 0 0 1-.734-.215L8 9.06l-3.22 3.22a.751.751 0 0 1-1.042-.018.751.751 0 0 1-.018-1.042L6.94 8 3.72 4.78a.75.75 0 0 1 0-1.06Z"></path>
</svg></button>
    </div>
  </div>
</div>
      <div data-view-component="true" class="Overlay-body">        <div data-target="custom-scopes.customScopesModalDialogFlash"></div>

        <div hidden class="create-custom-scope-form" data-target="custom-scopes.createCustomScopeForm">
        <!-- '"` --><!-- </textarea></xmp> --></option></form><form id="custom-scopes-dialog-form" data-turbo="false" action="/search/custom_scopes" accept-charset="UTF-8" method="post"><input type="hidden" name="authenticity_token" value="exRs2FKky5EaWw1cn9lhlvviQw-fsWx6KWXuCAdh0ezqSOSIiK2vuMw5Lz7yS42Yl6l6P9vaY46ziQujpliHTQ" />
          <div data-target="custom-scopes.customScopesModalDialogFlash"></div>

          <input type="hidden" id="custom_scope_id" name="custom_scope_id" data-target="custom-scopes.customScopesIdField">

          <div class="form-group">
            <label for="custom_scope_name">Name</label>
            <auto-check src="/search/custom_scopes/check_name" required>
              <input
                type="text"
                name="custom_scope_name"
                id="custom_scope_name"
                data-target="custom-scopes.customScopesNameField"
                class="form-control"
                autocomplete="off"
                placeholder="github-ruby"
                required
                maxlength="50">
              <input type="hidden" value="vy5pPMMqY6IHNzkvU895tcpil4xYTeGOIRDwqhoperrZwYVxneZ3ZgCX6_hBFyArQYIZ7D7RHKi_0BOitU5CcA" data-csrf="true" />
            </auto-check>
          </div>

          <div class="form-group">
            <label for="custom_scope_query">Query</label>
            <input
              type="text"
              name="custom_scope_query"
              id="custom_scope_query"
              data-target="custom-scopes.customScopesQueryField"
              class="form-control"
              autocomplete="off"
              placeholder="(repo:mona/a OR repo:mona/b) AND lang:python"
              required
              maxlength="500">
          </div>

          <p class="text-small color-fg-muted">
            To see all available qualifiers, see our <a href="https://docs.github.com/en/search-github/github-code-search/understanding-github-code-search-syntax">documentation</a>.
          </p>
</form>        </div>

        <div data-target="custom-scopes.manageCustomScopesForm">
          <div data-target="custom-scopes.list"></div>
        </div>

</div>
      <div data-view-component="true" class="Overlay-footer Overlay-footer--alignEnd Overlay-footer--divided">          <button data-action="click:custom-scopes#customScopesCancel" type="button" data-view-component="true" class="btn">    Cancel
</button>
          <button form="custom-scopes-dialog-form" data-action="click:custom-scopes#customScopesSubmit" data-target="custom-scopes.customScopesSubmitButton" type="submit" data-view-component="true" class="btn-primary btn">    Create saved search
</button>
</div>
</modal-dialog></div>
    </custom-scopes>
  </div>
</qbsearch-input><input type="hidden" value="Zrlqc9vuf2QsIQivo722mmSZ_TtqSW_ljGF57XVNe-Q3gc5Ah4vvIMwf43SXEFVHo_o_F3N51DoPFiFCAChG_A" data-csrf="true" class="js-data-jump-to-suggestions-path-csrf" />

        <nav id="global-nav" class="d-flex flex-column flex-md-row flex-self-stretch flex-md-self-auto" aria-label="Global">
    <a class="Header-link py-md-3 d-block d-md-none py-2 border-top border-md-top-0 border-white-fade" data-ga-click="Header, click, Nav menu - item:dashboard:user" aria-label="Dashboard" data-turbo="false" href="/dashboard">Dashboard</a>

  <a class="js-selected-navigation-item Header-link mt-md-n3 mb-md-n3 py-2 py-md-3 mr-0 mr-md-3 border-top border-md-top-0 border-white-fade" data-hotkey="g p" data-ga-click="Header, click, Nav menu - item:pulls context:user" aria-label="Pull requests you created" data-turbo="false" data-selected-links="/pulls /pulls/assigned /pulls/mentioned /pulls" href="/pulls">
      Pull<span class="d-inline d-md-none d-lg-inline"> request</span>s
</a>
  <a class="js-selected-navigation-item Header-link mt-md-n3 mb-md-n3 py-2 py-md-3 mr-0 mr-md-3 border-top border-md-top-0 border-white-fade" data-hotkey="g i" data-ga-click="Header, click, Nav menu - item:issues context:user" aria-label="Issues you created" data-turbo="false" data-selected-links="/issues /issues/assigned /issues/mentioned /issues" href="/issues">Issues</a>

      <a class="js-selected-navigation-item Header-link mt-md-n3 mb-md-n3 py-2 py-md-3 mr-0 mr-md-3 border-top border-md-top-0 border-white-fade" data-ga-click="Header, click, Nav menu - item:workspaces context:user" data-turbo="false" data-selected-links="/codespaces /codespaces" href="/codespaces">Codespaces</a>

    <div class="d-flex position-relative">
      <a class="js-selected-navigation-item Header-link flex-auto mt-md-n3 mb-md-n3 py-2 py-md-3 mr-0 mr-md-3 border-top border-md-top-0 border-white-fade" data-ga-click="Header, click, Nav menu - item:marketplace context:user" data-octo-click="marketplace_click" data-octo-dimensions="location:nav_bar" data-turbo="false" data-selected-links=" /marketplace" href="/marketplace">Marketplace</a>
    </div>

  <a class="js-selected-navigation-item Header-link mt-md-n3 mb-md-n3 py-2 py-md-3 mr-0 mr-md-3 border-top border-md-top-0 border-white-fade" data-ga-click="Header, click, Nav menu - item:explore" data-turbo="false" data-selected-links="/explore /trending /trending/developers /integrations /integrations/feature/code /integrations/feature/collaborate /integrations/feature/ship showcases showcases_search showcases_landing /explore" href="/explore">Explore</a>

      <a class="js-selected-navigation-item Header-link d-block d-md-none py-2 py-md-3 border-top border-md-top-0 border-white-fade" data-ga-click="Header, click, Nav menu - item:Sponsors" data-hydro-click="{&quot;event_type&quot;:&quot;sponsors.button_click&quot;,&quot;payload&quot;:{&quot;button&quot;:&quot;HEADER_SPONSORS_DASHBOARD&quot;,&quot;sponsorable_login&quot;:&quot;krishnajiraoh&quot;,&quot;originating_url&quot;:&quot;https://github.com/ContentUpgrad/Convolutional-Neural-Network-Industry-Applications/blob/main/Using-CNNs-with-X-ray-Images/Working_With_Chest_XRay_Images-.ipynb&quot;,&quot;user_id&quot;:10133554}}" data-hydro-click-hmac="171142b5c3b491ae98200e214c96de2f8e12b9aaee6fe82800c33c05b7f596ee" data-turbo="false" data-selected-links=" /sponsors/accounts" href="/sponsors/accounts">Sponsors</a>

    <a class="Header-link d-block d-md-none mr-0 mr-md-3 py-2 py-md-3 border-top border-md-top-0 border-white-fade" data-turbo="false" href="/settings/profile">Settings</a>

    <a class="Header-link d-block d-md-none mr-0 mr-md-3 py-2 py-md-3 border-top border-md-top-0 border-white-fade" data-turbo="false" href="/krishnajiraoh">
      <img class="avatar avatar-user" loading="lazy" decoding="async" src="https://avatars.githubusercontent.com/u/10133554?s=40&amp;v=4" width="20" height="20" alt="@krishnajiraoh" />
      krishnajiraoh
</a>
    <!-- '"` --><!-- </textarea></xmp> --></option></form><form data-turbo="false" action="/logout" accept-charset="UTF-8" method="post"><input type="hidden" name="authenticity_token" value="AoRBq79KViQPU7LY1CMdnY0Y4mdrjDOcA8yMPxWjvDIJ7FaWXHUpVOQyZKJVUR_eYcZjgzf5ZRJzTzvO1UQ_qw" />
      <button
        type="submit"
        class="Header-link mr-0 mr-md-3 py-2 py-md-3 border-top border-md-top-0 border-white-fade d-md-none btn-link d-block width-full text-left"
        style="padding-left: 2px;"
        data-analytics-event="{&quot;category&quot;:&quot;Header&quot;,&quot;action&quot;:&quot;sign out&quot;,&quot;label&quot;:&quot;icon:logout&quot;}"
      >
        <svg aria-hidden="true" height="16" viewBox="0 0 16 16" version="1.1" width="16" data-view-component="true" class="octicon octicon-sign-out v-align-middle">
    <path d="M2 2.75C2 1.784 2.784 1 3.75 1h2.5a.75.75 0 0 1 0 1.5h-2.5a.25.25 0 0 0-.25.25v10.5c0 .138.112.25.25.25h2.5a.75.75 0 0 1 0 1.5h-2.5A1.75 1.75 0 0 1 2 13.25Zm10.44 4.5-1.97-1.97a.749.749 0 0 1 .326-1.275.749.749 0 0 1 .734.215l3.25 3.25a.75.75 0 0 1 0 1.06l-3.25 3.25a.749.749 0 0 1-1.275-.326.749.749 0 0 1 .215-.734l1.97-1.97H6.75a.75.75 0 0 1 0-1.5Z"></path>
</svg>
        Sign out
      </button>
</form></nav>

    </div>

    <div class="Header-item Header-item--full flex-justify-center d-md-none position-relative">
        <a
  class="Header-link"
  href="https://github.com/"
  data-hotkey="g d"
  aria-label="Homepage "
  data-turbo="false"
  data-analytics-event="{&quot;category&quot;:&quot;Header&quot;,&quot;action&quot;:&quot;go to dashboard&quot;,&quot;label&quot;:&quot;icon:logo&quot;}"
>
  <svg height="32" aria-hidden="true" viewBox="0 0 16 16" version="1.1" width="32" data-view-component="true" class="octicon octicon-mark-github v-align-middle">
    <path d="M8 0c4.42 0 8 3.58 8 8a8.013 8.013 0 0 1-5.45 7.59c-.4.08-.55-.17-.55-.38 0-.27.01-1.13.01-2.2 0-.75-.25-1.23-.54-1.48 1.78-.2 3.65-.88 3.65-3.95 0-.88-.31-1.59-.82-2.15.08-.2.36-1.02-.08-2.12 0 0-.67-.22-2.2.82-.64-.18-1.32-.27-2-.27-.68 0-1.36.09-2 .27-1.53-1.03-2.2-.82-2.2-.82-.44 1.1-.16 1.92-.08 2.12-.51.56-.82 1.28-.82 2.15 0 3.06 1.86 3.75 3.64 3.95-.23.2-.44.55-.51 1.07-.46.21-1.61.55-2.33-.66-.15-.24-.6-.83-1.23-.82-.67.01-.27.38.01.53.34.19.73.9.82 1.13.16.45.68 1.31 2.69.94 0 .67.01 1.3.01 1.49 0 .21-.15.45-.55.38A7.995 7.995 0 0 1 0 8c0-4.42 3.58-8 8-8Z"></path>
</svg>
</a>

    </div>

    <div class="Header-item mr-0 mr-md-3 flex-order-1 flex-md-order-none">
        

<notification-indicator data-channel="eyJjIjoibm90aWZpY2F0aW9uLWNoYW5nZWQ6MTAxMzM1NTQiLCJ0IjoxNjgzNTcyMzc2fQ==--81c2e9b3920c5d314fedbbbb0c1802970ca1eb31a96b41d4b90a2bfec47dc6d5" data-indicator-mode="none" data-tooltip-global="You have unread notifications" data-tooltip-unavailable="Notifications are unavailable at the moment." data-tooltip-none="You have no unread notifications" data-fetch-indicator-src="/notifications/indicator" data-fetch-indicator-enabled="true" data-view-component="true" class="js-socket-channel">
  <a id="AppHeader-notifications-button" href="/notifications"
    class="Header-link notification-indicator position-relative tooltipped tooltipped-sw"

    

    data-hotkey="g n"
    data-target="notification-indicator.link"
    aria-label="Notifications"

      data-analytics-event="{&quot;category&quot;:&quot;Header&quot;,&quot;action&quot;:&quot;go to notifications&quot;,&quot;label&quot;:&quot;icon:read&quot;}"
  >

    <span
      data-target="notification-indicator.badge"
      class="mail-status unread" hidden>
    </span>

      <svg aria-hidden="true" height="16" viewBox="0 0 16 16" version="1.1" width="16" data-view-component="true" class="octicon octicon-bell">
    <path d="M8 16a2 2 0 0 0 1.985-1.75c.017-.137-.097-.25-.235-.25h-3.5c-.138 0-.252.113-.235.25A2 2 0 0 0 8 16ZM3 5a5 5 0 0 1 10 0v2.947c0 .05.015.098.042.139l1.703 2.555A1.519 1.519 0 0 1 13.482 13H2.518a1.516 1.516 0 0 1-1.263-2.36l1.703-2.554A.255.255 0 0 0 3 7.947Zm5-3.5A3.5 3.5 0 0 0 4.5 5v2.947c0 .346-.102.683-.294.97l-1.703 2.556a.017.017 0 0 0-.003.01l.001.006c0 .002.002.004.004.006l.006.004.007.001h10.964l.007-.001.006-.004.004-.006.001-.007a.017.017 0 0 0-.003-.01l-1.703-2.554a1.745 1.745 0 0 1-.294-.97V5A3.5 3.5 0 0 0 8 1.5Z"></path>
</svg>
  </a>

</notification-indicator>
    </div>


    <div class="Header-item position-relative d-none d-md-flex">
        <details class="details-overlay details-reset">
  <summary
    class="Header-link"
    aria-label="Create new…"
    data-analytics-event="{&quot;category&quot;:&quot;Header&quot;,&quot;action&quot;:&quot;create new&quot;,&quot;label&quot;:&quot;icon:add&quot;}"
  >
    <svg aria-hidden="true" height="16" viewBox="0 0 16 16" version="1.1" width="16" data-view-component="true" class="octicon octicon-plus">
    <path d="M7.75 2a.75.75 0 0 1 .75.75V7h4.25a.75.75 0 0 1 0 1.5H8.5v4.25a.75.75 0 0 1-1.5 0V8.5H2.75a.75.75 0 0 1 0-1.5H7V2.75A.75.75 0 0 1 7.75 2Z"></path>
</svg> <span class="dropdown-caret"></span>
  </summary>
  <details-menu class="dropdown-menu dropdown-menu-sw">
    
<a role="menuitem" class="dropdown-item" href="/new" data-ga-click="Header, create new repository">
  New repository
</a>

  <a role="menuitem" class="dropdown-item" href="/new/import" data-ga-click="Header, import a repository">
    Import repository
  </a>

  <a role="menuitem" class="dropdown-item" href="/codespaces/new">
    New codespace
  </a>

<a role="menuitem" class="dropdown-item" href="https://gist.github.com/" data-ga-click="Header, create new gist">
  New gist
</a>

  <a role="menuitem" class="dropdown-item" href="/organizations/new" data-ga-click="Header, create new organization">
    New organization
  </a>



  </details-menu>
</details>

    </div>

    <div class="Header-item position-relative mr-0 d-none d-md-flex">
        
  <details class="details-overlay details-reset js-feature-preview-indicator-container" data-feature-preview-indicator-src="/users/krishnajiraoh/feature_preview/indicator_check">

  <summary
    class="Header-link"
    aria-label="View profile and more"
    data-analytics-event="{&quot;category&quot;:&quot;Header&quot;,&quot;action&quot;:&quot;show menu&quot;,&quot;label&quot;:&quot;icon:avatar&quot;}"
  >
    <img src="https://avatars.githubusercontent.com/u/10133554?s=40&amp;v=4" alt="@krishnajiraoh" size="20" height="20" width="20" data-view-component="true" class="avatar avatar-small circle" />
      <span class="unread-indicator js-feature-preview-indicator" style="top: 1px;" hidden></span>
    <span class="dropdown-caret"></span>
  </summary>
  <details-menu
      class="dropdown-menu dropdown-menu-sw"
      style="width: 180px"
      
      preload>
      <include-fragment src="/users/10133554/menu" loading="lazy">
        <p class="text-center mt-3" data-hide-on-error>
          <svg style="box-sizing: content-box; color: var(--color-icon-primary);" width="32" height="32" viewBox="0 0 16 16" fill="none" data-view-component="true" class="anim-rotate">
  <circle cx="8" cy="8" r="7" stroke="currentColor" stroke-opacity="0.25" stroke-width="2" vector-effect="non-scaling-stroke" />
  <path d="M15 8a7.002 7.002 0 00-7-7" stroke="currentColor" stroke-width="2" stroke-linecap="round" vector-effect="non-scaling-stroke" />
</svg>
        </p>
        <p class="ml-1 mb-2 mt-2 color-fg-default" data-show-on-error>
          <svg aria-hidden="true" height="16" viewBox="0 0 16 16" version="1.1" width="16" data-view-component="true" class="octicon octicon-alert">
    <path d="M6.457 1.047c.659-1.234 2.427-1.234 3.086 0l6.082 11.378A1.75 1.75 0 0 1 14.082 15H1.918a1.75 1.75 0 0 1-1.543-2.575Zm1.763.707a.25.25 0 0 0-.44 0L1.698 13.132a.25.25 0 0 0 .22.368h12.164a.25.25 0 0 0 .22-.368Zm.53 3.996v2.5a.75.75 0 0 1-1.5 0v-2.5a.75.75 0 0 1 1.5 0ZM9 11a1 1 0 1 1-2 0 1 1 0 0 1 2 0Z"></path>
</svg>
          Sorry, something went wrong.
        </p>
      </include-fragment>
  </details-menu>
</details>

    </div>
</header>

          
    </div>

  <div id="start-of-content" class="show-on-focus"></div>







    <div id="js-flash-container" data-turbo-replace>





  <template class="js-flash-template">
    
<div class="flash flash-full   {{ className }}">
  <div class="px-2" >
    <button autofocus class="flash-close js-flash-close" type="button" aria-label="Dismiss this message">
      <svg aria-hidden="true" height="16" viewBox="0 0 16 16" version="1.1" width="16" data-view-component="true" class="octicon octicon-x">
    <path d="M3.72 3.72a.75.75 0 0 1 1.06 0L8 6.94l3.22-3.22a.749.749 0 0 1 1.275.326.749.749 0 0 1-.215.734L9.06 8l3.22 3.22a.749.749 0 0 1-.326 1.275.749.749 0 0 1-.734-.215L8 9.06l-3.22 3.22a.751.751 0 0 1-1.042-.018.751.751 0 0 1-.018-1.042L6.94 8 3.72 4.78a.75.75 0 0 1 0-1.06Z"></path>
</svg>
    </button>
    <div aria-atomic="true" role="alert" class="js-flash-alert">
      
      <div>{{ message }}</div>

    </div>
  </div>
</div>
  </template>
</div>


    
    <notification-shelf-watcher data-base-url="https://github.com/notifications/beta/shelf" data-channel="eyJjIjoibm90aWZpY2F0aW9uLWNoYW5nZWQ6MTAxMzM1NTQiLCJ0IjoxNjgzNTcyMzc2fQ==--81c2e9b3920c5d314fedbbbb0c1802970ca1eb31a96b41d4b90a2bfec47dc6d5" data-view-component="true" class="js-socket-channel"></notification-shelf-watcher>
  <div hidden data-initial data-target="notification-shelf-watcher.placeholder"></div>






      <details
  class="details-reset details-overlay details-overlay-dark js-command-palette-dialog"
  id="command-palette-pjax-container"
  data-turbo-replace
>
  <summary aria-label="command palette trigger" tabindex="-1"></summary>
  <details-dialog class="command-palette-details-dialog d-flex flex-column flex-justify-center height-fit" aria-label="command palette">
    <command-palette
      class="command-palette color-bg-default rounded-3 border color-shadow-small"
      return-to=/ContentUpgrad/Convolutional-Neural-Network-Industry-Applications/blob/main/Using-CNNs-with-X-ray-Images/Working_With_Chest_XRay_Images-.ipynb
      user-id="10133554"
      activation-hotkey="Mod+k,Mod+Alt+k"
      command-mode-hotkey="Mod+Shift+k"
      data-action="
        command-palette-input-ready:command-palette#inputReady
        command-palette-page-stack-updated:command-palette#updateInputScope
        itemsUpdated:command-palette#itemsUpdated
        keydown:command-palette#onKeydown
        loadingStateChanged:command-palette#loadingStateChanged
        selectedItemChanged:command-palette#selectedItemChanged
        pageFetchError:command-palette#pageFetchError
      ">

        <command-palette-mode
          data-char="#"
            data-scope-types="[&quot;&quot;]"
            data-placeholder="Search issues and pull requests"
        ></command-palette-mode>
        <command-palette-mode
          data-char="#"
            data-scope-types="[&quot;owner&quot;,&quot;repository&quot;]"
            data-placeholder="Search issues, pull requests, discussions, and projects"
        ></command-palette-mode>
        <command-palette-mode
          data-char="!"
            data-scope-types="[&quot;owner&quot;,&quot;repository&quot;]"
            data-placeholder="Search projects"
        ></command-palette-mode>
        <command-palette-mode
          data-char="@"
            data-scope-types="[&quot;&quot;]"
            data-placeholder="Search or jump to a user, organization, or repository"
        ></command-palette-mode>
        <command-palette-mode
          data-char="@"
            data-scope-types="[&quot;owner&quot;]"
            data-placeholder="Search or jump to a repository"
        ></command-palette-mode>
        <command-palette-mode
          data-char="/"
            data-scope-types="[&quot;repository&quot;]"
            data-placeholder="Search files"
        ></command-palette-mode>
        <command-palette-mode
          data-char="?"
        ></command-palette-mode>
        <command-palette-mode
          data-char="&gt;"
            data-placeholder="Run a command"
        ></command-palette-mode>
        <command-palette-mode
          data-char=""
            data-scope-types="[&quot;&quot;]"
            data-placeholder="Search or jump to..."
        ></command-palette-mode>
        <command-palette-mode
          data-char=""
            data-scope-types="[&quot;owner&quot;]"
            data-placeholder="Search or jump to..."
        ></command-palette-mode>
      <command-palette-mode
        class="js-command-palette-default-mode"
        data-char=""
        data-placeholder="Search or jump to..."
      ></command-palette-mode>

      <command-palette-input placeholder="Search or jump to..."

        data-action="
          command-palette-input:command-palette#onInput
          command-palette-select:command-palette#onSelect
          command-palette-descope:command-palette#onDescope
          command-palette-cleared:command-palette#onInputClear
        "
      >
        <div class="js-search-icon d-flex flex-items-center mr-2" style="height: 26px">
          <svg aria-hidden="true" height="16" viewBox="0 0 16 16" version="1.1" width="16" data-view-component="true" class="octicon octicon-search color-fg-muted">
    <path d="M10.68 11.74a6 6 0 0 1-7.922-8.982 6 6 0 0 1 8.982 7.922l3.04 3.04a.749.749 0 0 1-.326 1.275.749.749 0 0 1-.734-.215ZM11.5 7a4.499 4.499 0 1 0-8.997 0A4.499 4.499 0 0 0 11.5 7Z"></path>
</svg>
        </div>
        <div class="js-spinner d-flex flex-items-center mr-2 color-fg-muted" hidden>
          <svg aria-label="Loading" class="anim-rotate" viewBox="0 0 16 16" fill="none" width="16" height="16">
            <circle
              cx="8"
              cy="8"
              r="7"
              stroke="currentColor"
              stroke-opacity="0.25"
              stroke-width="2"
              vector-effect="non-scaling-stroke"
            ></circle>
            <path
              d="M15 8a7.002 7.002 0 00-7-7"
              stroke="currentColor"
              stroke-width="2"
              stroke-linecap="round"
              vector-effect="non-scaling-stroke"
            ></path>
          </svg>
        </div>
        <command-palette-scope >
          <div data-target="command-palette-scope.placeholder" hidden class="color-fg-subtle">/&nbsp;&nbsp;<span class="text-semibold color-fg-default">...</span>&nbsp;&nbsp;/&nbsp;&nbsp;</div>
              <command-palette-token
                data-text="ContentUpgrad"
                data-id="MDQ6VXNlcjgyNjU0NzM2"
                data-type="owner"
                data-value="ContentUpgrad"
                data-targets="command-palette-scope.tokens"
                class="color-fg-default text-semibold"
                style="white-space:nowrap;line-height:20px;"
                >ContentUpgrad<span class="color-fg-subtle text-normal">&nbsp;&nbsp;/&nbsp;&nbsp;</span></command-palette-token>
              <command-palette-token
                data-text="Convolutional-Neural-Network-Industry-Applications"
                data-id="R_kgDOHIWkbA"
                data-type="repository"
                data-value="Convolutional-Neural-Network-Industry-Applications"
                data-targets="command-palette-scope.tokens"
                class="color-fg-default text-semibold"
                style="white-space:nowrap;line-height:20px;"
                >Convolutional-Neu...<span class="color-fg-subtle text-normal">&nbsp;&nbsp;/&nbsp;&nbsp;</span></command-palette-token>
        </command-palette-scope>
        <div class="command-palette-input-group flex-1 form-control border-0 box-shadow-none" style="z-index: 0">
          <div class="command-palette-typeahead position-absolute d-flex flex-items-center Truncate">
            <span class="typeahead-segment input-mirror" data-target="command-palette-input.mirror"></span>
            <span class="Truncate-text" data-target="command-palette-input.typeaheadText"></span>
            <span class="typeahead-segment" data-target="command-palette-input.typeaheadPlaceholder"></span>
          </div>
          <input
            class="js-overlay-input typeahead-input d-none"
            disabled
            tabindex="-1"
            aria-label="Hidden input for typeahead"
          >
          <input
            type="text"
            autocomplete="off"
            autocorrect="off"
            autocapitalize="off"
            spellcheck="false"
            class="js-input typeahead-input form-control border-0 box-shadow-none input-block width-full no-focus-indicator"
            aria-label="Command palette input"
            aria-haspopup="listbox"
            aria-expanded="false"
            aria-autocomplete="list"
            aria-controls="command-palette-page-stack"
            role="combobox"
            data-action="
              input:command-palette-input#onInput
              keydown:command-palette-input#onKeydown
            "
          >
        </div>
          <div data-view-component="true" class="position-relative d-inline-block">
    <button aria-keyshortcuts="Meta+Delete" data-action="click:command-palette-input#onClear keypress:command-palette-input#onClear" data-target="command-palette-input.clearButton" id="command-palette-clear-button" hidden="hidden" type="button" data-view-component="true" class="btn-octicon command-palette-input-clear-button">      <svg aria-hidden="true" height="16" viewBox="0 0 16 16" version="1.1" width="16" data-view-component="true" class="octicon octicon-x-circle-fill">
    <path d="M2.343 13.657A8 8 0 1 1 13.658 2.343 8 8 0 0 1 2.343 13.657ZM6.03 4.97a.751.751 0 0 0-1.042.018.751.751 0 0 0-.018 1.042L6.94 8 4.97 9.97a.749.749 0 0 0 .326 1.275.749.749 0 0 0 .734-.215L8 9.06l1.97 1.97a.749.749 0 0 0 1.275-.326.749.749 0 0 0-.215-.734L9.06 8l1.97-1.97a.749.749 0 0 0-.326-1.275.749.749 0 0 0-.734.215L8 6.94Z"></path>
</svg>
</button>    <tool-tip id="tooltip-224f3203-1380-4c97-8a1d-eea43a0aced2" for="command-palette-clear-button" data-direction="w" data-type="label" data-view-component="true" class="sr-only position-absolute">Clear Command Palette</tool-tip>
</div>
      </command-palette-input>

      <command-palette-page-stack
        data-default-scope-id="R_kgDOHIWkbA"
        data-default-scope-type="Repository"
        data-action="command-palette-page-octicons-cached:command-palette-page-stack#cacheOcticons"
      >
          <command-palette-tip
            class="color-fg-muted f6 px-3 py-1 my-2"
              data-scope-types="[&quot;&quot;,&quot;owner&quot;,&quot;repository&quot;]"
            data-mode=""
            data-value="">
            <div class="d-flex flex-items-start flex-justify-between">
              <div>
                <span class="text-bold">Tip:</span>
                  Type <kbd class="hx_kbd">#</kbd> to search pull requests
              </div>
              <div class="ml-2 flex-shrink-0">
                Type <kbd class="hx_kbd">?</kbd> for help and tips
              </div>
            </div>
          </command-palette-tip>
          <command-palette-tip
            class="color-fg-muted f6 px-3 py-1 my-2"
              data-scope-types="[&quot;&quot;,&quot;owner&quot;,&quot;repository&quot;]"
            data-mode=""
            data-value="">
            <div class="d-flex flex-items-start flex-justify-between">
              <div>
                <span class="text-bold">Tip:</span>
                  Type <kbd class="hx_kbd">#</kbd> to search issues
              </div>
              <div class="ml-2 flex-shrink-0">
                Type <kbd class="hx_kbd">?</kbd> for help and tips
              </div>
            </div>
          </command-palette-tip>
          <command-palette-tip
            class="color-fg-muted f6 px-3 py-1 my-2"
              data-scope-types="[&quot;owner&quot;,&quot;repository&quot;]"
            data-mode=""
            data-value="">
            <div class="d-flex flex-items-start flex-justify-between">
              <div>
                <span class="text-bold">Tip:</span>
                  Type <kbd class="hx_kbd">#</kbd> to search discussions
              </div>
              <div class="ml-2 flex-shrink-0">
                Type <kbd class="hx_kbd">?</kbd> for help and tips
              </div>
            </div>
          </command-palette-tip>
          <command-palette-tip
            class="color-fg-muted f6 px-3 py-1 my-2"
              data-scope-types="[&quot;owner&quot;,&quot;repository&quot;]"
            data-mode=""
            data-value="">
            <div class="d-flex flex-items-start flex-justify-between">
              <div>
                <span class="text-bold">Tip:</span>
                  Type <kbd class="hx_kbd">!</kbd> to search projects
              </div>
              <div class="ml-2 flex-shrink-0">
                Type <kbd class="hx_kbd">?</kbd> for help and tips
              </div>
            </div>
          </command-palette-tip>
          <command-palette-tip
            class="color-fg-muted f6 px-3 py-1 my-2"
              data-scope-types="[&quot;owner&quot;]"
            data-mode=""
            data-value="">
            <div class="d-flex flex-items-start flex-justify-between">
              <div>
                <span class="text-bold">Tip:</span>
                  Type <kbd class="hx_kbd">@</kbd> to search teams
              </div>
              <div class="ml-2 flex-shrink-0">
                Type <kbd class="hx_kbd">?</kbd> for help and tips
              </div>
            </div>
          </command-palette-tip>
          <command-palette-tip
            class="color-fg-muted f6 px-3 py-1 my-2"
              data-scope-types="[&quot;&quot;]"
            data-mode=""
            data-value="">
            <div class="d-flex flex-items-start flex-justify-between">
              <div>
                <span class="text-bold">Tip:</span>
                  Type <kbd class="hx_kbd">@</kbd> to search people and organizations
              </div>
              <div class="ml-2 flex-shrink-0">
                Type <kbd class="hx_kbd">?</kbd> for help and tips
              </div>
            </div>
          </command-palette-tip>
          <command-palette-tip
            class="color-fg-muted f6 px-3 py-1 my-2"
              data-scope-types="[&quot;&quot;,&quot;owner&quot;,&quot;repository&quot;]"
            data-mode=""
            data-value="">
            <div class="d-flex flex-items-start flex-justify-between">
              <div>
                <span class="text-bold">Tip:</span>
                  Type <kbd class="hx_kbd">&gt;</kbd> to activate command mode
              </div>
              <div class="ml-2 flex-shrink-0">
                Type <kbd class="hx_kbd">?</kbd> for help and tips
              </div>
            </div>
          </command-palette-tip>
          <command-palette-tip
            class="color-fg-muted f6 px-3 py-1 my-2"
              data-scope-types="[&quot;&quot;,&quot;owner&quot;,&quot;repository&quot;]"
            data-mode=""
            data-value="">
            <div class="d-flex flex-items-start flex-justify-between">
              <div>
                <span class="text-bold">Tip:</span>
                  Go to your accessibility settings to change your keyboard shortcuts
              </div>
              <div class="ml-2 flex-shrink-0">
                Type <kbd class="hx_kbd">?</kbd> for help and tips
              </div>
            </div>
          </command-palette-tip>
          <command-palette-tip
            class="color-fg-muted f6 px-3 py-1 my-2"
              data-scope-types="[&quot;&quot;,&quot;owner&quot;,&quot;repository&quot;]"
            data-mode="#"
            data-value="">
            <div class="d-flex flex-items-start flex-justify-between">
              <div>
                <span class="text-bold">Tip:</span>
                  Type author:@me to search your content
              </div>
              <div class="ml-2 flex-shrink-0">
                Type <kbd class="hx_kbd">?</kbd> for help and tips
              </div>
            </div>
          </command-palette-tip>
          <command-palette-tip
            class="color-fg-muted f6 px-3 py-1 my-2"
              data-scope-types="[&quot;&quot;,&quot;owner&quot;,&quot;repository&quot;]"
            data-mode="#"
            data-value="">
            <div class="d-flex flex-items-start flex-justify-between">
              <div>
                <span class="text-bold">Tip:</span>
                  Type is:pr to filter to pull requests
              </div>
              <div class="ml-2 flex-shrink-0">
                Type <kbd class="hx_kbd">?</kbd> for help and tips
              </div>
            </div>
          </command-palette-tip>
          <command-palette-tip
            class="color-fg-muted f6 px-3 py-1 my-2"
              data-scope-types="[&quot;&quot;,&quot;owner&quot;,&quot;repository&quot;]"
            data-mode="#"
            data-value="">
            <div class="d-flex flex-items-start flex-justify-between">
              <div>
                <span class="text-bold">Tip:</span>
                  Type is:issue to filter to issues
              </div>
              <div class="ml-2 flex-shrink-0">
                Type <kbd class="hx_kbd">?</kbd> for help and tips
              </div>
            </div>
          </command-palette-tip>
          <command-palette-tip
            class="color-fg-muted f6 px-3 py-1 my-2"
              data-scope-types="[&quot;owner&quot;,&quot;repository&quot;]"
            data-mode="#"
            data-value="">
            <div class="d-flex flex-items-start flex-justify-between">
              <div>
                <span class="text-bold">Tip:</span>
                  Type is:project to filter to projects
              </div>
              <div class="ml-2 flex-shrink-0">
                Type <kbd class="hx_kbd">?</kbd> for help and tips
              </div>
            </div>
          </command-palette-tip>
          <command-palette-tip
            class="color-fg-muted f6 px-3 py-1 my-2"
              data-scope-types="[&quot;&quot;,&quot;owner&quot;,&quot;repository&quot;]"
            data-mode="#"
            data-value="">
            <div class="d-flex flex-items-start flex-justify-between">
              <div>
                <span class="text-bold">Tip:</span>
                  Type is:open to filter to open content
              </div>
              <div class="ml-2 flex-shrink-0">
                Type <kbd class="hx_kbd">?</kbd> for help and tips
              </div>
            </div>
          </command-palette-tip>
        <command-palette-tip class="mx-3 my-2 flash flash-error d-flex flex-items-center" data-scope-types="*" data-on-error>
          <div>
            <svg aria-hidden="true" height="16" viewBox="0 0 16 16" version="1.1" width="16" data-view-component="true" class="octicon octicon-alert">
    <path d="M6.457 1.047c.659-1.234 2.427-1.234 3.086 0l6.082 11.378A1.75 1.75 0 0 1 14.082 15H1.918a1.75 1.75 0 0 1-1.543-2.575Zm1.763.707a.25.25 0 0 0-.44 0L1.698 13.132a.25.25 0 0 0 .22.368h12.164a.25.25 0 0 0 .22-.368Zm.53 3.996v2.5a.75.75 0 0 1-1.5 0v-2.5a.75.75 0 0 1 1.5 0ZM9 11a1 1 0 1 1-2 0 1 1 0 0 1 2 0Z"></path>
</svg>
          </div>
          <div class="px-2">
            We’ve encountered an error and some results aren't available at this time. Type a new search or try again later.
          </div>
        </command-palette-tip>
        <command-palette-tip class="h4 color-fg-default pl-3 pb-2 pt-3" data-on-empty data-scope-types="*" data-match-mode="[^?]|^$">
          No results matched your search
        </command-palette-tip>

        <div hidden>

            <div data-targets="command-palette-page-stack.localOcticons" data-octicon-id="arrow-right-color-fg-muted">
              <svg height="16" class="octicon octicon-arrow-right color-fg-muted" viewBox="0 0 16 16" version="1.1" width="16" aria-hidden="true"><path d="M8.22 2.97a.75.75 0 0 1 1.06 0l4.25 4.25a.75.75 0 0 1 0 1.06l-4.25 4.25a.751.751 0 0 1-1.042-.018.751.751 0 0 1-.018-1.042l2.97-2.97H3.75a.75.75 0 0 1 0-1.5h7.44L8.22 4.03a.75.75 0 0 1 0-1.06Z"></path></svg>
            </div>
            <div data-targets="command-palette-page-stack.localOcticons" data-octicon-id="arrow-right-color-fg-default">
              <svg height="16" class="octicon octicon-arrow-right color-fg-default" viewBox="0 0 16 16" version="1.1" width="16" aria-hidden="true"><path d="M8.22 2.97a.75.75 0 0 1 1.06 0l4.25 4.25a.75.75 0 0 1 0 1.06l-4.25 4.25a.751.751 0 0 1-1.042-.018.751.751 0 0 1-.018-1.042l2.97-2.97H3.75a.75.75 0 0 1 0-1.5h7.44L8.22 4.03a.75.75 0 0 1 0-1.06Z"></path></svg>
            </div>
            <div data-targets="command-palette-page-stack.localOcticons" data-octicon-id="codespaces-color-fg-muted">
              <svg height="16" class="octicon octicon-codespaces color-fg-muted" viewBox="0 0 16 16" version="1.1" width="16" aria-hidden="true"><path d="M0 11.25c0-.966.784-1.75 1.75-1.75h12.5c.966 0 1.75.784 1.75 1.75v3A1.75 1.75 0 0 1 14.25 16H1.75A1.75 1.75 0 0 1 0 14.25Zm2-9.5C2 .784 2.784 0 3.75 0h8.5C13.216 0 14 .784 14 1.75v5a1.75 1.75 0 0 1-1.75 1.75h-8.5A1.75 1.75 0 0 1 2 6.75Zm1.75-.25a.25.25 0 0 0-.25.25v5c0 .138.112.25.25.25h8.5a.25.25 0 0 0 .25-.25v-5a.25.25 0 0 0-.25-.25Zm-2 9.5a.25.25 0 0 0-.25.25v3c0 .138.112.25.25.25h12.5a.25.25 0 0 0 .25-.25v-3a.25.25 0 0 0-.25-.25Z"></path><path d="M7 12.75a.75.75 0 0 1 .75-.75h4.5a.75.75 0 0 1 0 1.5h-4.5a.75.75 0 0 1-.75-.75Zm-4 0a.75.75 0 0 1 .75-.75h.5a.75.75 0 0 1 0 1.5h-.5a.75.75 0 0 1-.75-.75Z"></path></svg>
            </div>
            <div data-targets="command-palette-page-stack.localOcticons" data-octicon-id="copy-color-fg-muted">
              <svg height="16" class="octicon octicon-copy color-fg-muted" viewBox="0 0 16 16" version="1.1" width="16" aria-hidden="true"><path d="M0 6.75C0 5.784.784 5 1.75 5h1.5a.75.75 0 0 1 0 1.5h-1.5a.25.25 0 0 0-.25.25v7.5c0 .138.112.25.25.25h7.5a.25.25 0 0 0 .25-.25v-1.5a.75.75 0 0 1 1.5 0v1.5A1.75 1.75 0 0 1 9.25 16h-7.5A1.75 1.75 0 0 1 0 14.25Z"></path><path d="M5 1.75C5 .784 5.784 0 6.75 0h7.5C15.216 0 16 .784 16 1.75v7.5A1.75 1.75 0 0 1 14.25 11h-7.5A1.75 1.75 0 0 1 5 9.25Zm1.75-.25a.25.25 0 0 0-.25.25v7.5c0 .138.112.25.25.25h7.5a.25.25 0 0 0 .25-.25v-7.5a.25.25 0 0 0-.25-.25Z"></path></svg>
            </div>
            <div data-targets="command-palette-page-stack.localOcticons" data-octicon-id="dash-color-fg-muted">
              <svg height="16" class="octicon octicon-dash color-fg-muted" viewBox="0 0 16 16" version="1.1" width="16" aria-hidden="true"><path d="M2 7.75A.75.75 0 0 1 2.75 7h10a.75.75 0 0 1 0 1.5h-10A.75.75 0 0 1 2 7.75Z"></path></svg>
            </div>
            <div data-targets="command-palette-page-stack.localOcticons" data-octicon-id="file-color-fg-muted">
              <svg height="16" class="octicon octicon-file color-fg-muted" viewBox="0 0 16 16" version="1.1" width="16" aria-hidden="true"><path d="M2 1.75C2 .784 2.784 0 3.75 0h6.586c.464 0 .909.184 1.237.513l2.914 2.914c.329.328.513.773.513 1.237v9.586A1.75 1.75 0 0 1 13.25 16h-9.5A1.75 1.75 0 0 1 2 14.25Zm1.75-.25a.25.25 0 0 0-.25.25v12.5c0 .138.112.25.25.25h9.5a.25.25 0 0 0 .25-.25V6h-2.75A1.75 1.75 0 0 1 9 4.25V1.5Zm6.75.062V4.25c0 .138.112.25.25.25h2.688l-.011-.013-2.914-2.914-.013-.011Z"></path></svg>
            </div>
            <div data-targets="command-palette-page-stack.localOcticons" data-octicon-id="gear-color-fg-muted">
              <svg height="16" class="octicon octicon-gear color-fg-muted" viewBox="0 0 16 16" version="1.1" width="16" aria-hidden="true"><path d="M8 0a8.2 8.2 0 0 1 .701.031C9.444.095 9.99.645 10.16 1.29l.288 1.107c.018.066.079.158.212.224.231.114.454.243.668.386.123.082.233.09.299.071l1.103-.303c.644-.176 1.392.021 1.82.63.27.385.506.792.704 1.218.315.675.111 1.422-.364 1.891l-.814.806c-.049.048-.098.147-.088.294.016.257.016.515 0 .772-.01.147.038.246.088.294l.814.806c.475.469.679 1.216.364 1.891a7.977 7.977 0 0 1-.704 1.217c-.428.61-1.176.807-1.82.63l-1.102-.302c-.067-.019-.177-.011-.3.071a5.909 5.909 0 0 1-.668.386c-.133.066-.194.158-.211.224l-.29 1.106c-.168.646-.715 1.196-1.458 1.26a8.006 8.006 0 0 1-1.402 0c-.743-.064-1.289-.614-1.458-1.26l-.289-1.106c-.018-.066-.079-.158-.212-.224a5.738 5.738 0 0 1-.668-.386c-.123-.082-.233-.09-.299-.071l-1.103.303c-.644.176-1.392-.021-1.82-.63a8.12 8.12 0 0 1-.704-1.218c-.315-.675-.111-1.422.363-1.891l.815-.806c.05-.048.098-.147.088-.294a6.214 6.214 0 0 1 0-.772c.01-.147-.038-.246-.088-.294l-.815-.806C.635 6.045.431 5.298.746 4.623a7.92 7.92 0 0 1 .704-1.217c.428-.61 1.176-.807 1.82-.63l1.102.302c.067.019.177.011.3-.071.214-.143.437-.272.668-.386.133-.066.194-.158.211-.224l.29-1.106C6.009.645 6.556.095 7.299.03 7.53.01 7.764 0 8 0Zm-.571 1.525c-.036.003-.108.036-.137.146l-.289 1.105c-.147.561-.549.967-.998 1.189-.173.086-.34.183-.5.29-.417.278-.97.423-1.529.27l-1.103-.303c-.109-.03-.175.016-.195.045-.22.312-.412.644-.573.99-.014.031-.021.11.059.19l.815.806c.411.406.562.957.53 1.456a4.709 4.709 0 0 0 0 .582c.032.499-.119 1.05-.53 1.456l-.815.806c-.081.08-.073.159-.059.19.162.346.353.677.573.989.02.03.085.076.195.046l1.102-.303c.56-.153 1.113-.008 1.53.27.161.107.328.204.501.29.447.222.85.629.997 1.189l.289 1.105c.029.109.101.143.137.146a6.6 6.6 0 0 0 1.142 0c.036-.003.108-.036.137-.146l.289-1.105c.147-.561.549-.967.998-1.189.173-.086.34-.183.5-.29.417-.278.97-.423 1.529-.27l1.103.303c.109.029.175-.016.195-.045.22-.313.411-.644.573-.99.014-.031.021-.11-.059-.19l-.815-.806c-.411-.406-.562-.957-.53-1.456a4.709 4.709 0 0 0 0-.582c-.032-.499.119-1.05.53-1.456l.815-.806c.081-.08.073-.159.059-.19a6.464 6.464 0 0 0-.573-.989c-.02-.03-.085-.076-.195-.046l-1.102.303c-.56.153-1.113.008-1.53-.27a4.44 4.44 0 0 0-.501-.29c-.447-.222-.85-.629-.997-1.189l-.289-1.105c-.029-.11-.101-.143-.137-.146a6.6 6.6 0 0 0-1.142 0ZM11 8a3 3 0 1 1-6 0 3 3 0 0 1 6 0ZM9.5 8a1.5 1.5 0 1 0-3.001.001A1.5 1.5 0 0 0 9.5 8Z"></path></svg>
            </div>
            <div data-targets="command-palette-page-stack.localOcticons" data-octicon-id="lock-color-fg-muted">
              <svg height="16" class="octicon octicon-lock color-fg-muted" viewBox="0 0 16 16" version="1.1" width="16" aria-hidden="true"><path d="M4 4a4 4 0 0 1 8 0v2h.25c.966 0 1.75.784 1.75 1.75v5.5A1.75 1.75 0 0 1 12.25 15h-8.5A1.75 1.75 0 0 1 2 13.25v-5.5C2 6.784 2.784 6 3.75 6H4Zm8.25 3.5h-8.5a.25.25 0 0 0-.25.25v5.5c0 .138.112.25.25.25h8.5a.25.25 0 0 0 .25-.25v-5.5a.25.25 0 0 0-.25-.25ZM10.5 6V4a2.5 2.5 0 1 0-5 0v2Z"></path></svg>
            </div>
            <div data-targets="command-palette-page-stack.localOcticons" data-octicon-id="moon-color-fg-muted">
              <svg height="16" class="octicon octicon-moon color-fg-muted" viewBox="0 0 16 16" version="1.1" width="16" aria-hidden="true"><path d="M9.598 1.591a.749.749 0 0 1 .785-.175 7.001 7.001 0 1 1-8.967 8.967.75.75 0 0 1 .961-.96 5.5 5.5 0 0 0 7.046-7.046.75.75 0 0 1 .175-.786Zm1.616 1.945a7 7 0 0 1-7.678 7.678 5.499 5.499 0 1 0 7.678-7.678Z"></path></svg>
            </div>
            <div data-targets="command-palette-page-stack.localOcticons" data-octicon-id="person-color-fg-muted">
              <svg height="16" class="octicon octicon-person color-fg-muted" viewBox="0 0 16 16" version="1.1" width="16" aria-hidden="true"><path d="M10.561 8.073a6.005 6.005 0 0 1 3.432 5.142.75.75 0 1 1-1.498.07 4.5 4.5 0 0 0-8.99 0 .75.75 0 0 1-1.498-.07 6.004 6.004 0 0 1 3.431-5.142 3.999 3.999 0 1 1 5.123 0ZM10.5 5a2.5 2.5 0 1 0-5 0 2.5 2.5 0 0 0 5 0Z"></path></svg>
            </div>
            <div data-targets="command-palette-page-stack.localOcticons" data-octicon-id="pencil-color-fg-muted">
              <svg height="16" class="octicon octicon-pencil color-fg-muted" viewBox="0 0 16 16" version="1.1" width="16" aria-hidden="true"><path d="M11.013 1.427a1.75 1.75 0 0 1 2.474 0l1.086 1.086a1.75 1.75 0 0 1 0 2.474l-8.61 8.61c-.21.21-.47.364-.756.445l-3.251.93a.75.75 0 0 1-.927-.928l.929-3.25c.081-.286.235-.547.445-.758l8.61-8.61Zm.176 4.823L9.75 4.81l-6.286 6.287a.253.253 0 0 0-.064.108l-.558 1.953 1.953-.558a.253.253 0 0 0 .108-.064Zm1.238-3.763a.25.25 0 0 0-.354 0L10.811 3.75l1.439 1.44 1.263-1.263a.25.25 0 0 0 0-.354Z"></path></svg>
            </div>
            <div data-targets="command-palette-page-stack.localOcticons" data-octicon-id="issue-opened-open">
              <svg height="16" class="octicon octicon-issue-opened open" viewBox="0 0 16 16" version="1.1" width="16" aria-hidden="true"><path d="M8 9.5a1.5 1.5 0 1 0 0-3 1.5 1.5 0 0 0 0 3Z"></path><path d="M8 0a8 8 0 1 1 0 16A8 8 0 0 1 8 0ZM1.5 8a6.5 6.5 0 1 0 13 0 6.5 6.5 0 0 0-13 0Z"></path></svg>
            </div>
            <div data-targets="command-palette-page-stack.localOcticons" data-octicon-id="git-pull-request-draft-color-fg-muted">
              <svg height="16" class="octicon octicon-git-pull-request-draft color-fg-muted" viewBox="0 0 16 16" version="1.1" width="16" aria-hidden="true"><path d="M3.25 1A2.25 2.25 0 0 1 4 5.372v5.256a2.251 2.251 0 1 1-1.5 0V5.372A2.251 2.251 0 0 1 3.25 1Zm9.5 14a2.25 2.25 0 1 1 0-4.5 2.25 2.25 0 0 1 0 4.5ZM2.5 3.25a.75.75 0 1 0 1.5 0 .75.75 0 0 0-1.5 0ZM3.25 12a.75.75 0 1 0 0 1.5.75.75 0 0 0 0-1.5Zm9.5 0a.75.75 0 1 0 0 1.5.75.75 0 0 0 0-1.5ZM14 7.5a1.25 1.25 0 1 1-2.5 0 1.25 1.25 0 0 1 2.5 0Zm0-4.25a1.25 1.25 0 1 1-2.5 0 1.25 1.25 0 0 1 2.5 0Z"></path></svg>
            </div>
            <div data-targets="command-palette-page-stack.localOcticons" data-octicon-id="search-color-fg-muted">
              <svg height="16" class="octicon octicon-search color-fg-muted" viewBox="0 0 16 16" version="1.1" width="16" aria-hidden="true"><path d="M10.68 11.74a6 6 0 0 1-7.922-8.982 6 6 0 0 1 8.982 7.922l3.04 3.04a.749.749 0 0 1-.326 1.275.749.749 0 0 1-.734-.215ZM11.5 7a4.499 4.499 0 1 0-8.997 0A4.499 4.499 0 0 0 11.5 7Z"></path></svg>
            </div>
            <div data-targets="command-palette-page-stack.localOcticons" data-octicon-id="sun-color-fg-muted">
              <svg height="16" class="octicon octicon-sun color-fg-muted" viewBox="0 0 16 16" version="1.1" width="16" aria-hidden="true"><path d="M8 12a4 4 0 1 1 0-8 4 4 0 0 1 0 8Zm0-1.5a2.5 2.5 0 1 0 0-5 2.5 2.5 0 0 0 0 5Zm5.657-8.157a.75.75 0 0 1 0 1.061l-1.061 1.06a.749.749 0 0 1-1.275-.326.749.749 0 0 1 .215-.734l1.06-1.06a.75.75 0 0 1 1.06 0Zm-9.193 9.193a.75.75 0 0 1 0 1.06l-1.06 1.061a.75.75 0 1 1-1.061-1.06l1.06-1.061a.75.75 0 0 1 1.061 0ZM8 0a.75.75 0 0 1 .75.75v1.5a.75.75 0 0 1-1.5 0V.75A.75.75 0 0 1 8 0ZM3 8a.75.75 0 0 1-.75.75H.75a.75.75 0 0 1 0-1.5h1.5A.75.75 0 0 1 3 8Zm13 0a.75.75 0 0 1-.75.75h-1.5a.75.75 0 0 1 0-1.5h1.5A.75.75 0 0 1 16 8Zm-8 5a.75.75 0 0 1 .75.75v1.5a.75.75 0 0 1-1.5 0v-1.5A.75.75 0 0 1 8 13Zm3.536-1.464a.75.75 0 0 1 1.06 0l1.061 1.06a.75.75 0 0 1-1.06 1.061l-1.061-1.06a.75.75 0 0 1 0-1.061ZM2.343 2.343a.75.75 0 0 1 1.061 0l1.06 1.061a.751.751 0 0 1-.018 1.042.751.751 0 0 1-1.042.018l-1.06-1.06a.75.75 0 0 1 0-1.06Z"></path></svg>
            </div>
            <div data-targets="command-palette-page-stack.localOcticons" data-octicon-id="sync-color-fg-muted">
              <svg height="16" class="octicon octicon-sync color-fg-muted" viewBox="0 0 16 16" version="1.1" width="16" aria-hidden="true"><path d="M1.705 8.005a.75.75 0 0 1 .834.656 5.5 5.5 0 0 0 9.592 2.97l-1.204-1.204a.25.25 0 0 1 .177-.427h3.646a.25.25 0 0 1 .25.25v3.646a.25.25 0 0 1-.427.177l-1.38-1.38A7.002 7.002 0 0 1 1.05 8.84a.75.75 0 0 1 .656-.834ZM8 2.5a5.487 5.487 0 0 0-4.131 1.869l1.204 1.204A.25.25 0 0 1 4.896 6H1.25A.25.25 0 0 1 1 5.75V2.104a.25.25 0 0 1 .427-.177l1.38 1.38A7.002 7.002 0 0 1 14.95 7.16a.75.75 0 0 1-1.49.178A5.5 5.5 0 0 0 8 2.5Z"></path></svg>
            </div>
            <div data-targets="command-palette-page-stack.localOcticons" data-octicon-id="trash-color-fg-muted">
              <svg height="16" class="octicon octicon-trash color-fg-muted" viewBox="0 0 16 16" version="1.1" width="16" aria-hidden="true"><path d="M11 1.75V3h2.25a.75.75 0 0 1 0 1.5H2.75a.75.75 0 0 1 0-1.5H5V1.75C5 .784 5.784 0 6.75 0h2.5C10.216 0 11 .784 11 1.75ZM4.496 6.675l.66 6.6a.25.25 0 0 0 .249.225h5.19a.25.25 0 0 0 .249-.225l.66-6.6a.75.75 0 0 1 1.492.149l-.66 6.6A1.748 1.748 0 0 1 10.595 15h-5.19a1.75 1.75 0 0 1-1.741-1.575l-.66-6.6a.75.75 0 1 1 1.492-.15ZM6.5 1.75V3h3V1.75a.25.25 0 0 0-.25-.25h-2.5a.25.25 0 0 0-.25.25Z"></path></svg>
            </div>
            <div data-targets="command-palette-page-stack.localOcticons" data-octicon-id="key-color-fg-muted">
              <svg height="16" class="octicon octicon-key color-fg-muted" viewBox="0 0 16 16" version="1.1" width="16" aria-hidden="true"><path d="M10.5 0a5.499 5.499 0 1 1-1.288 10.848l-.932.932a.749.749 0 0 1-.53.22H7v.75a.749.749 0 0 1-.22.53l-.5.5a.749.749 0 0 1-.53.22H5v.75a.749.749 0 0 1-.22.53l-.5.5a.749.749 0 0 1-.53.22h-2A1.75 1.75 0 0 1 0 14.25v-2c0-.199.079-.389.22-.53l4.932-4.932A5.5 5.5 0 0 1 10.5 0Zm-4 5.5c-.001.431.069.86.205 1.269a.75.75 0 0 1-.181.768L1.5 12.56v1.69c0 .138.112.25.25.25h1.69l.06-.06v-1.19a.75.75 0 0 1 .75-.75h1.19l.06-.06v-1.19a.75.75 0 0 1 .75-.75h1.19l1.023-1.025a.75.75 0 0 1 .768-.18A4 4 0 1 0 6.5 5.5ZM11 6a1 1 0 1 1 0-2 1 1 0 0 1 0 2Z"></path></svg>
            </div>
            <div data-targets="command-palette-page-stack.localOcticons" data-octicon-id="comment-discussion-color-fg-muted">
              <svg height="16" class="octicon octicon-comment-discussion color-fg-muted" viewBox="0 0 16 16" version="1.1" width="16" aria-hidden="true"><path d="M1.75 1h8.5c.966 0 1.75.784 1.75 1.75v5.5A1.75 1.75 0 0 1 10.25 10H7.061l-2.574 2.573A1.458 1.458 0 0 1 2 11.543V10h-.25A1.75 1.75 0 0 1 0 8.25v-5.5C0 1.784.784 1 1.75 1ZM1.5 2.75v5.5c0 .138.112.25.25.25h1a.75.75 0 0 1 .75.75v2.19l2.72-2.72a.749.749 0 0 1 .53-.22h3.5a.25.25 0 0 0 .25-.25v-5.5a.25.25 0 0 0-.25-.25h-8.5a.25.25 0 0 0-.25.25Zm13 2a.25.25 0 0 0-.25-.25h-.5a.75.75 0 0 1 0-1.5h.5c.966 0 1.75.784 1.75 1.75v5.5A1.75 1.75 0 0 1 14.25 12H14v1.543a1.458 1.458 0 0 1-2.487 1.03L9.22 12.28a.749.749 0 0 1 .326-1.275.749.749 0 0 1 .734.215l2.22 2.22v-2.19a.75.75 0 0 1 .75-.75h1a.25.25 0 0 0 .25-.25Z"></path></svg>
            </div>
            <div data-targets="command-palette-page-stack.localOcticons" data-octicon-id="bell-color-fg-muted">
              <svg height="16" class="octicon octicon-bell color-fg-muted" viewBox="0 0 16 16" version="1.1" width="16" aria-hidden="true"><path d="M8 16a2 2 0 0 0 1.985-1.75c.017-.137-.097-.25-.235-.25h-3.5c-.138 0-.252.113-.235.25A2 2 0 0 0 8 16ZM3 5a5 5 0 0 1 10 0v2.947c0 .05.015.098.042.139l1.703 2.555A1.519 1.519 0 0 1 13.482 13H2.518a1.516 1.516 0 0 1-1.263-2.36l1.703-2.554A.255.255 0 0 0 3 7.947Zm5-3.5A3.5 3.5 0 0 0 4.5 5v2.947c0 .346-.102.683-.294.97l-1.703 2.556a.017.017 0 0 0-.003.01l.001.006c0 .002.002.004.004.006l.006.004.007.001h10.964l.007-.001.006-.004.004-.006.001-.007a.017.017 0 0 0-.003-.01l-1.703-2.554a1.745 1.745 0 0 1-.294-.97V5A3.5 3.5 0 0 0 8 1.5Z"></path></svg>
            </div>
            <div data-targets="command-palette-page-stack.localOcticons" data-octicon-id="bell-slash-color-fg-muted">
              <svg height="16" class="octicon octicon-bell-slash color-fg-muted" viewBox="0 0 16 16" version="1.1" width="16" aria-hidden="true"><path d="m4.182 4.31.016.011 10.104 7.316.013.01 1.375.996a.75.75 0 1 1-.88 1.214L13.626 13H2.518a1.516 1.516 0 0 1-1.263-2.36l1.703-2.554A.255.255 0 0 0 3 7.947V5.305L.31 3.357a.75.75 0 1 1 .88-1.214Zm7.373 7.19L4.5 6.391v1.556c0 .346-.102.683-.294.97l-1.703 2.556a.017.017 0 0 0-.003.01c0 .005.002.009.005.012l.006.004.007.001ZM8 1.5c-.997 0-1.895.416-2.534 1.086A.75.75 0 1 1 4.38 1.55 5 5 0 0 1 13 5v2.373a.75.75 0 0 1-1.5 0V5A3.5 3.5 0 0 0 8 1.5ZM8 16a2 2 0 0 1-1.985-1.75c-.017-.137.097-.25.235-.25h3.5c.138 0 .252.113.235.25A2 2 0 0 1 8 16Z"></path></svg>
            </div>
            <div data-targets="command-palette-page-stack.localOcticons" data-octicon-id="paintbrush-color-fg-muted">
              <svg height="16" class="octicon octicon-paintbrush color-fg-muted" viewBox="0 0 16 16" version="1.1" width="16" aria-hidden="true"><path d="M11.134 1.535c.7-.509 1.416-.942 2.076-1.155.649-.21 1.463-.267 2.069.34.603.601.568 1.411.368 2.07-.202.668-.624 1.39-1.125 2.096-1.011 1.424-2.496 2.987-3.775 4.249-1.098 1.084-2.132 1.839-3.04 2.3a3.744 3.744 0 0 1-1.055 3.217c-.431.431-1.065.691-1.657.861-.614.177-1.294.287-1.914.357A21.151 21.151 0 0 1 .797 16H.743l.007-.75H.749L.742 16a.75.75 0 0 1-.743-.742l.743-.008-.742.007v-.054a21.25 21.25 0 0 1 .13-2.284c.067-.647.187-1.287.358-1.914.17-.591.43-1.226.86-1.657a3.746 3.746 0 0 1 3.227-1.054c.466-.893 1.225-1.907 2.314-2.982 1.271-1.255 2.833-2.75 4.245-3.777ZM1.62 13.089c-.051.464-.086.929-.104 1.395.466-.018.932-.053 1.396-.104a10.511 10.511 0 0 0 1.668-.309c.526-.151.856-.325 1.011-.48a2.25 2.25 0 1 0-3.182-3.182c-.155.155-.329.485-.48 1.01a10.515 10.515 0 0 0-.309 1.67Zm10.396-10.34c-1.224.89-2.605 2.189-3.822 3.384l1.718 1.718c1.21-1.205 2.51-2.597 3.387-3.833.47-.662.78-1.227.912-1.662.134-.444.032-.551.009-.575h-.001V1.78c-.014-.014-.113-.113-.548.027-.432.14-.995.462-1.655.942Zm-4.832 7.266-.001.001a9.859 9.859 0 0 0 1.63-1.142L7.155 7.216a9.7 9.7 0 0 0-1.161 1.607c.482.302.889.71 1.19 1.192Z"></path></svg>
            </div>

            <command-palette-item-group
              data-group-id="top"
              data-group-title="Top result"
              data-group-hint=""
              data-group-limits="{}"
              data-default-priority="0"
            >
            </command-palette-item-group>
            <command-palette-item-group
              data-group-id="commands"
              data-group-title="Commands"
              data-group-hint="Type &gt; to filter"
              data-group-limits="{&quot;static_items_page&quot;:50,&quot;issue&quot;:50,&quot;pull_request&quot;:50,&quot;discussion&quot;:50}"
              data-default-priority="1"
            >
            </command-palette-item-group>
            <command-palette-item-group
              data-group-id="global_commands"
              data-group-title="Global Commands"
              data-group-hint="Type &gt; to filter"
              data-group-limits="{&quot;issue&quot;:0,&quot;pull_request&quot;:0,&quot;discussion&quot;:0}"
              data-default-priority="2"
            >
            </command-palette-item-group>
            <command-palette-item-group
              data-group-id="this_page"
              data-group-title="This Page"
              data-group-hint=""
              data-group-limits="{}"
              data-default-priority="3"
            >
            </command-palette-item-group>
            <command-palette-item-group
              data-group-id="files"
              data-group-title="Files"
              data-group-hint=""
              data-group-limits="{}"
              data-default-priority="4"
            >
            </command-palette-item-group>
            <command-palette-item-group
              data-group-id="default"
              data-group-title="Default"
              data-group-hint=""
              data-group-limits="{&quot;static_items_page&quot;:50}"
              data-default-priority="5"
            >
            </command-palette-item-group>
            <command-palette-item-group
              data-group-id="pages"
              data-group-title="Pages"
              data-group-hint=""
              data-group-limits="{&quot;repository&quot;:10}"
              data-default-priority="6"
            >
            </command-palette-item-group>
            <command-palette-item-group
              data-group-id="access_policies"
              data-group-title="Access Policies"
              data-group-hint=""
              data-group-limits="{}"
              data-default-priority="7"
            >
            </command-palette-item-group>
            <command-palette-item-group
              data-group-id="organizations"
              data-group-title="Organizations"
              data-group-hint=""
              data-group-limits="{}"
              data-default-priority="8"
            >
            </command-palette-item-group>
            <command-palette-item-group
              data-group-id="repositories"
              data-group-title="Repositories"
              data-group-hint=""
              data-group-limits="{}"
              data-default-priority="9"
            >
            </command-palette-item-group>
            <command-palette-item-group
              data-group-id="references"
              data-group-title="Issues, pull requests, and discussions"
              data-group-hint="Type # to filter"
              data-group-limits="{}"
              data-default-priority="10"
            >
            </command-palette-item-group>
            <command-palette-item-group
              data-group-id="teams"
              data-group-title="Teams"
              data-group-hint=""
              data-group-limits="{}"
              data-default-priority="11"
            >
            </command-palette-item-group>
            <command-palette-item-group
              data-group-id="users"
              data-group-title="Users"
              data-group-hint=""
              data-group-limits="{}"
              data-default-priority="12"
            >
            </command-palette-item-group>
            <command-palette-item-group
              data-group-id="memex_projects"
              data-group-title="Projects"
              data-group-hint=""
              data-group-limits="{}"
              data-default-priority="13"
            >
            </command-palette-item-group>
            <command-palette-item-group
              data-group-id="projects"
              data-group-title="Projects (classic)"
              data-group-hint=""
              data-group-limits="{}"
              data-default-priority="14"
            >
            </command-palette-item-group>
            <command-palette-item-group
              data-group-id="footer"
              data-group-title="Footer"
              data-group-hint=""
              data-group-limits="{}"
              data-default-priority="15"
            >
            </command-palette-item-group>
            <command-palette-item-group
              data-group-id="modes_help"
              data-group-title="Modes"
              data-group-hint=""
              data-group-limits="{}"
              data-default-priority="16"
            >
            </command-palette-item-group>
            <command-palette-item-group
              data-group-id="filters_help"
              data-group-title="Use filters in issues, pull requests, discussions, and projects"
              data-group-hint=""
              data-group-limits="{}"
              data-default-priority="17"
            >
            </command-palette-item-group>

            <command-palette-page
              data-page-title="ContentUpgrad"
              data-scope-id="MDQ6VXNlcjgyNjU0NzM2"
              data-scope-type="owner"
              data-targets="command-palette-page-stack.defaultPages"
              hidden
            >
            </command-palette-page>
            <command-palette-page
              data-page-title="Convolutional-Neural-Network-Industry-Applications"
              data-scope-id="R_kgDOHIWkbA"
              data-scope-type="repository"
              data-targets="command-palette-page-stack.defaultPages"
              hidden
            >
            </command-palette-page>
        </div>

        <command-palette-page data-is-root>
        </command-palette-page>
          <command-palette-page
            data-page-title="ContentUpgrad"
            data-scope-id="MDQ6VXNlcjgyNjU0NzM2"
            data-scope-type="owner"
          >
          </command-palette-page>
          <command-palette-page
            data-page-title="Convolutional-Neural-Network-Industry-Applications"
            data-scope-id="R_kgDOHIWkbA"
            data-scope-type="repository"
          >
          </command-palette-page>
      </command-palette-page-stack>

      <server-defined-provider data-type="search-links" data-targets="command-palette.serverDefinedProviderElements"></server-defined-provider>
      <server-defined-provider data-type="help" data-targets="command-palette.serverDefinedProviderElements">
          <command-palette-help
            data-group="modes_help"
              data-prefix="#"
              data-scope-types="[&quot;&quot;]"
          >
            <span data-target="command-palette-help.titleElement">Search for <strong>issues</strong> and <strong>pull requests</strong></span>
              <span data-target="command-palette-help.hintElement">
                <kbd class="hx_kbd">#</kbd>
              </span>
          </command-palette-help>
          <command-palette-help
            data-group="modes_help"
              data-prefix="#"
              data-scope-types="[&quot;owner&quot;,&quot;repository&quot;]"
          >
            <span data-target="command-palette-help.titleElement">Search for <strong>issues, pull requests, discussions,</strong> and <strong>projects</strong></span>
              <span data-target="command-palette-help.hintElement">
                <kbd class="hx_kbd">#</kbd>
              </span>
          </command-palette-help>
          <command-palette-help
            data-group="modes_help"
              data-prefix="@"
              data-scope-types="[&quot;&quot;]"
          >
            <span data-target="command-palette-help.titleElement">Search for <strong>organizations, repositories,</strong> and <strong>users</strong></span>
              <span data-target="command-palette-help.hintElement">
                <kbd class="hx_kbd">@</kbd>
              </span>
          </command-palette-help>
          <command-palette-help
            data-group="modes_help"
              data-prefix="!"
              data-scope-types="[&quot;owner&quot;,&quot;repository&quot;]"
          >
            <span data-target="command-palette-help.titleElement">Search for <strong>projects</strong></span>
              <span data-target="command-palette-help.hintElement">
                <kbd class="hx_kbd">!</kbd>
              </span>
          </command-palette-help>
          <command-palette-help
            data-group="modes_help"
              data-prefix="/"
              data-scope-types="[&quot;repository&quot;]"
          >
            <span data-target="command-palette-help.titleElement">Search for <strong>files</strong></span>
              <span data-target="command-palette-help.hintElement">
                <kbd class="hx_kbd">/</kbd>
              </span>
          </command-palette-help>
          <command-palette-help
            data-group="modes_help"
              data-prefix="&gt;"
          >
            <span data-target="command-palette-help.titleElement">Activate <strong>command mode</strong></span>
              <span data-target="command-palette-help.hintElement">
                <kbd class="hx_kbd">&gt;</kbd>
              </span>
          </command-palette-help>
          <command-palette-help
            data-group="filters_help"
              data-prefix="# author:@me"
          >
            <span data-target="command-palette-help.titleElement">Search your issues, pull requests, and discussions</span>
              <span data-target="command-palette-help.hintElement">
                <kbd class="hx_kbd"># author:@me</kbd>
              </span>
          </command-palette-help>
          <command-palette-help
            data-group="filters_help"
              data-prefix="# author:@me"
          >
            <span data-target="command-palette-help.titleElement">Search your issues, pull requests, and discussions</span>
              <span data-target="command-palette-help.hintElement">
                <kbd class="hx_kbd"># author:@me</kbd>
              </span>
          </command-palette-help>
          <command-palette-help
            data-group="filters_help"
              data-prefix="# is:pr"
          >
            <span data-target="command-palette-help.titleElement">Filter to pull requests</span>
              <span data-target="command-palette-help.hintElement">
                <kbd class="hx_kbd"># is:pr</kbd>
              </span>
          </command-palette-help>
          <command-palette-help
            data-group="filters_help"
              data-prefix="# is:issue"
          >
            <span data-target="command-palette-help.titleElement">Filter to issues</span>
              <span data-target="command-palette-help.hintElement">
                <kbd class="hx_kbd"># is:issue</kbd>
              </span>
          </command-palette-help>
          <command-palette-help
            data-group="filters_help"
              data-prefix="# is:discussion"
              data-scope-types="[&quot;owner&quot;,&quot;repository&quot;]"
          >
            <span data-target="command-palette-help.titleElement">Filter to discussions</span>
              <span data-target="command-palette-help.hintElement">
                <kbd class="hx_kbd"># is:discussion</kbd>
              </span>
          </command-palette-help>
          <command-palette-help
            data-group="filters_help"
              data-prefix="# is:project"
              data-scope-types="[&quot;owner&quot;,&quot;repository&quot;]"
          >
            <span data-target="command-palette-help.titleElement">Filter to projects</span>
              <span data-target="command-palette-help.hintElement">
                <kbd class="hx_kbd"># is:project</kbd>
              </span>
          </command-palette-help>
          <command-palette-help
            data-group="filters_help"
              data-prefix="# is:open"
          >
            <span data-target="command-palette-help.titleElement">Filter to open issues, pull requests, and discussions</span>
              <span data-target="command-palette-help.hintElement">
                <kbd class="hx_kbd"># is:open</kbd>
              </span>
          </command-palette-help>
      </server-defined-provider>

        <server-defined-provider
          data-type="commands"
          data-fetch-debounce="0"
            data-src="/command_palette/commands"
          data-supported-modes="[]"
            data-supports-commands
          
          data-targets="command-palette.serverDefinedProviderElements"
          ></server-defined-provider>
        <server-defined-provider
          data-type="prefetched"
          data-fetch-debounce="0"
            data-src="/command_palette/jump_to_page_navigation"
          data-supported-modes="[&quot;&quot;]"
            data-supported-scope-types="[&quot;&quot;,&quot;owner&quot;,&quot;repository&quot;]"
          
          data-targets="command-palette.serverDefinedProviderElements"
          ></server-defined-provider>
        <server-defined-provider
          data-type="remote"
          data-fetch-debounce="200"
            data-src="/command_palette/issues"
          data-supported-modes="[&quot;#&quot;,&quot;#&quot;]"
            data-supported-scope-types="[&quot;owner&quot;,&quot;repository&quot;,&quot;&quot;]"
          
          data-targets="command-palette.serverDefinedProviderElements"
          ></server-defined-provider>
        <server-defined-provider
          data-type="remote"
          data-fetch-debounce="200"
            data-src="/command_palette/jump_to"
          data-supported-modes="[&quot;@&quot;,&quot;@&quot;]"
            data-supported-scope-types="[&quot;&quot;,&quot;owner&quot;]"
          
          data-targets="command-palette.serverDefinedProviderElements"
          ></server-defined-provider>
        <server-defined-provider
          data-type="remote"
          data-fetch-debounce="200"
            data-src="/command_palette/jump_to_members_only"
          data-supported-modes="[&quot;@&quot;,&quot;@&quot;,&quot;&quot;,&quot;&quot;]"
            data-supported-scope-types="[&quot;&quot;,&quot;owner&quot;]"
          
          data-targets="command-palette.serverDefinedProviderElements"
          ></server-defined-provider>
        <server-defined-provider
          data-type="prefetched"
          data-fetch-debounce="0"
            data-src="/command_palette/jump_to_members_only_prefetched"
          data-supported-modes="[&quot;@&quot;,&quot;@&quot;,&quot;&quot;,&quot;&quot;]"
            data-supported-scope-types="[&quot;&quot;,&quot;owner&quot;]"
          
          data-targets="command-palette.serverDefinedProviderElements"
          ></server-defined-provider>
        <server-defined-provider
          data-type="files"
          data-fetch-debounce="0"
            data-src="/command_palette/files"
          data-supported-modes="[&quot;/&quot;]"
            data-supported-scope-types="[&quot;repository&quot;]"
          
          data-targets="command-palette.serverDefinedProviderElements"
          ></server-defined-provider>
        <server-defined-provider
          data-type="remote"
          data-fetch-debounce="200"
            data-src="/command_palette/discussions"
          data-supported-modes="[&quot;#&quot;]"
            data-supported-scope-types="[&quot;owner&quot;,&quot;repository&quot;]"
          
          data-targets="command-palette.serverDefinedProviderElements"
          ></server-defined-provider>
        <server-defined-provider
          data-type="remote"
          data-fetch-debounce="200"
            data-src="/command_palette/projects"
          data-supported-modes="[&quot;#&quot;,&quot;!&quot;]"
            data-supported-scope-types="[&quot;owner&quot;,&quot;repository&quot;]"
          
          data-targets="command-palette.serverDefinedProviderElements"
          ></server-defined-provider>
        <server-defined-provider
          data-type="prefetched"
          data-fetch-debounce="0"
            data-src="/command_palette/recent_issues"
          data-supported-modes="[&quot;#&quot;,&quot;#&quot;]"
            data-supported-scope-types="[&quot;owner&quot;,&quot;repository&quot;,&quot;&quot;]"
          
          data-targets="command-palette.serverDefinedProviderElements"
          ></server-defined-provider>
        <server-defined-provider
          data-type="remote"
          data-fetch-debounce="200"
            data-src="/command_palette/teams"
          data-supported-modes="[&quot;@&quot;,&quot;&quot;]"
            data-supported-scope-types="[&quot;owner&quot;]"
          
          data-targets="command-palette.serverDefinedProviderElements"
          ></server-defined-provider>
        <server-defined-provider
          data-type="remote"
          data-fetch-debounce="200"
            data-src="/command_palette/name_with_owner_repository"
          data-supported-modes="[&quot;@&quot;,&quot;@&quot;,&quot;&quot;,&quot;&quot;]"
            data-supported-scope-types="[&quot;&quot;,&quot;owner&quot;]"
          
          data-targets="command-palette.serverDefinedProviderElements"
          ></server-defined-provider>
    </command-palette>
  </details-dialog>
</details>

<div class="position-fixed bottom-0 left-0 ml-5 mb-5 js-command-palette-toasts" style="z-index: 1000">
  <div hidden class="Toast Toast--loading">
    <span class="Toast-icon">
      <svg class="Toast--spinner" viewBox="0 0 32 32" width="18" height="18" aria-hidden="true">
        <path
          fill="#959da5"
          d="M16 0 A16 16 0 0 0 16 32 A16 16 0 0 0 16 0 M16 4 A12 12 0 0 1 16 28 A12 12 0 0 1 16 4"
        />
        <path fill="#ffffff" d="M16 0 A16 16 0 0 1 32 16 L28 16 A12 12 0 0 0 16 4z"></path>
      </svg>
    </span>
    <span class="Toast-content"></span>
  </div>

  <div hidden class="anim-fade-in fast Toast Toast--error">
    <span class="Toast-icon">
      <svg aria-hidden="true" height="16" viewBox="0 0 16 16" version="1.1" width="16" data-view-component="true" class="octicon octicon-stop">
    <path d="M4.47.22A.749.749 0 0 1 5 0h6c.199 0 .389.079.53.22l4.25 4.25c.141.14.22.331.22.53v6a.749.749 0 0 1-.22.53l-4.25 4.25A.749.749 0 0 1 11 16H5a.749.749 0 0 1-.53-.22L.22 11.53A.749.749 0 0 1 0 11V5c0-.199.079-.389.22-.53Zm.84 1.28L1.5 5.31v5.38l3.81 3.81h5.38l3.81-3.81V5.31L10.69 1.5ZM8 4a.75.75 0 0 1 .75.75v3.5a.75.75 0 0 1-1.5 0v-3.5A.75.75 0 0 1 8 4Zm0 8a1 1 0 1 1 0-2 1 1 0 0 1 0 2Z"></path>
</svg>
    </span>
    <span class="Toast-content"></span>
  </div>

  <div hidden class="anim-fade-in fast Toast Toast--warning">
    <span class="Toast-icon">
      <svg aria-hidden="true" height="16" viewBox="0 0 16 16" version="1.1" width="16" data-view-component="true" class="octicon octicon-alert">
    <path d="M6.457 1.047c.659-1.234 2.427-1.234 3.086 0l6.082 11.378A1.75 1.75 0 0 1 14.082 15H1.918a1.75 1.75 0 0 1-1.543-2.575Zm1.763.707a.25.25 0 0 0-.44 0L1.698 13.132a.25.25 0 0 0 .22.368h12.164a.25.25 0 0 0 .22-.368Zm.53 3.996v2.5a.75.75 0 0 1-1.5 0v-2.5a.75.75 0 0 1 1.5 0ZM9 11a1 1 0 1 1-2 0 1 1 0 0 1 2 0Z"></path>
</svg>
    </span>
    <span class="Toast-content"></span>
  </div>


  <div hidden class="anim-fade-in fast Toast Toast--success">
    <span class="Toast-icon">
      <svg aria-hidden="true" height="16" viewBox="0 0 16 16" version="1.1" width="16" data-view-component="true" class="octicon octicon-check">
    <path d="M13.78 4.22a.75.75 0 0 1 0 1.06l-7.25 7.25a.75.75 0 0 1-1.06 0L2.22 9.28a.751.751 0 0 1 .018-1.042.751.751 0 0 1 1.042-.018L6 10.94l6.72-6.72a.75.75 0 0 1 1.06 0Z"></path>
</svg>
    </span>
    <span class="Toast-content"></span>
  </div>

  <div hidden class="anim-fade-in fast Toast">
    <span class="Toast-icon">
      <svg aria-hidden="true" height="16" viewBox="0 0 16 16" version="1.1" width="16" data-view-component="true" class="octicon octicon-info">
    <path d="M0 8a8 8 0 1 1 16 0A8 8 0 0 1 0 8Zm8-6.5a6.5 6.5 0 1 0 0 13 6.5 6.5 0 0 0 0-13ZM6.5 7.75A.75.75 0 0 1 7.25 7h1a.75.75 0 0 1 .75.75v2.75h.25a.75.75 0 0 1 0 1.5h-2a.75.75 0 0 1 0-1.5h.25v-2h-.25a.75.75 0 0 1-.75-.75ZM8 6a1 1 0 1 1 0-2 1 1 0 0 1 0 2Z"></path>
</svg>
    </span>
    <span class="Toast-content"></span>
  </div>
</div>


  <div
    class="application-main "
    data-commit-hovercards-enabled
    data-discussion-hovercards-enabled
    data-issue-and-pr-hovercards-enabled
  >
        <div itemscope itemtype="http://schema.org/SoftwareSourceCode" class="">
    <main id="js-repo-pjax-container" >
      
      






  
  <div id="repository-container-header"  class="pt-3 hide-full-screen" style="background-color: var(--color-page-header-bg);" data-turbo-replace>

      <div class="d-flex flex-wrap flex-justify-end mb-3  px-3 px-md-4 px-lg-5" style="gap: 1rem;">

        <div class="flex-auto min-width-0 width-fit mr-3">
            
  <div class=" d-flex flex-wrap flex-items-center wb-break-word f3 text-normal">
      <svg aria-hidden="true" height="16" viewBox="0 0 16 16" version="1.1" width="16" data-view-component="true" class="octicon octicon-repo color-fg-muted mr-2">
    <path d="M2 2.5A2.5 2.5 0 0 1 4.5 0h8.75a.75.75 0 0 1 .75.75v12.5a.75.75 0 0 1-.75.75h-2.5a.75.75 0 0 1 0-1.5h1.75v-2h-8a1 1 0 0 0-.714 1.7.75.75 0 1 1-1.072 1.05A2.495 2.495 0 0 1 2 11.5Zm10.5-1h-8a1 1 0 0 0-1 1v6.708A2.486 2.486 0 0 1 4.5 9h8ZM5 12.25a.25.25 0 0 1 .25-.25h3.5a.25.25 0 0 1 .25.25v3.25a.25.25 0 0 1-.4.2l-1.45-1.087a.249.249 0 0 0-.3 0L5.4 15.7a.25.25 0 0 1-.4-.2Z"></path>
</svg>
    
    <span class="author flex-self-stretch" itemprop="author">
      <a class="url fn" rel="author" data-hovercard-type="user" data-hovercard-url="/users/ContentUpgrad/hovercard" data-octo-click="hovercard-link-click" data-octo-dimensions="link_type:self" href="/ContentUpgrad">
        ContentUpgrad
</a>    </span>
    <span class="mx-1 flex-self-stretch color-fg-muted">/</span>
    <strong itemprop="name" class="mr-2 flex-self-stretch">
      <a data-pjax="#repo-content-pjax-container" data-turbo-frame="repo-content-turbo-frame" href="/ContentUpgrad/Convolutional-Neural-Network-Industry-Applications">Convolutional-Neural-Network-Industry-Applications</a>
    </strong>

    <span></span><span class="Label Label--secondary v-align-middle mr-1">Public</span>
  </div>


        </div>

        <div id="repository-details-container" data-turbo-replace>
            <ul class="pagehead-actions flex-shrink-0 d-none d-md-inline" style="padding: 2px 0;">
    
      

  <li>
        <include-fragment loading="lazy" src="/notifications/478520428/watch_subscription?aria_id_prefix=repository-details&amp;button_block=false&amp;show_count=true">
    <div data-hide-on-error>
        
            <button disabled="disabled" aria-label="Watching a repository" type="button" data-view-component="true" class="tooltipped tooltipped-n Button--secondary Button--small Button">    <span class="Button-content">
        <span class="Button-visual Button-leadingVisual">
          <svg aria-hidden="true" height="16" viewBox="0 0 16 16" version="1.1" width="16" data-view-component="true" class="octicon octicon-eye">
    <path d="M8 2c1.981 0 3.671.992 4.933 2.078 1.27 1.091 2.187 2.345 2.637 3.023a1.62 1.62 0 0 1 0 1.798c-.45.678-1.367 1.932-2.637 3.023C11.67 13.008 9.981 14 8 14c-1.981 0-3.671-.992-4.933-2.078C1.797 10.83.88 9.576.43 8.898a1.62 1.62 0 0 1 0-1.798c.45-.677 1.367-1.931 2.637-3.022C4.33 2.992 6.019 2 8 2ZM1.679 7.932a.12.12 0 0 0 0 .136c.411.622 1.241 1.75 2.366 2.717C5.176 11.758 6.527 12.5 8 12.5c1.473 0 2.825-.742 3.955-1.715 1.124-.967 1.954-2.096 2.366-2.717a.12.12 0 0 0 0-.136c-.412-.621-1.242-1.75-2.366-2.717C10.824 4.242 9.473 3.5 8 3.5c-1.473 0-2.825.742-3.955 1.715-1.124.967-1.954 2.096-2.366 2.717ZM8 10a2 2 0 1 1-.001-3.999A2 2 0 0 1 8 10Z"></path>
</svg>
        </span>
      <span class="Button-label">Watch</span>
    </span>
</button>  

    </div>
    <p data-show-on-error hidden>
        
          <span class="d-flex pt-1">
            <svg aria-hidden="true" height="16" viewBox="0 0 16 16" version="1.1" width="16" data-view-component="true" class="octicon octicon-alert mr-1">
    <path d="M6.457 1.047c.659-1.234 2.427-1.234 3.086 0l6.082 11.378A1.75 1.75 0 0 1 14.082 15H1.918a1.75 1.75 0 0 1-1.543-2.575Zm1.763.707a.25.25 0 0 0-.44 0L1.698 13.132a.25.25 0 0 0 .22.368h12.164a.25.25 0 0 0 .22-.368Zm.53 3.996v2.5a.75.75 0 0 1-1.5 0v-2.5a.75.75 0 0 1 1.5 0ZM9 11a1 1 0 1 1-2 0 1 1 0 0 1 2 0Z"></path>
</svg>
            Couldn't load subscription status.&nbsp;
              <button data-retry-button="" type="button" data-view-component="true" class="Button--link Button--medium Button">    <span class="Button-content">
      <span class="Button-label">Retry</span>
    </span>
</button>  

          </span>

    </p>
  </include-fragment>
  </li>

  <li>
        <div data-view-component="true" class="d-flex">
        <div data-view-component="true" class="position-relative d-inline-block">
    <a icon="repo-forked" id="fork-button" href="/ContentUpgrad/Convolutional-Neural-Network-Industry-Applications/fork" data-hydro-click="{&quot;event_type&quot;:&quot;repository.click&quot;,&quot;payload&quot;:{&quot;target&quot;:&quot;FORK_BUTTON&quot;,&quot;repository_id&quot;:478520428,&quot;originating_url&quot;:&quot;https://github.com/ContentUpgrad/Convolutional-Neural-Network-Industry-Applications/blob/main/Using-CNNs-with-X-ray-Images/Working_With_Chest_XRay_Images-.ipynb&quot;,&quot;user_id&quot;:10133554}}" data-hydro-click-hmac="53661f33c4511f9fa5bf5e4425ceb91c4293cbc508021fdc329931cfc18e257f" data-ga-click="Repository, show fork modal, action:blob#show; text:Fork" data-view-component="true" class="btn-sm btn BtnGroup-item border-right-0">      <svg aria-hidden="true" height="16" viewBox="0 0 16 16" version="1.1" width="16" data-view-component="true" class="octicon octicon-repo-forked mr-2">
    <path d="M5 5.372v.878c0 .414.336.75.75.75h4.5a.75.75 0 0 0 .75-.75v-.878a2.25 2.25 0 1 1 1.5 0v.878a2.25 2.25 0 0 1-2.25 2.25h-1.5v2.128a2.251 2.251 0 1 1-1.5 0V8.5h-1.5A2.25 2.25 0 0 1 3.5 6.25v-.878a2.25 2.25 0 1 1 1.5 0ZM5 3.25a.75.75 0 1 0-1.5 0 .75.75 0 0 0 1.5 0Zm6.75.75a.75.75 0 1 0 0-1.5.75.75 0 0 0 0 1.5Zm-3 8.75a.75.75 0 1 0-1.5 0 .75.75 0 0 0 1.5 0Z"></path>
</svg>Fork
          <span id="repo-network-counter" data-pjax-replace="true" data-turbo-replace="true" title="92" data-view-component="true" class="Counter">92</span>
</a>    <tool-tip id="tooltip-099db937-a1bc-4f9f-a610-15240f0df759" for="fork-button" data-direction="s" data-type="description" data-view-component="true" class="sr-only position-absolute">Fork your own copy of ContentUpgrad/Convolutional-Neural-Network-Industry-Applications</tool-tip>
</div>
      <details group_item="true" id="my-forks-menu-478520428" data-view-component="true" class="details-reset details-overlay BtnGroup-parent d-inline-block position-relative">
              <summary aria-label="See your forks of this repository" data-view-component="true" class="btn-sm btn BtnGroup-item px-2 float-none">    <svg aria-hidden="true" height="16" viewBox="0 0 16 16" version="1.1" width="16" data-view-component="true" class="octicon octicon-triangle-down">
    <path d="m4.427 7.427 3.396 3.396a.25.25 0 0 0 .354 0l3.396-3.396A.25.25 0 0 0 11.396 7H4.604a.25.25 0 0 0-.177.427Z"></path>
</svg>
</summary>
  <details-menu
    class="SelectMenu right-0"
      src="/ContentUpgrad/Convolutional-Neural-Network-Industry-Applications/my_forks_menu_content?can_fork=true"
      
      role="menu"
      
>
    <div class="SelectMenu-modal">
        <button class="SelectMenu-closeButton position-absolute right-0 m-2" type="button" aria-label="Close menu" data-toggle-for="details-7b7ce5">
          <svg aria-hidden="true" height="16" viewBox="0 0 16 16" version="1.1" width="16" data-view-component="true" class="octicon octicon-x">
    <path d="M3.72 3.72a.75.75 0 0 1 1.06 0L8 6.94l3.22-3.22a.749.749 0 0 1 1.275.326.749.749 0 0 1-.215.734L9.06 8l3.22 3.22a.749.749 0 0 1-.326 1.275.749.749 0 0 1-.734-.215L8 9.06l-3.22 3.22a.751.751 0 0 1-1.042-.018.751.751 0 0 1-.018-1.042L6.94 8 3.72 4.78a.75.75 0 0 1 0-1.06Z"></path>
</svg>
        </button>
      <div
        id="filter-menu-7b7ce5"
        class="d-flex flex-column flex-1 overflow-hidden"
>
        <div
          class="SelectMenu-list"
          >

            <include-fragment class="SelectMenu-loading" aria-label="Loading">
              <svg role="menuitem" style="box-sizing: content-box; color: var(--color-icon-primary);" width="32" height="32" viewBox="0 0 16 16" fill="none" data-view-component="true" class="anim-rotate">
  <circle cx="8" cy="8" r="7" stroke="currentColor" stroke-opacity="0.25" stroke-width="2" vector-effect="non-scaling-stroke" />
  <path d="M15 8a7.002 7.002 0 00-7-7" stroke="currentColor" stroke-width="2" stroke-linecap="round" vector-effect="non-scaling-stroke" />
</svg>
            </include-fragment>
        </div>
        
      </div>
    </div>
  </details-menu>
</details></div>
  </li>

  <li>
        <template class="js-unstar-confirmation-dialog-template">
  <div class="Box-header">
    <h2 class="Box-title">Unstar this repository?</h2>
  </div>
  <div class="Box-body">
    <p class="mb-3">
      This will remove {{ repoNameWithOwner }} from the {{ listsWithCount }} that it's been added to.
    </p>
    <div class="form-actions">
      <!-- '"` --><!-- </textarea></xmp> --></option></form><form class="js-social-confirmation-form" data-turbo="false" action="{{ confirmUrl }}" accept-charset="UTF-8" method="post">
        <input type="hidden" name="authenticity_token" value="{{ confirmCsrfToken }}">
        <input type="hidden" name="confirm" value="true">
          <button data-close-dialog="true" type="submit" data-view-component="true" class="btn-danger btn width-full">    Unstar
</button>
</form>    </div>
  </div>
</template>

  <div data-view-component="true" class="js-toggler-container js-social-container starring-container d-flex">
    <div data-view-component="true" class="starred BtnGroup flex-1">
      <!-- '"` --><!-- </textarea></xmp> --></option></form><form class="js-social-form BtnGroup-parent flex-auto js-deferred-toggler-target" data-turbo="false" action="/ContentUpgrad/Convolutional-Neural-Network-Industry-Applications/unstar" accept-charset="UTF-8" method="post"><input type="hidden" name="authenticity_token" value="5QHOIWoAqeOM5BdZwgOU6WGgc7QyR-s-vV0gj7AO2MTBfqa3Uy9xuRjTZoec_u-4xKKrUDu-2hvXDLe1ZRvlew" autocomplete="off" />
          <input type="hidden" value="jP9rr63MYfdDqFLMp4Ua5d8a60clAyG-aml9Vtk9yteogAM5lOO5rdefIxL5eGG0ehgzoyz6EJsAOOpsDCj3aA" data-csrf="true" class="js-confirm-csrf-token" />
        <input type="hidden" name="context" value="repository">
          <button data-hydro-click="{&quot;event_type&quot;:&quot;repository.click&quot;,&quot;payload&quot;:{&quot;target&quot;:&quot;UNSTAR_BUTTON&quot;,&quot;repository_id&quot;:478520428,&quot;originating_url&quot;:&quot;https://github.com/ContentUpgrad/Convolutional-Neural-Network-Industry-Applications/blob/main/Using-CNNs-with-X-ray-Images/Working_With_Chest_XRay_Images-.ipynb&quot;,&quot;user_id&quot;:10133554}}" data-hydro-click-hmac="ca7100b733ed3ae0cce246b407a1e0850fe4154e8d73868808006c10dd0742e3" data-ga-click="Repository, click unstar button, action:blob#show; text:Unstar" aria-label="Unstar this repository (3)" type="submit" data-view-component="true" class="rounded-left-2 btn-sm btn BtnGroup-item">    <svg aria-hidden="true" height="16" viewBox="0 0 16 16" version="1.1" width="16" data-view-component="true" class="octicon octicon-star-fill starred-button-icon d-inline-block mr-2">
    <path d="M8 .25a.75.75 0 0 1 .673.418l1.882 3.815 4.21.612a.75.75 0 0 1 .416 1.279l-3.046 2.97.719 4.192a.751.751 0 0 1-1.088.791L8 12.347l-3.766 1.98a.75.75 0 0 1-1.088-.79l.72-4.194L.818 6.374a.75.75 0 0 1 .416-1.28l4.21-.611L7.327.668A.75.75 0 0 1 8 .25Z"></path>
</svg><span data-view-component="true" class="d-inline">
              Starred
</span>              <span id="repo-stars-counter-unstar" aria-label="3 users starred this repository" data-singular-suffix="user starred this repository" data-plural-suffix="users starred this repository" data-turbo-replace="true" title="3" data-view-component="true" class="Counter js-social-count">3</span>
</button></form>        <details id="details-user-list-478520428-starred" data-view-component="true" class="details-reset details-overlay BtnGroup-parent js-user-list-menu d-inline-block position-relative">
        <summary aria-label="Add this repository to a list" data-view-component="true" class="btn-sm btn BtnGroup-item px-2 float-none">    <svg aria-hidden="true" height="16" viewBox="0 0 16 16" version="1.1" width="16" data-view-component="true" class="octicon octicon-triangle-down">
    <path d="m4.427 7.427 3.396 3.396a.25.25 0 0 0 .354 0l3.396-3.396A.25.25 0 0 0 11.396 7H4.604a.25.25 0 0 0-.177.427Z"></path>
</svg>
</summary>
  <details-menu
    class="SelectMenu right-0"
      src="/ContentUpgrad/Convolutional-Neural-Network-Industry-Applications/lists"
      
      role="menu"
      
>
    <div class="SelectMenu-modal">
        <button class="SelectMenu-closeButton position-absolute right-0 m-2" type="button" aria-label="Close menu" data-toggle-for="details-81191f">
          <svg aria-hidden="true" height="16" viewBox="0 0 16 16" version="1.1" width="16" data-view-component="true" class="octicon octicon-x">
    <path d="M3.72 3.72a.75.75 0 0 1 1.06 0L8 6.94l3.22-3.22a.749.749 0 0 1 1.275.326.749.749 0 0 1-.215.734L9.06 8l3.22 3.22a.749.749 0 0 1-.326 1.275.749.749 0 0 1-.734-.215L8 9.06l-3.22 3.22a.751.751 0 0 1-1.042-.018.751.751 0 0 1-.018-1.042L6.94 8 3.72 4.78a.75.75 0 0 1 0-1.06Z"></path>
</svg>
        </button>
      <div
        id="filter-menu-81191f"
        class="d-flex flex-column flex-1 overflow-hidden"
>
        <div
          class="SelectMenu-list"
          >

            <include-fragment class="SelectMenu-loading" aria-label="Loading">
              <svg role="menuitem" style="box-sizing: content-box; color: var(--color-icon-primary);" width="32" height="32" viewBox="0 0 16 16" fill="none" data-view-component="true" class="anim-rotate">
  <circle cx="8" cy="8" r="7" stroke="currentColor" stroke-opacity="0.25" stroke-width="2" vector-effect="non-scaling-stroke" />
  <path d="M15 8a7.002 7.002 0 00-7-7" stroke="currentColor" stroke-width="2" stroke-linecap="round" vector-effect="non-scaling-stroke" />
</svg>
            </include-fragment>
        </div>
        
      </div>
    </div>
  </details-menu>
</details>
</div>
    <div data-view-component="true" class="unstarred BtnGroup flex-1">
      <!-- '"` --><!-- </textarea></xmp> --></option></form><form class="js-social-form BtnGroup-parent flex-auto" data-turbo="false" action="/ContentUpgrad/Convolutional-Neural-Network-Industry-Applications/star" accept-charset="UTF-8" method="post"><input type="hidden" name="authenticity_token" value="e5kgTEWWjmfDxUuZwDXygMlFg4caF54RgnWWxVz_4bknnLreCgUgF5ZJY71rnzTWktHl72OrUs5k0IW5nDACzg" autocomplete="off" />
        <input type="hidden" name="context" value="repository">
          <button data-hydro-click="{&quot;event_type&quot;:&quot;repository.click&quot;,&quot;payload&quot;:{&quot;target&quot;:&quot;STAR_BUTTON&quot;,&quot;repository_id&quot;:478520428,&quot;originating_url&quot;:&quot;https://github.com/ContentUpgrad/Convolutional-Neural-Network-Industry-Applications/blob/main/Using-CNNs-with-X-ray-Images/Working_With_Chest_XRay_Images-.ipynb&quot;,&quot;user_id&quot;:10133554}}" data-hydro-click-hmac="49e40e2e6f6e8d184d66b52f277964ba37e52dc99065e8baf6f1c6a45648b63b" data-ga-click="Repository, click star button, action:blob#show; text:Star" aria-label="Star this repository (3)" type="submit" data-view-component="true" class="js-toggler-target rounded-left-2 btn-sm btn BtnGroup-item">    <svg aria-hidden="true" height="16" viewBox="0 0 16 16" version="1.1" width="16" data-view-component="true" class="octicon octicon-star d-inline-block mr-2">
    <path d="M8 .25a.75.75 0 0 1 .673.418l1.882 3.815 4.21.612a.75.75 0 0 1 .416 1.279l-3.046 2.97.719 4.192a.751.751 0 0 1-1.088.791L8 12.347l-3.766 1.98a.75.75 0 0 1-1.088-.79l.72-4.194L.818 6.374a.75.75 0 0 1 .416-1.28l4.21-.611L7.327.668A.75.75 0 0 1 8 .25Zm0 2.445L6.615 5.5a.75.75 0 0 1-.564.41l-3.097.45 2.24 2.184a.75.75 0 0 1 .216.664l-.528 3.084 2.769-1.456a.75.75 0 0 1 .698 0l2.77 1.456-.53-3.084a.75.75 0 0 1 .216-.664l2.24-2.183-3.096-.45a.75.75 0 0 1-.564-.41L8 2.694Z"></path>
</svg><span data-view-component="true" class="d-inline">
              Star
</span>              <span id="repo-stars-counter-star" aria-label="3 users starred this repository" data-singular-suffix="user starred this repository" data-plural-suffix="users starred this repository" data-turbo-replace="true" title="3" data-view-component="true" class="Counter js-social-count">3</span>
</button></form>        <details id="details-user-list-478520428-unstarred" data-view-component="true" class="details-reset details-overlay BtnGroup-parent js-user-list-menu d-inline-block position-relative">
        <summary aria-label="Add this repository to a list" data-view-component="true" class="btn-sm btn BtnGroup-item px-2 float-none">    <svg aria-hidden="true" height="16" viewBox="0 0 16 16" version="1.1" width="16" data-view-component="true" class="octicon octicon-triangle-down">
    <path d="m4.427 7.427 3.396 3.396a.25.25 0 0 0 .354 0l3.396-3.396A.25.25 0 0 0 11.396 7H4.604a.25.25 0 0 0-.177.427Z"></path>
</svg>
</summary>
  <details-menu
    class="SelectMenu right-0"
      src="/ContentUpgrad/Convolutional-Neural-Network-Industry-Applications/lists"
      
      role="menu"
      
>
    <div class="SelectMenu-modal">
        <button class="SelectMenu-closeButton position-absolute right-0 m-2" type="button" aria-label="Close menu" data-toggle-for="details-801373">
          <svg aria-hidden="true" height="16" viewBox="0 0 16 16" version="1.1" width="16" data-view-component="true" class="octicon octicon-x">
    <path d="M3.72 3.72a.75.75 0 0 1 1.06 0L8 6.94l3.22-3.22a.749.749 0 0 1 1.275.326.749.749 0 0 1-.215.734L9.06 8l3.22 3.22a.749.749 0 0 1-.326 1.275.749.749 0 0 1-.734-.215L8 9.06l-3.22 3.22a.751.751 0 0 1-1.042-.018.751.751 0 0 1-.018-1.042L6.94 8 3.72 4.78a.75.75 0 0 1 0-1.06Z"></path>
</svg>
        </button>
      <div
        id="filter-menu-801373"
        class="d-flex flex-column flex-1 overflow-hidden"
>
        <div
          class="SelectMenu-list"
          >

            <include-fragment class="SelectMenu-loading" aria-label="Loading">
              <svg role="menuitem" style="box-sizing: content-box; color: var(--color-icon-primary);" width="32" height="32" viewBox="0 0 16 16" fill="none" data-view-component="true" class="anim-rotate">
  <circle cx="8" cy="8" r="7" stroke="currentColor" stroke-opacity="0.25" stroke-width="2" vector-effect="non-scaling-stroke" />
  <path d="M15 8a7.002 7.002 0 00-7-7" stroke="currentColor" stroke-width="2" stroke-linecap="round" vector-effect="non-scaling-stroke" />
</svg>
            </include-fragment>
        </div>
        
      </div>
    </div>
  </details-menu>
</details>
</div></div>
  </li>


    

</ul>

        </div>
      </div>

        <div id="responsive-meta-container" data-turbo-replace>
</div>


          <nav data-pjax="#js-repo-pjax-container" aria-label="Repository" data-view-component="true" class="js-repo-nav js-sidenav-container-pjax js-responsive-underlinenav overflow-hidden UnderlineNav px-3 px-md-4 px-lg-5">

  <ul data-view-component="true" class="UnderlineNav-body list-style-none">
      <li data-view-component="true" class="d-inline-flex">
  <a id="code-tab" href="/ContentUpgrad/Convolutional-Neural-Network-Industry-Applications" data-tab-item="i0code-tab" data-selected-links="repo_source repo_downloads repo_commits repo_releases repo_tags repo_branches repo_packages repo_deployments /ContentUpgrad/Convolutional-Neural-Network-Industry-Applications" data-pjax="#repo-content-pjax-container" data-turbo-frame="repo-content-turbo-frame" data-hotkey="g c" data-analytics-event="{&quot;category&quot;:&quot;Underline navbar&quot;,&quot;action&quot;:&quot;Click tab&quot;,&quot;label&quot;:&quot;Code&quot;,&quot;target&quot;:&quot;UNDERLINE_NAV.TAB&quot;}" aria-current="page" data-view-component="true" class="UnderlineNav-item no-wrap js-responsive-underlinenav-item js-selected-navigation-item selected">
    
              <svg aria-hidden="true" height="16" viewBox="0 0 16 16" version="1.1" width="16" data-view-component="true" class="octicon octicon-code UnderlineNav-octicon d-none d-sm-inline">
    <path d="m11.28 3.22 4.25 4.25a.75.75 0 0 1 0 1.06l-4.25 4.25a.749.749 0 0 1-1.275-.326.749.749 0 0 1 .215-.734L13.94 8l-3.72-3.72a.749.749 0 0 1 .326-1.275.749.749 0 0 1 .734.215Zm-6.56 0a.751.751 0 0 1 1.042.018.751.751 0 0 1 .018 1.042L2.06 8l3.72 3.72a.749.749 0 0 1-.326 1.275.749.749 0 0 1-.734-.215L.47 8.53a.75.75 0 0 1 0-1.06Z"></path>
</svg>
        <span data-content="Code">Code</span>
          <span id="code-repo-tab-count" data-pjax-replace="" data-turbo-replace="" title="Not available" data-view-component="true" class="Counter"></span>


    
</a></li>
      <li data-view-component="true" class="d-inline-flex">
  <a id="issues-tab" href="/ContentUpgrad/Convolutional-Neural-Network-Industry-Applications/issues" data-tab-item="i1issues-tab" data-selected-links="repo_issues repo_labels repo_milestones /ContentUpgrad/Convolutional-Neural-Network-Industry-Applications/issues" data-pjax="#repo-content-pjax-container" data-turbo-frame="repo-content-turbo-frame" data-hotkey="g i" data-analytics-event="{&quot;category&quot;:&quot;Underline navbar&quot;,&quot;action&quot;:&quot;Click tab&quot;,&quot;label&quot;:&quot;Issues&quot;,&quot;target&quot;:&quot;UNDERLINE_NAV.TAB&quot;}" data-view-component="true" class="UnderlineNav-item no-wrap js-responsive-underlinenav-item js-selected-navigation-item">
    
              <svg aria-hidden="true" height="16" viewBox="0 0 16 16" version="1.1" width="16" data-view-component="true" class="octicon octicon-issue-opened UnderlineNav-octicon d-none d-sm-inline">
    <path d="M8 9.5a1.5 1.5 0 1 0 0-3 1.5 1.5 0 0 0 0 3Z"></path><path d="M8 0a8 8 0 1 1 0 16A8 8 0 0 1 8 0ZM1.5 8a6.5 6.5 0 1 0 13 0 6.5 6.5 0 0 0-13 0Z"></path>
</svg>
        <span data-content="Issues">Issues</span>
          <span id="issues-repo-tab-count" data-pjax-replace="" data-turbo-replace="" title="0" hidden="hidden" data-view-component="true" class="Counter">0</span>


    
</a></li>
      <li data-view-component="true" class="d-inline-flex">
  <a id="pull-requests-tab" href="/ContentUpgrad/Convolutional-Neural-Network-Industry-Applications/pulls" data-tab-item="i2pull-requests-tab" data-selected-links="repo_pulls checks /ContentUpgrad/Convolutional-Neural-Network-Industry-Applications/pulls" data-pjax="#repo-content-pjax-container" data-turbo-frame="repo-content-turbo-frame" data-hotkey="g p" data-analytics-event="{&quot;category&quot;:&quot;Underline navbar&quot;,&quot;action&quot;:&quot;Click tab&quot;,&quot;label&quot;:&quot;Pull requests&quot;,&quot;target&quot;:&quot;UNDERLINE_NAV.TAB&quot;}" data-view-component="true" class="UnderlineNav-item no-wrap js-responsive-underlinenav-item js-selected-navigation-item">
    
              <svg aria-hidden="true" height="16" viewBox="0 0 16 16" version="1.1" width="16" data-view-component="true" class="octicon octicon-git-pull-request UnderlineNav-octicon d-none d-sm-inline">
    <path d="M1.5 3.25a2.25 2.25 0 1 1 3 2.122v5.256a2.251 2.251 0 1 1-1.5 0V5.372A2.25 2.25 0 0 1 1.5 3.25Zm5.677-.177L9.573.677A.25.25 0 0 1 10 .854V2.5h1A2.5 2.5 0 0 1 13.5 5v5.628a2.251 2.251 0 1 1-1.5 0V5a1 1 0 0 0-1-1h-1v1.646a.25.25 0 0 1-.427.177L7.177 3.427a.25.25 0 0 1 0-.354ZM3.75 2.5a.75.75 0 1 0 0 1.5.75.75 0 0 0 0-1.5Zm0 9.5a.75.75 0 1 0 0 1.5.75.75 0 0 0 0-1.5Zm8.25.75a.75.75 0 1 0 1.5 0 .75.75 0 0 0-1.5 0Z"></path>
</svg>
        <span data-content="Pull requests">Pull requests</span>
          <span id="pull-requests-repo-tab-count" data-pjax-replace="" data-turbo-replace="" title="0" hidden="hidden" data-view-component="true" class="Counter">0</span>


    
</a></li>
      <li data-view-component="true" class="d-inline-flex">
  <a id="actions-tab" href="/ContentUpgrad/Convolutional-Neural-Network-Industry-Applications/actions" data-tab-item="i3actions-tab" data-selected-links="repo_actions /ContentUpgrad/Convolutional-Neural-Network-Industry-Applications/actions" data-pjax="#repo-content-pjax-container" data-turbo-frame="repo-content-turbo-frame" data-hotkey="g a" data-analytics-event="{&quot;category&quot;:&quot;Underline navbar&quot;,&quot;action&quot;:&quot;Click tab&quot;,&quot;label&quot;:&quot;Actions&quot;,&quot;target&quot;:&quot;UNDERLINE_NAV.TAB&quot;}" data-view-component="true" class="UnderlineNav-item no-wrap js-responsive-underlinenav-item js-selected-navigation-item">
    
              <svg aria-hidden="true" height="16" viewBox="0 0 16 16" version="1.1" width="16" data-view-component="true" class="octicon octicon-play UnderlineNav-octicon d-none d-sm-inline">
    <path d="M8 0a8 8 0 1 1 0 16A8 8 0 0 1 8 0ZM1.5 8a6.5 6.5 0 1 0 13 0 6.5 6.5 0 0 0-13 0Zm4.879-2.773 4.264 2.559a.25.25 0 0 1 0 .428l-4.264 2.559A.25.25 0 0 1 6 10.559V5.442a.25.25 0 0 1 .379-.215Z"></path>
</svg>
        <span data-content="Actions">Actions</span>
          <span id="actions-repo-tab-count" data-pjax-replace="" data-turbo-replace="" title="Not available" data-view-component="true" class="Counter"></span>


    
</a></li>
      <li data-view-component="true" class="d-inline-flex">
  <a id="projects-tab" href="/ContentUpgrad/Convolutional-Neural-Network-Industry-Applications/projects" data-tab-item="i4projects-tab" data-selected-links="repo_projects new_repo_project repo_project /ContentUpgrad/Convolutional-Neural-Network-Industry-Applications/projects" data-pjax="#repo-content-pjax-container" data-turbo-frame="repo-content-turbo-frame" data-hotkey="g b" data-analytics-event="{&quot;category&quot;:&quot;Underline navbar&quot;,&quot;action&quot;:&quot;Click tab&quot;,&quot;label&quot;:&quot;Projects&quot;,&quot;target&quot;:&quot;UNDERLINE_NAV.TAB&quot;}" data-view-component="true" class="UnderlineNav-item no-wrap js-responsive-underlinenav-item js-selected-navigation-item">
    
              <svg aria-hidden="true" height="16" viewBox="0 0 16 16" version="1.1" width="16" data-view-component="true" class="octicon octicon-table UnderlineNav-octicon d-none d-sm-inline">
    <path d="M0 1.75C0 .784.784 0 1.75 0h12.5C15.216 0 16 .784 16 1.75v12.5A1.75 1.75 0 0 1 14.25 16H1.75A1.75 1.75 0 0 1 0 14.25ZM6.5 6.5v8h7.75a.25.25 0 0 0 .25-.25V6.5Zm8-1.5V1.75a.25.25 0 0 0-.25-.25H6.5V5Zm-13 1.5v7.75c0 .138.112.25.25.25H5v-8ZM5 5V1.5H1.75a.25.25 0 0 0-.25.25V5Z"></path>
</svg>
        <span data-content="Projects">Projects</span>
          <span id="projects-repo-tab-count" data-pjax-replace="" data-turbo-replace="" title="0" hidden="hidden" data-view-component="true" class="Counter">0</span>


    
</a></li>
      <li data-view-component="true" class="d-inline-flex">
  <a id="security-tab" href="/ContentUpgrad/Convolutional-Neural-Network-Industry-Applications/security" data-tab-item="i5security-tab" data-selected-links="security overview alerts policy token_scanning code_scanning /ContentUpgrad/Convolutional-Neural-Network-Industry-Applications/security" data-pjax="#repo-content-pjax-container" data-turbo-frame="repo-content-turbo-frame" data-hotkey="g s" data-analytics-event="{&quot;category&quot;:&quot;Underline navbar&quot;,&quot;action&quot;:&quot;Click tab&quot;,&quot;label&quot;:&quot;Security&quot;,&quot;target&quot;:&quot;UNDERLINE_NAV.TAB&quot;}" data-view-component="true" class="UnderlineNav-item no-wrap js-responsive-underlinenav-item js-selected-navigation-item">
    
              <svg aria-hidden="true" height="16" viewBox="0 0 16 16" version="1.1" width="16" data-view-component="true" class="octicon octicon-shield UnderlineNav-octicon d-none d-sm-inline">
    <path d="M7.467.133a1.748 1.748 0 0 1 1.066 0l5.25 1.68A1.75 1.75 0 0 1 15 3.48V7c0 1.566-.32 3.182-1.303 4.682-.983 1.498-2.585 2.813-5.032 3.855a1.697 1.697 0 0 1-1.33 0c-2.447-1.042-4.049-2.357-5.032-3.855C1.32 10.182 1 8.566 1 7V3.48a1.75 1.75 0 0 1 1.217-1.667Zm.61 1.429a.25.25 0 0 0-.153 0l-5.25 1.68a.25.25 0 0 0-.174.238V7c0 1.358.275 2.666 1.057 3.86.784 1.194 2.121 2.34 4.366 3.297a.196.196 0 0 0 .154 0c2.245-.956 3.582-2.104 4.366-3.298C13.225 9.666 13.5 8.36 13.5 7V3.48a.251.251 0 0 0-.174-.237l-5.25-1.68ZM8.75 4.75v3a.75.75 0 0 1-1.5 0v-3a.75.75 0 0 1 1.5 0ZM9 10.5a1 1 0 1 1-2 0 1 1 0 0 1 2 0Z"></path>
</svg>
        <span data-content="Security">Security</span>
          <include-fragment src="/ContentUpgrad/Convolutional-Neural-Network-Industry-Applications/security/overall-count" accept="text/fragment+html"></include-fragment>

    
</a></li>
      <li data-view-component="true" class="d-inline-flex">
  <a id="insights-tab" href="/ContentUpgrad/Convolutional-Neural-Network-Industry-Applications/pulse" data-tab-item="i6insights-tab" data-selected-links="repo_graphs repo_contributors dependency_graph dependabot_updates pulse people community /ContentUpgrad/Convolutional-Neural-Network-Industry-Applications/pulse" data-pjax="#repo-content-pjax-container" data-turbo-frame="repo-content-turbo-frame" data-analytics-event="{&quot;category&quot;:&quot;Underline navbar&quot;,&quot;action&quot;:&quot;Click tab&quot;,&quot;label&quot;:&quot;Insights&quot;,&quot;target&quot;:&quot;UNDERLINE_NAV.TAB&quot;}" data-view-component="true" class="UnderlineNav-item no-wrap js-responsive-underlinenav-item js-selected-navigation-item">
    
              <svg aria-hidden="true" height="16" viewBox="0 0 16 16" version="1.1" width="16" data-view-component="true" class="octicon octicon-graph UnderlineNav-octicon d-none d-sm-inline">
    <path d="M1.5 1.75V13.5h13.75a.75.75 0 0 1 0 1.5H.75a.75.75 0 0 1-.75-.75V1.75a.75.75 0 0 1 1.5 0Zm14.28 2.53-5.25 5.25a.75.75 0 0 1-1.06 0L7 7.06 4.28 9.78a.751.751 0 0 1-1.042-.018.751.751 0 0 1-.018-1.042l3.25-3.25a.75.75 0 0 1 1.06 0L10 7.94l4.72-4.72a.751.751 0 0 1 1.042.018.751.751 0 0 1 .018 1.042Z"></path>
</svg>
        <span data-content="Insights">Insights</span>
          <span id="insights-repo-tab-count" data-pjax-replace="" data-turbo-replace="" title="Not available" data-view-component="true" class="Counter"></span>


    
</a></li>
</ul>
    <div style="visibility:hidden;" data-view-component="true" class="UnderlineNav-actions js-responsive-underlinenav-overflow position-absolute pr-3 pr-md-4 pr-lg-5 right-0">      <details data-view-component="true" class="details-overlay details-reset position-relative">
  <summary role="button" data-view-component="true">          <div class="UnderlineNav-item mr-0 border-0">
            <svg aria-hidden="true" height="16" viewBox="0 0 16 16" version="1.1" width="16" data-view-component="true" class="octicon octicon-kebab-horizontal">
    <path d="M8 9a1.5 1.5 0 1 0 0-3 1.5 1.5 0 0 0 0 3ZM1.5 9a1.5 1.5 0 1 0 0-3 1.5 1.5 0 0 0 0 3Zm13 0a1.5 1.5 0 1 0 0-3 1.5 1.5 0 0 0 0 3Z"></path>
</svg>
            <span class="sr-only">More</span>
          </div>
</summary>
  <details-menu role="menu" data-view-component="true" class="dropdown-menu dropdown-menu-sw">          <ul>
              <li data-menu-item="i0code-tab" hidden>
                <a role="menuitem" class="js-selected-navigation-item selected dropdown-item" aria-current="page" data-selected-links="repo_source repo_downloads repo_commits repo_releases repo_tags repo_branches repo_packages repo_deployments /ContentUpgrad/Convolutional-Neural-Network-Industry-Applications" href="/ContentUpgrad/Convolutional-Neural-Network-Industry-Applications">
                  Code
</a>              </li>
              <li data-menu-item="i1issues-tab" hidden>
                <a role="menuitem" class="js-selected-navigation-item dropdown-item" data-selected-links="repo_issues repo_labels repo_milestones /ContentUpgrad/Convolutional-Neural-Network-Industry-Applications/issues" href="/ContentUpgrad/Convolutional-Neural-Network-Industry-Applications/issues">
                  Issues
</a>              </li>
              <li data-menu-item="i2pull-requests-tab" hidden>
                <a role="menuitem" class="js-selected-navigation-item dropdown-item" data-selected-links="repo_pulls checks /ContentUpgrad/Convolutional-Neural-Network-Industry-Applications/pulls" href="/ContentUpgrad/Convolutional-Neural-Network-Industry-Applications/pulls">
                  Pull requests
</a>              </li>
              <li data-menu-item="i3actions-tab" hidden>
                <a role="menuitem" class="js-selected-navigation-item dropdown-item" data-selected-links="repo_actions /ContentUpgrad/Convolutional-Neural-Network-Industry-Applications/actions" href="/ContentUpgrad/Convolutional-Neural-Network-Industry-Applications/actions">
                  Actions
</a>              </li>
              <li data-menu-item="i4projects-tab" hidden>
                <a role="menuitem" class="js-selected-navigation-item dropdown-item" data-selected-links="repo_projects new_repo_project repo_project /ContentUpgrad/Convolutional-Neural-Network-Industry-Applications/projects" href="/ContentUpgrad/Convolutional-Neural-Network-Industry-Applications/projects">
                  Projects
</a>              </li>
              <li data-menu-item="i5security-tab" hidden>
                <a role="menuitem" class="js-selected-navigation-item dropdown-item" data-selected-links="security overview alerts policy token_scanning code_scanning /ContentUpgrad/Convolutional-Neural-Network-Industry-Applications/security" href="/ContentUpgrad/Convolutional-Neural-Network-Industry-Applications/security">
                  Security
</a>              </li>
              <li data-menu-item="i6insights-tab" hidden>
                <a role="menuitem" class="js-selected-navigation-item dropdown-item" data-selected-links="repo_graphs repo_contributors dependency_graph dependabot_updates pulse people community /ContentUpgrad/Convolutional-Neural-Network-Industry-Applications/pulse" href="/ContentUpgrad/Convolutional-Neural-Network-Industry-Applications/pulse">
                  Insights
</a>              </li>
          </ul>
</details-menu>
</details></div>
</nav>

  </div>

  



<turbo-frame id="repo-content-turbo-frame" target="_top" data-turbo-action="advance" class="">
    <div id="repo-content-pjax-container" class="repository-content " >
      <a href="https://github.dev/" class="d-none js-github-dev-shortcut" data-hotkey=".">Open in github.dev</a>
  <a href="https://github.dev/" class="d-none js-github-dev-new-tab-shortcut" data-hotkey="Shift+.,Shift+&gt;,&gt;" target="_blank">Open in a new github.dev tab</a>
    <a class="d-none" data-hotkey="," target="_blank" href="/codespaces/new/ContentUpgrad/Convolutional-Neural-Network-Industry-Applications/tree/main?resume=1">Open in codespace</a>



    
      
    





<react-app
  app-name="react-code-view"
  initial-path="/ContentUpgrad/Convolutional-Neural-Network-Industry-Applications/blob/main/Using-CNNs-with-X-ray-Images/Working_With_Chest_XRay_Images-.ipynb"
  style="min-height: calc(100vh - 62px)"
  data-ssr="false"
  data-lazy="false"
  data-alternate="false"
>
  
  <script type="application/json" data-target="react-app.embeddedData">{"payload":{"allShortcutsEnabled":true,"fileTree":{"Using-CNNs-with-X-ray-Images":{"items":[{"name":"Working_With_Chest_XRay_Images-.ipynb","path":"Using-CNNs-with-X-ray-Images/Working_With_Chest_XRay_Images-.ipynb","contentType":"file"}],"totalCount":1},"":{"items":[{"name":"Detecting-Vehicles-in-Videos","path":"Detecting-Vehicles-in-Videos","contentType":"directory"},{"name":"Object-Tracking","path":"Object-Tracking","contentType":"directory"},{"name":"Using-CNNs-with-Flowers-Images","path":"Using-CNNs-with-Flowers-Images","contentType":"directory"},{"name":"Using-CNNs-with-X-ray-Images","path":"Using-CNNs-with-X-ray-Images","contentType":"directory"},{"name":".gitattributes","path":".gitattributes","contentType":"file"}],"totalCount":5}},"fileTreeProcessingTime":3.506483,"foldersToFetch":[],"reducedMotionEnabled":"system","repo":{"id":478520428,"defaultBranch":"main","name":"Convolutional-Neural-Network-Industry-Applications","ownerLogin":"ContentUpgrad","currentUserCanPush":false,"isFork":false,"isEmpty":false,"createdAt":"2022-04-06T16:28:50.000+05:30","ownerAvatar":"https://avatars.githubusercontent.com/u/82654736?v=4","public":true,"private":false},"refInfo":{"name":"main","listCacheKey":"v0:1649242738.585835","canEdit":true,"refType":"branch","currentOid":"85bff30cc06805711133f3ce94fb2e27733ff2ff"},"path":"Using-CNNs-with-X-ray-Images/Working_With_Chest_XRay_Images-.ipynb","currentUser":{"id":10133554,"login":"krishnajiraoh","userEmail":"krishnajirao.h@gmail.com"},"blob":{"rawBlob":"{\n \"cells\": [\n  {\n   \"cell_type\": \"markdown\",\n   \"metadata\": {},\n   \"source\": [\n    \"# Analysis of Chest X-Ray images\"\n   ]\n  },\n  {\n   \"cell_type\": \"markdown\",\n   \"metadata\": {},\n   \"source\": [\n    \"Neural networks have revolutionised image processing in several different domains. Among these is the field of medical imaging. In the following notebook, we will get some hands-on experience in working with Chest X-Ray (CXR) images.\\n\",\n    \"\\n\",\n    \"The objective of this exercise is to identify images where an \\\"effusion\\\" is present. This is a classification problem, where we will be dealing with two classes - 'effusion' and 'nofinding'. Here, the latter represents a \\\"normal\\\" X-ray image.\\n\",\n    \"\\n\",\n    \"This same methodology can be used to spot various other illnesses that can be detected via a chest x-ray. For the scope of this demonstration, we will specifically deal with \\\"effusion\\\".\"\n   ]\n  },\n  {\n   \"cell_type\": \"markdown\",\n   \"metadata\": {},\n   \"source\": [\n    \"## 1. Data Pre-processing\"\n   ]\n  },\n  {\n   \"cell_type\": \"markdown\",\n   \"metadata\": {},\n   \"source\": [\n    \"Our data is in the form of grayscale (black and white) images of chest x-rays. To perform our classification task effectively, we need to perform some pre-processing of the data.\\n\",\n    \"\\n\",\n    \"First, we load all the relevant libraries.\"\n   ]\n  },\n  {\n   \"cell_type\": \"code\",\n   \"execution_count\": 1,\n   \"metadata\": {},\n   \"outputs\": [],\n   \"source\": [\n    \"from skimage import io\\n\",\n    \"import os\\n\",\n    \"import glob\\n\",\n    \"import numpy as np\\n\",\n    \"import matplotlib.pyplot as plt\\n\",\n    \"\\n\",\n    \"import warnings\\n\",\n    \"warnings.simplefilter('ignore')\"\n   ]\n  },\n  {\n   \"cell_type\": \"markdown\",\n   \"metadata\": {},\n   \"source\": [\n    \"Point a variable to the path where the data resides. Note that to use the code below you will need to move the folders effusion/ and nofinding/ into one common folder. You can do something like this:\\n\",\n    \"\\n\",\n    \"```\\n\",\n    \"mkdir CXR_Data\\n\",\n    \"move effusion CXR_Data\\n\",\n    \"move nofinding CXR_Data\\n\",\n    \"```\"\n   ]\n  },\n  {\n   \"cell_type\": \"code\",\n   \"execution_count\": 2,\n   \"metadata\": {},\n   \"outputs\": [],\n   \"source\": [\n    \"DATASET_PATH = './CXR_data/'\\n\",\n    \"\\n\",\n    \"# There are two classes of images that we will deal with\\n\",\n    \"disease_cls = ['effusion', 'nofinding']\"\n   ]\n  },\n  {\n   \"cell_type\": \"markdown\",\n   \"metadata\": {},\n   \"source\": [\n    \"Next, we read the \\\"effusion\\\" and \\\"nofinding\\\" images.\"\n   ]\n  },\n  {\n   \"cell_type\": \"code\",\n   \"execution_count\": 3,\n   \"metadata\": {},\n   \"outputs\": [\n    {\n     \"data\": {\n      \"text/plain\": [\n       \"\u003cmatplotlib.image.AxesImage at 0x7f3fcee294a8\u003e\"\n      ]\n     },\n     \"execution_count\": 3,\n     \"metadata\": {},\n     \"output_type\": \"execute_result\"\n    },\n    {\n     \"data\": {\n      \"image/png\": \"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\\n\",\n      \"text/plain\": [\n       \"\u003cFigure size 720x288 with 2 Axes\u003e\"\n      ]\n     },\n     \"metadata\": {\n      \"needs_background\": \"light\"\n     },\n     \"output_type\": \"display_data\"\n    }\n   ],\n   \"source\": [\n    \"effusion_path = os.path.join(DATASET_PATH, disease_cls[0], '*')\\n\",\n    \"effusion = glob.glob(effusion_path)\\n\",\n    \"effusion = io.imread(effusion[0])\\n\",\n    \"\\n\",\n    \"normal_path = os.path.join(DATASET_PATH, disease_cls[1], '*')\\n\",\n    \"normal = glob.glob(normal_path)\\n\",\n    \"normal = io.imread(normal[0])\\n\",\n    \"\\n\",\n    \"f, axes = plt.subplots(1, 2, sharey=True)\\n\",\n    \"f.set_figwidth(10)\\n\",\n    \"    \\n\",\n    \"axes[0].imshow(effusion, cmap='gray')\\n\",\n    \"axes[1].imshow(normal, cmap='gray')\"\n   ]\n  },\n  {\n   \"cell_type\": \"code\",\n   \"execution_count\": 4,\n   \"metadata\": {},\n   \"outputs\": [\n    {\n     \"data\": {\n      \"text/plain\": [\n       \"(1024, 1024, 4)\"\n      ]\n     },\n     \"execution_count\": 4,\n     \"metadata\": {},\n     \"output_type\": \"execute_result\"\n    }\n   ],\n   \"source\": [\n    \"effusion.shape\"\n   ]\n  },\n  {\n   \"cell_type\": \"code\",\n   \"execution_count\": 5,\n   \"metadata\": {},\n   \"outputs\": [\n    {\n     \"data\": {\n      \"text/plain\": [\n       \"(1024, 1024)\"\n      ]\n     },\n     \"execution_count\": 5,\n     \"metadata\": {},\n     \"output_type\": \"execute_result\"\n    }\n   ],\n   \"source\": [\n    \"normal.shape\"\n   ]\n  },\n  {\n   \"cell_type\": \"markdown\",\n   \"metadata\": {},\n   \"source\": [\n    \"### Data Augmentation ###\\n\",\n    \"\\n\",\n    \"Now that we have read the images, the next step is data augmentation. We use the concept of a \\\"data generator\\\" that you learnt in the last section.\"\n   ]\n  },\n  {\n   \"cell_type\": \"code\",\n   \"execution_count\": 6,\n   \"metadata\": {},\n   \"outputs\": [],\n   \"source\": [\n    \"from skimage.transform import rescale\\n\",\n    \"from tensorflow.keras.preprocessing.image import ImageDataGenerator\\n\",\n    \"\\n\",\n    \"datagen = ImageDataGenerator(\\n\",\n    \"    featurewise_center=True,\\n\",\n    \"    featurewise_std_normalization=True,\\n\",\n    \"    rotation_range=10,\\n\",\n    \"    width_shift_range=0,\\n\",\n    \"    height_shift_range=0,\\n\",\n    \"    vertical_flip=False,)\\n\",\n    \"\\n\",\n    \"def preprocess_img(img, mode):\\n\",\n    \"    img = (img - img.min())/(img.max() - img.min())\\n\",\n    \"    img = rescale(img, 0.25, multichannel=True, mode='constant')\\n\",\n    \"    \\n\",\n    \"    if mode == 'train':\\n\",\n    \"        if np.random.randn() \u003e 0:\\n\",\n    \"            img = datagen.random_transform(img)\\n\",\n    \"    return img\"\n   ]\n  },\n  {\n   \"cell_type\": \"markdown\",\n   \"metadata\": {},\n   \"source\": [\n    \"## 2. Model building\"\n   ]\n  },\n  {\n   \"cell_type\": \"markdown\",\n   \"metadata\": {},\n   \"source\": [\n    \"We will be using a Resnet in this (you learnt about Resnets previously). \\n\",\n    \"\\n\",\n    \"For this to work, the script that defines the resnet model (resnet.py) should reside in the same folder as this notebook\"\n   ]\n  },\n  {\n   \"cell_type\": \"code\",\n   \"execution_count\": 7,\n   \"metadata\": {},\n   \"outputs\": [],\n   \"source\": [\n    \"import resnet\\n\",\n    \"\\n\",\n    \"img_channels = 1\\n\",\n    \"img_rows = 256\\n\",\n    \"img_cols = 256\\n\",\n    \"\\n\",\n    \"nb_classes = 2\"\n   ]\n  },\n  {\n   \"cell_type\": \"code\",\n   \"execution_count\": 8,\n   \"metadata\": {},\n   \"outputs\": [],\n   \"source\": [\n    \"import numpy as np\\n\",\n    \"import tensorflow as tf\\n\",\n    \"\\n\",\n    \"class AugmentedDataGenerator(tf.keras.utils.Sequence):\\n\",\n    \"    'Generates data for Keras'\\n\",\n    \"    def __init__(self, mode='train', ablation=None, disease_cls = ['nofinding', 'effusion'], \\n\",\n    \"                 batch_size=32, dim=(256, 256), n_channels=1, shuffle=True):\\n\",\n    \"        'Initialization'\\n\",\n    \"        self.dim = dim\\n\",\n    \"        self.batch_size = batch_size\\n\",\n    \"        self.labels = {}\\n\",\n    \"        self.list_IDs = []\\n\",\n    \"        self.mode = mode\\n\",\n    \"        \\n\",\n    \"        for i, cls in enumerate(disease_cls):\\n\",\n    \"            paths = glob.glob(os.path.join(DATASET_PATH, cls, '*'))\\n\",\n    \"            brk_point = int(len(paths)*0.8)\\n\",\n    \"            if self.mode == 'train':\\n\",\n    \"                paths = paths[:brk_point]\\n\",\n    \"            else:\\n\",\n    \"                paths = paths[brk_point:]\\n\",\n    \"            if ablation is not None:\\n\",\n    \"                paths = paths[:int(len(paths)*ablation/100)]\\n\",\n    \"            self.list_IDs += paths\\n\",\n    \"            self.labels.update({p:i for p in paths})\\n\",\n    \"        \\n\",\n    \"            \\n\",\n    \"        self.n_channels = n_channels\\n\",\n    \"        self.n_classes = len(disease_cls)\\n\",\n    \"        self.shuffle = shuffle\\n\",\n    \"        self.on_epoch_end()\\n\",\n    \"\\n\",\n    \"    def __len__(self):\\n\",\n    \"        'Denotes the number of batches per epoch'\\n\",\n    \"        return int(np.floor(len(self.list_IDs) / self.batch_size))\\n\",\n    \"\\n\",\n    \"    def __getitem__(self, index):\\n\",\n    \"        'Generate one batch of data'\\n\",\n    \"\\n\",\n    \"        indexes = self.indexes[index*self.batch_size:(index+1)*self.batch_size]\\n\",\n    \"        list_IDs_temp = [self.list_IDs[k] for k in indexes]\\n\",\n    \"\\n\",\n    \"        X, y = self.__data_generation(list_IDs_temp)\\n\",\n    \"\\n\",\n    \"        return X, y\\n\",\n    \"\\n\",\n    \"    def on_epoch_end(self):\\n\",\n    \"        'Updates indexes after each epoch'\\n\",\n    \"        self.indexes = np.arange(len(self.list_IDs))\\n\",\n    \"        if self.shuffle == True:\\n\",\n    \"            np.random.shuffle(self.indexes)\\n\",\n    \"\\n\",\n    \"    def __data_generation(self, list_IDs_temp):\\n\",\n    \"        'Generates data containing batch_size samples' # X : (n_samples, *dim, n_channels)\\n\",\n    \"        # Initialization\\n\",\n    \"        X = np.empty((self.batch_size, *self.dim, self.n_channels))\\n\",\n    \"        y = np.empty((self.batch_size), dtype=int)\\n\",\n    \"        \\n\",\n    \"        delete_rows = []\\n\",\n    \"\\n\",\n    \"        # Generate data\\n\",\n    \"        for i, ID in enumerate(list_IDs_temp):\\n\",\n    \"            img = io.imread(ID)\\n\",\n    \"            img = img[:, :, np.newaxis]\\n\",\n    \"            if img.shape == (1024, 1024,1):\\n\",\n    \"                img = preprocess_img(img, self.mode)\\n\",\n    \"                X[i,] = img\\n\",\n    \"                y[i] = self.labels[ID]\\n\",\n    \"            else:\\n\",\n    \"                delete_rows.append(i)\\n\",\n    \"                continue\\n\",\n    \"                \\n\",\n    \"        X = np.delete(X, delete_rows, axis=0)\\n\",\n    \"        y = np.delete(y, delete_rows, axis=0)\\n\",\n    \"        \\n\",\n    \"        return X, tf.keras.utils.to_categorical(y, num_classes=self.n_classes)\"\n   ]\n  },\n  {\n   \"cell_type\": \"markdown\",\n   \"metadata\": {},\n   \"source\": [\n    \"## 3. Ablation Run\"\n   ]\n  },\n  {\n   \"cell_type\": \"markdown\",\n   \"metadata\": {},\n   \"source\": [\n    \"In the previous notebook, you learnt about Ablation. Briefly, an ablation run is when you systematically modify certain parts of the input, in order to observe the equivalent change in the input.\\n\",\n    \"\\n\",\n    \"For the following section, we'll be using the Data Generator concept that you previously worked on.\"\n   ]\n  },\n  {\n   \"cell_type\": \"code\",\n   \"execution_count\": 9,\n   \"metadata\": {},\n   \"outputs\": [\n    {\n     \"name\": \"stdout\",\n     \"output_type\": \"stream\",\n     \"text\": [\n      \"1/1 [==============================] - 0s 3ms/step - loss: 1.3989 - accuracy: 0.9667\\n\"\n     ]\n    },\n    {\n     \"data\": {\n      \"text/plain\": [\n       \"\u003ctensorflow.python.keras.callbacks.History at 0x7f3f4c3b2048\u003e\"\n      ]\n     },\n     \"execution_count\": 9,\n     \"metadata\": {},\n     \"output_type\": \"execute_result\"\n    }\n   ],\n   \"source\": [\n    \"model = resnet.ResnetBuilder.build_resnet_18((img_channels, img_rows, img_cols), nb_classes)\\n\",\n    \"model.compile(loss='categorical_crossentropy',optimizer='SGD',\\n\",\n    \"              metrics=['accuracy'])\\n\",\n    \"training_generator = AugmentedDataGenerator('train', ablation=5)\\n\",\n    \"validation_generator = AugmentedDataGenerator('val', ablation=5)\\n\",\n    \"\\n\",\n    \"model.fit(training_generator, epochs=1, validation_data=validation_generator)\"\n   ]\n  },\n  {\n   \"cell_type\": \"code\",\n   \"execution_count\": 10,\n   \"metadata\": {},\n   \"outputs\": [\n    {\n     \"name\": \"stdout\",\n     \"output_type\": \"stream\",\n     \"text\": [\n      \"Epoch 1/5\\n\",\n      \"1/1 [==============================] - 0s 1ms/step - loss: 1.7565 - accuracy: 0.1000\\n\",\n      \"Epoch 2/5\\n\",\n      \"1/1 [==============================] - 0s 2ms/step - loss: 1.4482 - accuracy: 0.9333\\n\",\n      \"Epoch 3/5\\n\",\n      \"1/1 [==============================] - 0s 1ms/step - loss: 1.3399 - accuracy: 0.9355\\n\",\n      \"Epoch 4/5\\n\",\n      \"1/1 [==============================] - 0s 2ms/step - loss: 1.2365 - accuracy: 0.9667\\n\",\n      \"Epoch 5/5\\n\",\n      \"1/1 [==============================] - 0s 2ms/step - loss: 1.1930 - accuracy: 0.9667\\n\"\n     ]\n    },\n    {\n     \"data\": {\n      \"text/plain\": [\n       \"\u003ctensorflow.python.keras.callbacks.History at 0x7f3eec3dc0b8\u003e\"\n      ]\n     },\n     \"execution_count\": 10,\n     \"metadata\": {},\n     \"output_type\": \"execute_result\"\n    }\n   ],\n   \"source\": [\n    \"model = resnet.ResnetBuilder.build_resnet_18((img_channels, img_rows, img_cols), nb_classes)\\n\",\n    \"model.compile(loss='categorical_crossentropy',optimizer='SGD',\\n\",\n    \"              metrics=['accuracy'])\\n\",\n    \"\\n\",\n    \"training_generator = AugmentedDataGenerator('train', ablation=5)\\n\",\n    \"validation_generator = AugmentedDataGenerator('val', ablation=5)\\n\",\n    \"\\n\",\n    \"model.fit(training_generator, epochs=5, validation_data=None)\"\n   ]\n  },\n  {\n   \"cell_type\": \"code\",\n   \"execution_count\": 11,\n   \"metadata\": {},\n   \"outputs\": [],\n   \"source\": [\n    \"from sklearn.metrics import roc_auc_score\\n\",\n    \"from tensorflow.keras import optimizers\\n\",\n    \"from tensorflow.keras.callbacks import *\\n\",\n    \"\\n\",\n    \"class roc_callback(Callback):\\n\",\n    \"    \\n\",\n    \"    def on_train_begin(self, logs={}):\\n\",\n    \"        logs['val_auc'] = 0\\n\",\n    \"\\n\",\n    \"    def on_epoch_end(self, epoch, logs={}):\\n\",\n    \"        y_p = []\\n\",\n    \"        y_v = []\\n\",\n    \"        for i in range(len(validation_generator)):\\n\",\n    \"            x_val, y_val = validation_generator[i]\\n\",\n    \"            y_pred = self.model.predict(x_val)\\n\",\n    \"            y_p.append(y_pred)\\n\",\n    \"            y_v.append(y_val)\\n\",\n    \"        y_p = np.concatenate(y_p)\\n\",\n    \"        y_v = np.concatenate(y_v)\\n\",\n    \"        roc_auc = roc_auc_score(y_v, y_p)\\n\",\n    \"        print ('\\\\nVal AUC for epoch{}: {}'.format(epoch, roc_auc))\\n\",\n    \"        logs['val_auc'] = roc_auc\"\n   ]\n  },\n  {\n   \"cell_type\": \"code\",\n   \"execution_count\": 13,\n   \"metadata\": {},\n   \"outputs\": [\n    {\n     \"name\": \"stdout\",\n     \"output_type\": \"stream\",\n     \"text\": [\n      \"Epoch 1/5\\n\",\n      \"5/5 [==============================] - ETA: 0s - loss: 1.5154 - accuracy: 0.7089\\n\",\n      \"Val AUC for epoch0: 0.4655172413793104\\n\",\n      \"5/5 [==============================] - 11s 2s/step - loss: 1.5154 - accuracy: 0.7089 - val_loss: 2.9160 - val_accuracy: 0.9000 - val_auc: 0.4655\\n\",\n      \"Epoch 2/5\\n\",\n      \"5/5 [==============================] - ETA: 0s - loss: 1.2867 - accuracy: 0.9177\\n\",\n      \"Val AUC for epoch1: 0.41379310344827586\\n\",\n      \"5/5 [==============================] - 10s 2s/step - loss: 1.2867 - accuracy: 0.9177 - val_loss: 1.8222 - val_accuracy: 0.9355 - val_auc: 0.4138\\n\",\n      \"Epoch 3/5\\n\",\n      \"5/5 [==============================] - ETA: 0s - loss: 1.2691 - accuracy: 0.9114\\n\",\n      \"Val AUC for epoch2: 0.5714285714285714\\n\",\n      \"5/5 [==============================] - 10s 2s/step - loss: 1.2691 - accuracy: 0.9114 - val_loss: 1.5441 - val_accuracy: 0.9355 - val_auc: 0.5714\\n\",\n      \"Epoch 4/5\\n\",\n      \"5/5 [==============================] - ETA: 0s - loss: 1.2725 - accuracy: 0.9057\\n\",\n      \"Val AUC for epoch3: 0.48275862068965514\\n\",\n      \"5/5 [==============================] - 10s 2s/step - loss: 1.2725 - accuracy: 0.9057 - val_loss: 1.5360 - val_accuracy: 0.9032 - val_auc: 0.4828\\n\",\n      \"Epoch 5/5\\n\",\n      \"5/5 [==============================] - ETA: 0s - loss: 1.2732 - accuracy: 0.9051\\n\",\n      \"Val AUC for epoch4: 0.033333333333333326\\n\",\n      \"5/5 [==============================] - 10s 2s/step - loss: 1.2732 - accuracy: 0.9051 - val_loss: 1.1250 - val_accuracy: 0.9667 - val_auc: 0.0333\\n\"\n     ]\n    },\n    {\n     \"data\": {\n      \"text/plain\": [\n       \"\u003ctensorflow.python.keras.callbacks.History at 0x7f3e8c2e7c50\u003e\"\n      ]\n     },\n     \"execution_count\": 13,\n     \"metadata\": {},\n     \"output_type\": \"execute_result\"\n    }\n   ],\n   \"source\": [\n    \"model = resnet.ResnetBuilder.build_resnet_18((img_channels, img_rows, img_cols), nb_classes)\\n\",\n    \"model.compile(loss='categorical_crossentropy',optimizer='SGD',\\n\",\n    \"              metrics=['accuracy'])\\n\",\n    \"\\n\",\n    \"training_generator = AugmentedDataGenerator('train', ablation=20)\\n\",\n    \"validation_generator = AugmentedDataGenerator('val', ablation=20)\\n\",\n    \"\\n\",\n    \"auc_logger = roc_callback()\\n\",\n    \"\\n\",\n    \"model.fit(training_generator, epochs=5, validation_data=validation_generator, callbacks=[auc_logger])\"\n   ]\n  },\n  {\n   \"cell_type\": \"code\",\n   \"execution_count\": 14,\n   \"metadata\": {},\n   \"outputs\": [],\n   \"source\": [\n    \"from functools import partial\\n\",\n    \"import tensorflow.keras.backend as K\\n\",\n    \"from itertools import product\\n\",\n    \"\\n\",\n    \"def w_categorical_crossentropy(y_true, y_pred, weights):\\n\",\n    \"    nb_cl = len(weights)\\n\",\n    \"    final_mask = K.zeros_like(y_pred[:, 0])\\n\",\n    \"    y_pred_max = K.max(y_pred, axis=1)\\n\",\n    \"    y_pred_max = K.reshape(y_pred_max, (K.shape(y_pred)[0], 1))\\n\",\n    \"    y_pred_max_mat = K.cast(K.equal(y_pred, y_pred_max), K.floatx())\\n\",\n    \"    for c_p, c_t in product(range(nb_cl), range(nb_cl)):\\n\",\n    \"        final_mask += (weights[c_t, c_p] * y_pred_max_mat[:, c_p] * y_true[:, c_t])\\n\",\n    \"    cross_ent = K.categorical_crossentropy(y_true, y_pred, from_logits=False)\\n\",\n    \"    return cross_ent * final_mask\\n\",\n    \"\\n\",\n    \"bin_weights = np.ones((2,2))\\n\",\n    \"bin_weights[0, 1] = 5\\n\",\n    \"bin_weights[1, 0] = 5\\n\",\n    \"ncce = partial(w_categorical_crossentropy, weights=bin_weights)\\n\",\n    \"ncce.__name__ ='w_categorical_crossentropy'\"\n   ]\n  },\n  {\n   \"cell_type\": \"code\",\n   \"execution_count\": 15,\n   \"metadata\": {},\n   \"outputs\": [\n    {\n     \"name\": \"stdout\",\n     \"output_type\": \"stream\",\n     \"text\": [\n      \"1/1 [==============================] - 0s 1ms/step - loss: 5.5409 - accuracy: 0.0645\\n\"\n     ]\n    },\n    {\n     \"data\": {\n      \"text/plain\": [\n       \"\u003ctensorflow.python.keras.callbacks.History at 0x7f3e8b0cee48\u003e\"\n      ]\n     },\n     \"execution_count\": 15,\n     \"metadata\": {},\n     \"output_type\": \"execute_result\"\n    }\n   ],\n   \"source\": [\n    \"model = resnet.ResnetBuilder.build_resnet_18((img_channels, img_rows, img_cols), nb_classes)\\n\",\n    \"model.compile(loss=ncce, optimizer='SGD',\\n\",\n    \"              metrics=['accuracy'])\\n\",\n    \"\\n\",\n    \"training_generator = AugmentedDataGenerator('train', ablation=5)\\n\",\n    \"validation_generator = AugmentedDataGenerator('val', ablation=5)\\n\",\n    \"\\n\",\n    \"model.fit(training_generator, epochs=1, validation_data=None)\"\n   ]\n  },\n  {\n   \"cell_type\": \"markdown\",\n   \"metadata\": {},\n   \"source\": [\n    \"## 4. Final Run\"\n   ]\n  },\n  {\n   \"cell_type\": \"markdown\",\n   \"metadata\": {},\n   \"source\": [\n    \"After deeply examining our data and building some preliminary models, we are finally ready to build a model that will perform our prediction task.\"\n   ]\n  },\n  {\n   \"cell_type\": \"code\",\n   \"execution_count\": 16,\n   \"metadata\": {},\n   \"outputs\": [],\n   \"source\": [\n    \"class DecayLR(tf.keras.callbacks.Callback):\\n\",\n    \"    def __init__(self, base_lr=0.01, decay_epoch=1):\\n\",\n    \"        super(DecayLR, self).__init__()\\n\",\n    \"        self.base_lr = base_lr\\n\",\n    \"        self.decay_epoch = decay_epoch \\n\",\n    \"        self.lr_history = []\\n\",\n    \"        \\n\",\n    \"    def on_train_begin(self, logs={}):\\n\",\n    \"        K.set_value(self.model.optimizer.lr, self.base_lr)\\n\",\n    \"\\n\",\n    \"    def on_epoch_end(self, epoch, logs={}):\\n\",\n    \"        new_lr = self.base_lr * (0.5 ** (epoch // self.decay_epoch))\\n\",\n    \"        self.lr_history.append(K.get_value(self.model.optimizer.lr))\\n\",\n    \"        K.set_value(self.model.optimizer.lr, new_lr)\"\n   ]\n  },\n  {\n   \"cell_type\": \"code\",\n   \"execution_count\": 17,\n   \"metadata\": {},\n   \"outputs\": [\n    {\n     \"name\": \"stdout\",\n     \"output_type\": \"stream\",\n     \"text\": [\n      \"Epoch 1/10\\n\",\n      \"13/13 [==============================] - ETA: 0s - loss: 2.2712 - accuracy: 0.5725\\n\",\n      \"Val AUC for epoch0: 0.5701058201058202\\n\",\n      \"\\n\",\n      \"Epoch 00001: val_auc improved from -inf to 0.57011, saving model to models/best_model.hdf5\\n\",\n      \"13/13 [==============================] - 39s 3s/step - loss: 2.2712 - accuracy: 0.5725 - val_loss: 5.3443 - val_accuracy: 0.1075 - val_auc: 0.5701\\n\",\n      \"Epoch 2/10\\n\",\n      \"13/13 [==============================] - ETA: 0s - loss: 2.1631 - accuracy: 0.5591\\n\",\n      \"Val AUC for epoch1: 0.5852941176470587\\n\",\n      \"\\n\",\n      \"Epoch 00002: val_auc improved from 0.57011 to 0.58529, saving model to models/best_model.hdf5\\n\",\n      \"13/13 [==============================] - 25s 2s/step - loss: 2.1631 - accuracy: 0.5591 - val_loss: 3.5104 - val_accuracy: 0.0968 - val_auc: 0.5853\\n\",\n      \"Epoch 3/10\\n\",\n      \"13/13 [==============================] - ETA: 0s - loss: 2.0383 - accuracy: 0.6355\\n\",\n      \"Val AUC for epoch2: 0.6411764705882352\\n\",\n      \"\\n\",\n      \"Epoch 00003: val_auc improved from 0.58529 to 0.64118, saving model to models/best_model.hdf5\\n\",\n      \"13/13 [==============================] - 25s 2s/step - loss: 2.0383 - accuracy: 0.6355 - val_loss: 3.3596 - val_accuracy: 0.0860 - val_auc: 0.6412\\n\",\n      \"Epoch 4/10\\n\",\n      \"13/13 [==============================] - ETA: 0s - loss: 2.0308 - accuracy: 0.7118\\n\",\n      \"Val AUC for epoch3: 0.5180722891566265\\n\",\n      \"\\n\",\n      \"Epoch 00004: val_auc did not improve from 0.64118\\n\",\n      \"13/13 [==============================] - 23s 2s/step - loss: 2.0308 - accuracy: 0.7118 - val_loss: 3.2708 - val_accuracy: 0.0860 - val_auc: 0.5181\\n\",\n      \"Epoch 5/10\\n\",\n      \"13/13 [==============================] - ETA: 0s - loss: 2.0061 - accuracy: 0.7346\\n\",\n      \"Val AUC for epoch4: 0.5797619047619048\\n\",\n      \"\\n\",\n      \"Epoch 00005: val_auc did not improve from 0.64118\\n\",\n      \"13/13 [==============================] - 28s 2s/step - loss: 2.0061 - accuracy: 0.7346 - val_loss: 2.9860 - val_accuracy: 0.1075 - val_auc: 0.5798\\n\",\n      \"Epoch 6/10\\n\",\n      \"13/13 [==============================] - ETA: 0s - loss: 1.9883 - accuracy: 0.7365\\n\",\n      \"Val AUC for epoch5: 0.524547803617571\\n\",\n      \"\\n\",\n      \"Epoch 00006: val_auc did not improve from 0.64118\\n\",\n      \"13/13 [==============================] - 26s 2s/step - loss: 1.9883 - accuracy: 0.7365 - val_loss: 2.7612 - val_accuracy: 0.1170 - val_auc: 0.5245\\n\",\n      \"Epoch 7/10\\n\",\n      \"13/13 [==============================] - ETA: 0s - loss: 2.0141 - accuracy: 0.7414\\n\",\n      \"Val AUC for epoch6: 0.6718954248366014\\n\",\n      \"\\n\",\n      \"Epoch 00007: val_auc improved from 0.64118 to 0.67190, saving model to models/best_model.hdf5\\n\",\n      \"13/13 [==============================] - 20s 2s/step - loss: 2.0141 - accuracy: 0.7414 - val_loss: 2.6299 - val_accuracy: 0.1158 - val_auc: 0.6719\\n\",\n      \"Epoch 8/10\\n\",\n      \"13/13 [==============================] - ETA: 0s - loss: 2.0081 - accuracy: 0.7537\\n\",\n      \"Val AUC for epoch7: 0.6482683982683983\\n\",\n      \"\\n\",\n      \"Epoch 00008: val_auc did not improve from 0.67190\\n\",\n      \"13/13 [==============================] - 21s 2s/step - loss: 2.0081 - accuracy: 0.7537 - val_loss: 2.4338 - val_accuracy: 0.1277 - val_auc: 0.6483\\n\",\n      \"Epoch 9/10\\n\",\n      \"13/13 [==============================] - ETA: 0s - loss: 2.0309 - accuracy: 0.7475\\n\",\n      \"Val AUC for epoch8: 0.7307189542483661\\n\",\n      \"\\n\",\n      \"Epoch 00009: val_auc improved from 0.67190 to 0.73072, saving model to models/best_model.hdf5\\n\",\n      \"13/13 [==============================] - 21s 2s/step - loss: 2.0309 - accuracy: 0.7475 - val_loss: 2.3805 - val_accuracy: 0.1684 - val_auc: 0.7307\\n\",\n      \"Epoch 10/10\\n\",\n      \"13/13 [==============================] - ETA: 0s - loss: 2.0132 - accuracy: 0.7463\\n\",\n      \"Val AUC for epoch9: 0.7191176470588236\\n\",\n      \"\\n\",\n      \"Epoch 00010: val_auc did not improve from 0.73072\\n\",\n      \"13/13 [==============================] - 27s 2s/step - loss: 2.0132 - accuracy: 0.7463 - val_loss: 2.2621 - val_accuracy: 0.1915 - val_auc: 0.7191\\n\"\n     ]\n    },\n    {\n     \"data\": {\n      \"text/plain\": [\n       \"\u003ctensorflow.python.keras.callbacks.History at 0x7f3e89eb9860\u003e\"\n      ]\n     },\n     \"execution_count\": 17,\n     \"metadata\": {},\n     \"output_type\": \"execute_result\"\n    }\n   ],\n   \"source\": [\n    \"model = resnet.ResnetBuilder.build_resnet_18((img_channels, img_rows, img_cols), nb_classes)\\n\",\n    \"sgd = optimizers.SGD(lr=0.005)\\n\",\n    \"\\n\",\n    \"bin_weights = np.ones((2,2))\\n\",\n    \"bin_weights[1, 1] = 10\\n\",\n    \"bin_weights[1, 0] = 10\\n\",\n    \"ncce = partial(w_categorical_crossentropy, weights=bin_weights)\\n\",\n    \"ncce.__name__ ='w_categorical_crossentropy'\\n\",\n    \"\\n\",\n    \"model.compile(loss=ncce,optimizer= sgd,\\n\",\n    \"              metrics=['accuracy'])\\n\",\n    \"training_generator = AugmentedDataGenerator('train', ablation=50)\\n\",\n    \"validation_generator = AugmentedDataGenerator('val', ablation=50)\\n\",\n    \"\\n\",\n    \"auc_logger = roc_callback()\\n\",\n    \"filepath = 'models/best_model.hdf5'\\n\",\n    \"checkpoint = ModelCheckpoint(filepath, monitor='val_auc', verbose=1, save_best_only=True, mode='max')\\n\",\n    \"\\n\",\n    \"decay = DecayLR()\\n\",\n    \"\\n\",\n    \"model.fit(training_generator, epochs=10, validation_data=validation_generator, callbacks=[auc_logger, decay, checkpoint])\"\n   ]\n  },\n  {\n   \"cell_type\": \"markdown\",\n   \"metadata\": {},\n   \"source\": [\n    \"## 5. Making a Prediction\"\n   ]\n  },\n  {\n   \"cell_type\": \"code\",\n   \"execution_count\": 18,\n   \"metadata\": {},\n   \"outputs\": [],\n   \"source\": [\n    \"val_model = resnet.ResnetBuilder.build_resnet_18((img_channels, img_rows, img_cols), nb_classes)\\n\",\n    \"val_model.load_weights('models/best_model.hdf5')\"\n   ]\n  },\n  {\n   \"cell_type\": \"code\",\n   \"execution_count\": 19,\n   \"metadata\": {},\n   \"outputs\": [\n    {\n     \"data\": {\n      \"text/plain\": [\n       \"\u003cmatplotlib.image.AxesImage at 0x7f3e85aad2e8\u003e\"\n      ]\n     },\n     \"execution_count\": 19,\n     \"metadata\": {},\n     \"output_type\": \"execute_result\"\n    },\n    {\n     \"data\": {\n      \"image/png\": \"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\\n\",\n      \"text/plain\": [\n       \"\u003cFigure size 432x288 with 1 Axes\u003e\"\n      ]\n     },\n     \"metadata\": {\n      \"needs_background\": \"light\"\n     },\n     \"output_type\": \"display_data\"\n    }\n   ],\n   \"source\": [\n    \"effusion_path = os.path.join(DATASET_PATH, disease_cls[0], '*')\\n\",\n    \"effusion = glob.glob(effusion_path)\\n\",\n    \"effusion = io.imread(effusion[-8])\\n\",\n    \"plt.imshow(effusion,cmap='gray')\"\n   ]\n  },\n  {\n   \"cell_type\": \"code\",\n   \"execution_count\": 20,\n   \"metadata\": {},\n   \"outputs\": [\n    {\n     \"data\": {\n      \"text/plain\": [\n       \"array([[0.25428748, 0.7457125 ]], dtype=float32)\"\n      ]\n     },\n     \"execution_count\": 20,\n     \"metadata\": {},\n     \"output_type\": \"execute_result\"\n    }\n   ],\n   \"source\": [\n    \"img = preprocess_img(effusion[:, :, np.newaxis], 'validation')\\n\",\n    \"val_model.predict(img[np.newaxis,:])\"\n   ]\n  },\n  {\n   \"cell_type\": \"code\",\n   \"execution_count\": null,\n   \"metadata\": {},\n   \"outputs\": [],\n   \"source\": []\n  }\n ],\n \"metadata\": {\n  \"anaconda-cloud\": {},\n  \"kernelspec\": {\n   \"display_name\": \"Python 3\",\n   \"language\": \"python\",\n   \"name\": \"python3\"\n  },\n  \"language_info\": {\n   \"codemirror_mode\": {\n    \"name\": \"ipython\",\n    \"version\": 3\n   },\n   \"file_extension\": \".py\",\n   \"mimetype\": \"text/x-python\",\n   \"name\": \"python\",\n   \"nbconvert_exporter\": \"python\",\n   \"pygments_lexer\": \"ipython3\",\n   \"version\": \"3.7.3\"\n  }\n },\n \"nbformat\": 4,\n \"nbformat_minor\": 1\n}\n","colorizedLines":null,"stylingDirectives":null,"csv":null,"csvError":null,"dependabotInfo":{"showConfigurationBanner":false,"configFilePath":null,"networkDependabotPath":"/ContentUpgrad/Convolutional-Neural-Network-Industry-Applications/network/updates","dismissConfigurationNoticePath":"/settings/dismiss-notice/dependabot_configuration_notice","configurationNoticeDismissed":false,"repoAlertsPath":"/ContentUpgrad/Convolutional-Neural-Network-Industry-Applications/security/dependabot","repoSecurityAndAnalysisPath":"/ContentUpgrad/Convolutional-Neural-Network-Industry-Applications/settings/security_analysis","repoOwnerIsOrg":false,"currentUserCanAdminRepo":false},"displayName":"Working_With_Chest_XRay_Images-.ipynb","displayUrl":"https://notebooks.githubusercontent.com/view/ipynb?browser=chrome\u0026bypass_fastly=true\u0026color_mode=auto\u0026commit=85bff30cc06805711133f3ce94fb2e27733ff2ff\u0026device=unknown_device\u0026docs_host=https%3A%2F%2Fdocs.github.com\u0026enc_url=68747470733a2f2f7261772e67697468756275736572636f6e74656e742e636f6d2f436f6e74656e745570677261642f436f6e766f6c7574696f6e616c2d4e657572616c2d4e6574776f726b2d496e6475737472792d4170706c69636174696f6e732f383562666633306363303638303537313131333366336365393466623265323737333366663266662f5573696e672d434e4e732d776974682d582d7261792d496d616765732f576f726b696e675f576974685f43686573745f585261795f496d616765732d2e6970796e62\u0026logged_in=true\u0026nwo=ContentUpgrad%2FConvolutional-Neural-Network-Industry-Applications\u0026path=Using-CNNs-with-X-ray-Images%2FWorking_With_Chest_XRay_Images-.ipynb\u0026platform=mac\u0026repository_id=478520428\u0026repository_type=Repository\u0026version=112","headerInfo":{"blobSize":"206 KB","deleteInfo":{"deletePath":"https://github.com/ContentUpgrad/Convolutional-Neural-Network-Industry-Applications/delete/main/Using-CNNs-with-X-ray-Images/Working_With_Chest_XRay_Images-.ipynb","deleteTooltip":"Fork this repository and delete the file"},"editInfo":{"editTooltip":"Fork this repository and edit the file"},"ghDesktopPath":"x-github-client://openRepo/https://github.com/ContentUpgrad/Convolutional-Neural-Network-Industry-Applications?branch=main\u0026filepath=Using-CNNs-with-X-ray-Images%2FWorking_With_Chest_XRay_Images-.ipynb","gitLfsPath":null,"onBranch":true,"shortPath":"cb88cc5","siteNavLoginPath":"/login?return_to=https%3A%2F%2Fgithub.com%2FContentUpgrad%2FConvolutional-Neural-Network-Industry-Applications%2Fblob%2Fmain%2FUsing-CNNs-with-X-ray-Images%2FWorking_With_Chest_XRay_Images-.ipynb","isCSV":false,"isRichtext":false,"toc":null,"lineInfo":{"truncatedLoc":"804","truncatedSloc":"804"},"mode":"file"},"image":false,"isCodeownersFile":null,"isValidLegacyIssueTemplate":false,"issueTemplateHelpUrl":"https://docs.github.com/articles/about-issue-and-pull-request-templates","issueTemplate":null,"discussionTemplate":null,"language":"Jupyter Notebook","large":false,"loggedIn":true,"newDiscussionPath":"/ContentUpgrad/Convolutional-Neural-Network-Industry-Applications/discussions/new","newIssuePath":"/ContentUpgrad/Convolutional-Neural-Network-Industry-Applications/issues/new","planSupportInfo":{"repoIsFork":null,"repoOwnedByCurrentUser":null,"requestFullPath":"/ContentUpgrad/Convolutional-Neural-Network-Industry-Applications/blob/main/Using-CNNs-with-X-ray-Images/Working_With_Chest_XRay_Images-.ipynb","showFreeOrgGatedFeatureMessage":null,"showPlanSupportBanner":null,"upgradeDataAttributes":null,"upgradePath":null},"publishBannersInfo":{"dismissActionNoticePath":"/settings/dismiss-notice/publish_action_from_dockerfile","dismissStackNoticePath":"/settings/dismiss-notice/publish_stack_from_file","releasePath":"/ContentUpgrad/Convolutional-Neural-Network-Industry-Applications/releases/new?marketplace=true","showPublishActionBanner":false,"showPublishStackBanner":false},"renderImageOrRaw":false,"richText":null,"renderedFileInfo":{"identityUUID":"7c37d248-11eb-4bfd-aeea-35a86af69d89","renderFileType":"ipynb","size":211442},"tabSize":8,"topBannersInfo":{"overridingGlobalFundingFile":false,"globalPreferredFundingPath":null,"repoOwner":"ContentUpgrad","repoName":"Convolutional-Neural-Network-Industry-Applications","showInvalidCitationWarning":false,"citationHelpUrl":"https://docs.github.com/en/github/creating-cloning-and-archiving-repositories/creating-a-repository-on-github/about-citation-files","showDependabotConfigurationBanner":false,"actionsOnboardingTip":null},"truncated":false,"viewable":true,"workflowRedirectUrl":null,"symbols":{"timedOut":false,"notAnalyzed":true,"symbols":[]}},"csrf_tokens":{"/ContentUpgrad/Convolutional-Neural-Network-Industry-Applications/branches":{"post":"gGOpa7f7AMDNA-xdo1A4uzIJJOOWU_Q8XYT_zRzY1hq5GuBn0zoJCQInNPCyLRBxjjeXQAGBZ_1dwGkddRr4ug"}}},"title":"Convolutional-Neural-Network-Industry-Applications/Working_With_Chest_XRay_Images-.ipynb at main · ContentUpgrad/Convolutional-Neural-Network-Industry-Applications","locale":"en","appPayload":{"helpUrl":"https://docs.github.com","findFileWorkerPath":"/assets-cdn/worker/find-file-worker-848bb9a5da17.js","findInFileWorkerPath":"/assets-cdn/worker/find-in-file-worker-8812f8040df6.js","githubDevUrl":"https://github.dev/","enabled_features":{"virtualize_file_tree":true,"react_repos_overview":false,"repos_new_shortcut_enabled":false,"blob_navigation_cursor":true,"keep_symbols_closed":false,"code_nav_ui_events":false,"ref_selector_v2":false,"codeview_codemirror_next":false}}}</script>
  <div data-target="react-app.reactRoot"></div>
</react-app>
</turbo-frame>



  </div>

</turbo-frame>

    </main>
  </div>

  </div>

          <footer class="footer width-full container-xl p-responsive" role="contentinfo">
  <h2 class='sr-only'>Footer</h2>

  <div class="position-relative d-flex flex-items-center pb-2 f6 color-fg-muted border-top color-border-muted flex-column-reverse flex-lg-row flex-wrap flex-lg-nowrap mt-6 pt-6">
    <div class="list-style-none d-flex flex-wrap col-0 col-lg-2 flex-justify-start flex-lg-justify-between mb-2 mb-lg-0">
      <div class="mt-2 mt-lg-0 d-flex flex-items-center">
        <a aria-label="Homepage" title="GitHub" class="footer-octicon mr-2" href="https://github.com">
          <svg aria-hidden="true" height="24" viewBox="0 0 16 16" version="1.1" width="24" data-view-component="true" class="octicon octicon-mark-github">
    <path d="M8 0c4.42 0 8 3.58 8 8a8.013 8.013 0 0 1-5.45 7.59c-.4.08-.55-.17-.55-.38 0-.27.01-1.13.01-2.2 0-.75-.25-1.23-.54-1.48 1.78-.2 3.65-.88 3.65-3.95 0-.88-.31-1.59-.82-2.15.08-.2.36-1.02-.08-2.12 0 0-.67-.22-2.2.82-.64-.18-1.32-.27-2-.27-.68 0-1.36.09-2 .27-1.53-1.03-2.2-.82-2.2-.82-.44 1.1-.16 1.92-.08 2.12-.51.56-.82 1.28-.82 2.15 0 3.06 1.86 3.75 3.64 3.95-.23.2-.44.55-.51 1.07-.46.21-1.61.55-2.33-.66-.15-.24-.6-.83-1.23-.82-.67.01-.27.38.01.53.34.19.73.9.82 1.13.16.45.68 1.31 2.69.94 0 .67.01 1.3.01 1.49 0 .21-.15.45-.55.38A7.995 7.995 0 0 1 0 8c0-4.42 3.58-8 8-8Z"></path>
</svg>
</a>        <span>
        &copy; 2023 GitHub, Inc.
        </span>
      </div>
    </div>

    <nav aria-label='Footer' class="col-12 col-lg-8">
      <h3 class='sr-only' id='sr-footer-heading'>Footer navigation</h3>
      <ul class="list-style-none d-flex flex-wrap col-12 flex-justify-center flex-lg-justify-between mb-2 mb-lg-0" aria-labelledby='sr-footer-heading'>
          <li class="mr-3 mr-lg-0"><a href="https://docs.github.com/site-policy/github-terms/github-terms-of-service" data-analytics-event="{&quot;category&quot;:&quot;Footer&quot;,&quot;action&quot;:&quot;go to terms&quot;,&quot;label&quot;:&quot;text:terms&quot;}">Terms</a></li>
          <li class="mr-3 mr-lg-0"><a href="https://docs.github.com/site-policy/privacy-policies/github-privacy-statement" data-analytics-event="{&quot;category&quot;:&quot;Footer&quot;,&quot;action&quot;:&quot;go to privacy&quot;,&quot;label&quot;:&quot;text:privacy&quot;}">Privacy</a></li>
          <li class="mr-3 mr-lg-0"><a data-analytics-event="{&quot;category&quot;:&quot;Footer&quot;,&quot;action&quot;:&quot;go to security&quot;,&quot;label&quot;:&quot;text:security&quot;}" href="https://github.com/security">Security</a></li>
          <li class="mr-3 mr-lg-0"><a href="https://www.githubstatus.com/" data-analytics-event="{&quot;category&quot;:&quot;Footer&quot;,&quot;action&quot;:&quot;go to status&quot;,&quot;label&quot;:&quot;text:status&quot;}">Status</a></li>
          <li class="mr-3 mr-lg-0"><a data-ga-click="Footer, go to help, text:Docs" href="https://docs.github.com">Docs</a></li>
          <li class="mr-3 mr-lg-0"><a href="https://support.github.com?tags=dotcom-footer" data-analytics-event="{&quot;category&quot;:&quot;Footer&quot;,&quot;action&quot;:&quot;go to contact&quot;,&quot;label&quot;:&quot;text:contact&quot;}">Contact GitHub</a></li>
          <li class="mr-3 mr-lg-0"><a href="https://github.com/pricing" data-analytics-event="{&quot;category&quot;:&quot;Footer&quot;,&quot;action&quot;:&quot;go to Pricing&quot;,&quot;label&quot;:&quot;text:Pricing&quot;}">Pricing</a></li>
        <li class="mr-3 mr-lg-0"><a href="https://docs.github.com" data-analytics-event="{&quot;category&quot;:&quot;Footer&quot;,&quot;action&quot;:&quot;go to api&quot;,&quot;label&quot;:&quot;text:api&quot;}">API</a></li>
        <li class="mr-3 mr-lg-0"><a href="https://services.github.com" data-analytics-event="{&quot;category&quot;:&quot;Footer&quot;,&quot;action&quot;:&quot;go to training&quot;,&quot;label&quot;:&quot;text:training&quot;}">Training</a></li>
          <li class="mr-3 mr-lg-0"><a href="https://github.blog" data-analytics-event="{&quot;category&quot;:&quot;Footer&quot;,&quot;action&quot;:&quot;go to blog&quot;,&quot;label&quot;:&quot;text:blog&quot;}">Blog</a></li>
          <li><a data-ga-click="Footer, go to about, text:about" href="https://github.com/about">About</a></li>
      </ul>
    </nav>
  </div>

  <div class="d-flex flex-justify-center pb-6">
    <span class="f6 color-fg-muted"></span>
  </div>
</footer>




  <div id="ajax-error-message" class="ajax-error-message flash flash-error" hidden>
    <svg aria-hidden="true" height="16" viewBox="0 0 16 16" version="1.1" width="16" data-view-component="true" class="octicon octicon-alert">
    <path d="M6.457 1.047c.659-1.234 2.427-1.234 3.086 0l6.082 11.378A1.75 1.75 0 0 1 14.082 15H1.918a1.75 1.75 0 0 1-1.543-2.575Zm1.763.707a.25.25 0 0 0-.44 0L1.698 13.132a.25.25 0 0 0 .22.368h12.164a.25.25 0 0 0 .22-.368Zm.53 3.996v2.5a.75.75 0 0 1-1.5 0v-2.5a.75.75 0 0 1 1.5 0ZM9 11a1 1 0 1 1-2 0 1 1 0 0 1 2 0Z"></path>
</svg>
    <button type="button" class="flash-close js-ajax-error-dismiss" aria-label="Dismiss error">
      <svg aria-hidden="true" height="16" viewBox="0 0 16 16" version="1.1" width="16" data-view-component="true" class="octicon octicon-x">
    <path d="M3.72 3.72a.75.75 0 0 1 1.06 0L8 6.94l3.22-3.22a.749.749 0 0 1 1.275.326.749.749 0 0 1-.215.734L9.06 8l3.22 3.22a.749.749 0 0 1-.326 1.275.749.749 0 0 1-.734-.215L8 9.06l-3.22 3.22a.751.751 0 0 1-1.042-.018.751.751 0 0 1-.018-1.042L6.94 8 3.72 4.78a.75.75 0 0 1 0-1.06Z"></path>
</svg>
    </button>
    You can’t perform that action at this time.
  </div>

  <div class="js-stale-session-flash flash flash-warn flash-banner" hidden
    >
    <svg aria-hidden="true" height="16" viewBox="0 0 16 16" version="1.1" width="16" data-view-component="true" class="octicon octicon-alert">
    <path d="M6.457 1.047c.659-1.234 2.427-1.234 3.086 0l6.082 11.378A1.75 1.75 0 0 1 14.082 15H1.918a1.75 1.75 0 0 1-1.543-2.575Zm1.763.707a.25.25 0 0 0-.44 0L1.698 13.132a.25.25 0 0 0 .22.368h12.164a.25.25 0 0 0 .22-.368Zm.53 3.996v2.5a.75.75 0 0 1-1.5 0v-2.5a.75.75 0 0 1 1.5 0ZM9 11a1 1 0 1 1-2 0 1 1 0 0 1 2 0Z"></path>
</svg>
    <span class="js-stale-session-flash-signed-in" hidden>You signed in with another tab or window. <a href="">Reload</a> to refresh your session.</span>
    <span class="js-stale-session-flash-signed-out" hidden>You signed out in another tab or window. <a href="">Reload</a> to refresh your session.</span>
  </div>
    <template id="site-details-dialog">
  <details class="details-reset details-overlay details-overlay-dark lh-default color-fg-default hx_rsm" open>
    <summary role="button" aria-label="Close dialog"></summary>
    <details-dialog class="Box Box--overlay d-flex flex-column anim-fade-in fast hx_rsm-dialog hx_rsm-modal">
      <button class="Box-btn-octicon m-0 btn-octicon position-absolute right-0 top-0" type="button" aria-label="Close dialog" data-close-dialog>
        <svg aria-hidden="true" height="16" viewBox="0 0 16 16" version="1.1" width="16" data-view-component="true" class="octicon octicon-x">
    <path d="M3.72 3.72a.75.75 0 0 1 1.06 0L8 6.94l3.22-3.22a.749.749 0 0 1 1.275.326.749.749 0 0 1-.215.734L9.06 8l3.22 3.22a.749.749 0 0 1-.326 1.275.749.749 0 0 1-.734-.215L8 9.06l-3.22 3.22a.751.751 0 0 1-1.042-.018.751.751 0 0 1-.018-1.042L6.94 8 3.72 4.78a.75.75 0 0 1 0-1.06Z"></path>
</svg>
      </button>
      <div class="octocat-spinner my-6 js-details-dialog-spinner"></div>
    </details-dialog>
  </details>
</template>

    <div class="Popover js-hovercard-content position-absolute" style="display: none; outline: none;" tabindex="0">
  <div class="Popover-message Popover-message--bottom-left Popover-message--large Box color-shadow-large" style="width:360px;">
  </div>
</div>

    <template id="snippet-clipboard-copy-button">
  <div class="zeroclipboard-container position-absolute right-0 top-0">
    <clipboard-copy aria-label="Copy" class="ClipboardButton btn js-clipboard-copy m-2 p-0 tooltipped-no-delay" data-copy-feedback="Copied!" data-tooltip-direction="w">
      <svg aria-hidden="true" height="16" viewBox="0 0 16 16" version="1.1" width="16" data-view-component="true" class="octicon octicon-copy js-clipboard-copy-icon m-2">
    <path d="M0 6.75C0 5.784.784 5 1.75 5h1.5a.75.75 0 0 1 0 1.5h-1.5a.25.25 0 0 0-.25.25v7.5c0 .138.112.25.25.25h7.5a.25.25 0 0 0 .25-.25v-1.5a.75.75 0 0 1 1.5 0v1.5A1.75 1.75 0 0 1 9.25 16h-7.5A1.75 1.75 0 0 1 0 14.25Z"></path><path d="M5 1.75C5 .784 5.784 0 6.75 0h7.5C15.216 0 16 .784 16 1.75v7.5A1.75 1.75 0 0 1 14.25 11h-7.5A1.75 1.75 0 0 1 5 9.25Zm1.75-.25a.25.25 0 0 0-.25.25v7.5c0 .138.112.25.25.25h7.5a.25.25 0 0 0 .25-.25v-7.5a.25.25 0 0 0-.25-.25Z"></path>
</svg>
      <svg aria-hidden="true" height="16" viewBox="0 0 16 16" version="1.1" width="16" data-view-component="true" class="octicon octicon-check js-clipboard-check-icon color-fg-success d-none m-2">
    <path d="M13.78 4.22a.75.75 0 0 1 0 1.06l-7.25 7.25a.75.75 0 0 1-1.06 0L2.22 9.28a.751.751 0 0 1 .018-1.042.751.751 0 0 1 1.042-.018L6 10.94l6.72-6.72a.75.75 0 0 1 1.06 0Z"></path>
</svg>
    </clipboard-copy>
  </div>
</template>
<template id="snippet-clipboard-copy-button-unpositioned">
  <div class="zeroclipboard-container">
    <clipboard-copy aria-label="Copy" class="ClipboardButton btn btn-invisible js-clipboard-copy m-2 p-0 tooltipped-no-delay d-flex flex-justify-center flex-items-center" data-copy-feedback="Copied!" data-tooltip-direction="w">
      <svg aria-hidden="true" height="16" viewBox="0 0 16 16" version="1.1" width="16" data-view-component="true" class="octicon octicon-copy js-clipboard-copy-icon">
    <path d="M0 6.75C0 5.784.784 5 1.75 5h1.5a.75.75 0 0 1 0 1.5h-1.5a.25.25 0 0 0-.25.25v7.5c0 .138.112.25.25.25h7.5a.25.25 0 0 0 .25-.25v-1.5a.75.75 0 0 1 1.5 0v1.5A1.75 1.75 0 0 1 9.25 16h-7.5A1.75 1.75 0 0 1 0 14.25Z"></path><path d="M5 1.75C5 .784 5.784 0 6.75 0h7.5C15.216 0 16 .784 16 1.75v7.5A1.75 1.75 0 0 1 14.25 11h-7.5A1.75 1.75 0 0 1 5 9.25Zm1.75-.25a.25.25 0 0 0-.25.25v7.5c0 .138.112.25.25.25h7.5a.25.25 0 0 0 .25-.25v-7.5a.25.25 0 0 0-.25-.25Z"></path>
</svg>
      <svg aria-hidden="true" height="16" viewBox="0 0 16 16" version="1.1" width="16" data-view-component="true" class="octicon octicon-check js-clipboard-check-icon color-fg-success d-none">
    <path d="M13.78 4.22a.75.75 0 0 1 0 1.06l-7.25 7.25a.75.75 0 0 1-1.06 0L2.22 9.28a.751.751 0 0 1 .018-1.042.751.751 0 0 1 1.042-.018L6 10.94l6.72-6.72a.75.75 0 0 1 1.06 0Z"></path>
</svg>
    </clipboard-copy>
  </div>
</template>


    <style>
      .user-mention[href$="/krishnajiraoh"] {
        color: var(--color-user-mention-fg);
        background-color: var(--color-user-mention-bg);
        border-radius: 2px;
        margin-left: -2px;
        margin-right: -2px;
        padding: 0 2px;
      }
    </style>


    </div>

    <div id="js-global-screen-reader-notice" class="sr-only" aria-live="polite" ></div>
  </body>
</html>

