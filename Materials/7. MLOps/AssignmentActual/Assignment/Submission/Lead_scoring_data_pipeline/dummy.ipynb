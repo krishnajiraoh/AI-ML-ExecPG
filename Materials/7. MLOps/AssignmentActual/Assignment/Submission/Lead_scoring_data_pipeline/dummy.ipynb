{
 "cells": [
  {
   "cell_type": "code",
   "execution_count": 1,
   "id": "81c22f31-74b4-4853-9c68-14c5cfdf83c5",
   "metadata": {},
   "outputs": [],
   "source": [
    "import utils\n",
    "import constants\n",
    "\n",
    "from mapping.significant_categorical_level import list_platform,list_medium,list_source\n",
    "from mapping.city_tier_mapping import city_tier_mapping \n",
    "\n",
    "import data_validation_checks\n",
    "from schema import raw_data_schema, model_input_schema"
   ]
  },
  {
   "cell_type": "code",
   "execution_count": 2,
   "id": "996630bf-b823-459b-a5c6-99c56ba00448",
   "metadata": {},
   "outputs": [
    {
     "name": "stdout",
     "output_type": "stream",
     "text": [
      "Creating Database\n",
      "New DB Created\n"
     ]
    },
    {
     "data": {
      "text/plain": [
       "'DB Created'"
      ]
     },
     "execution_count": 2,
     "metadata": {},
     "output_type": "execute_result"
    }
   ],
   "source": [
    "utils.build_dbs(constants.DB_PATH,constants.DB_FILE_NAME )"
   ]
  },
  {
   "cell_type": "code",
   "execution_count": 3,
   "id": "d0e64bfe-d609-455e-a8b8-dd6f90f59c47",
   "metadata": {},
   "outputs": [
    {
     "name": "stdout",
     "output_type": "stream",
     "text": [
      "Index(['created_date', 'city_mapped', 'first_platform_c', 'first_utm_medium_c',\n",
      "       'first_utm_source_c', 'total_leads_droppped', 'referred_lead',\n",
      "       '1_on_1_industry_mentorship', 'call_us_button_clicked',\n",
      "       'career_assistance', 'career_coach', 'career_impact', 'careers',\n",
      "       'chat_clicked', 'companies', 'download_button_clicked',\n",
      "       'download_syllabus', 'emi_partner_click', 'emi_plans_clicked',\n",
      "       'fee_component_click', 'hiring_partners',\n",
      "       'homepage_upgrad_support_number_clicked',\n",
      "       'industry_projects_case_studies', 'live_chat_button_clicked',\n",
      "       'payment_amount_toggle_mover', 'placement_support',\n",
      "       'placement_support_banner_tab_clicked', 'program_structure',\n",
      "       'programme_curriculum', 'programme_faculty',\n",
      "       'request_callback_on_instant_customer_support_cta_clicked',\n",
      "       'shorts_entry_click', 'social_referral_click',\n",
      "       'specialisation_tab_clicked', 'specializations', 'specilization_click',\n",
      "       'syllabus', 'syllabus_expand', 'syllabus_submodule_expand',\n",
      "       'tab_career_assistance', 'tab_job_opportunities', 'tab_student_support',\n",
      "       'view_programs_page', 'whatsapp_chat_click', 'app_complete_flag'],\n",
      "      dtype='object')\n",
      "['created_date', 'city_mapped', 'first_platform_c', 'first_utm_medium_c', 'first_utm_source_c', 'total_leads_droppped', 'referred_lead', '1_on_1_industry_mentorship', 'call_us_button_clicked', 'career_assistance', 'career_coach', 'career_impact', 'careers', 'chat_clicked', 'companies', 'download_button_clicked', 'download_syllabus', 'emi_partner_click', 'emi_plans_clicked', 'fee_component_click', 'hiring_partners', 'homepage_upgrad_support_number_clicked', 'industry_projects_case_studies', 'live_chat_button_clicked', 'payment_amount_toggle_mover', 'placement_support', 'placement_support_banner_tab_clicked', 'program_structure', 'programme_curriculum', 'programme_faculty', 'request_callback_on_instant_customer_support_cta_clicked', 'shorts_entry_click', 'social_referral_click', 'specialisation_tab_clicked', 'specializations', 'specilization_click', 'syllabus', 'syllabus_expand', 'syllabus_submodule_expand', 'tab_career_assistance', 'tab_job_opportunities', 'tab_student_support', 'view_programs_page', 'whatsapp_chat_click', 'app_complete_flag']\n",
      "Raw datas schema is in line with the schema present in schema.py\n"
     ]
    }
   ],
   "source": [
    "data_validation_checks.raw_data_schema_check(constants.DATA_DIRECTORY,raw_data_schema)"
   ]
  },
  {
   "cell_type": "code",
   "execution_count": 3,
   "id": "f51e90e8-31ee-4afb-9a4a-80d5fe608e75",
   "metadata": {},
   "outputs": [],
   "source": [
    "utils.load_data_into_db(constants.DB_PATH,constants.DB_FILE_NAME, constants.DATA_DIRECTORY)"
   ]
  },
  {
   "cell_type": "code",
   "execution_count": 4,
   "id": "5279b84d-e246-4b0a-a2d9-f197767c078f",
   "metadata": {},
   "outputs": [],
   "source": [
    "utils.map_city_tier(constants.DB_PATH,constants.DB_FILE_NAME,city_tier_mapping)"
   ]
  },
  {
   "cell_type": "code",
   "execution_count": 5,
   "id": "07b0f50c-8183-4fe6-9c0a-639e52068452",
   "metadata": {},
   "outputs": [
    {
     "name": "stderr",
     "output_type": "stream",
     "text": [
      "/home/Assignment/01_data_pipeline/scripts/utils.py:188: SettingWithCopyWarning: \n",
      "A value is trying to be set on a copy of a slice from a DataFrame.\n",
      "Try using .loc[row_indexer,col_indexer] = value instead\n",
      "\n",
      "See the caveats in the documentation: https://pandas.pydata.org/pandas-docs/stable/user_guide/indexing.html#returning-a-view-versus-a-copy\n",
      "  new_df['first_platform_c'] = \"others\" # replace the value of these levels to others\n",
      "/home/Assignment/01_data_pipeline/scripts/utils.py:194: SettingWithCopyWarning: \n",
      "A value is trying to be set on a copy of a slice from a DataFrame.\n",
      "Try using .loc[row_indexer,col_indexer] = value instead\n",
      "\n",
      "See the caveats in the documentation: https://pandas.pydata.org/pandas-docs/stable/user_guide/indexing.html#returning-a-view-versus-a-copy\n",
      "  new_df['first_utm_medium_c'] = \"others\" # replace the value of these levels to others\n",
      "/home/Assignment/01_data_pipeline/scripts/utils.py:200: SettingWithCopyWarning: \n",
      "A value is trying to be set on a copy of a slice from a DataFrame.\n",
      "Try using .loc[row_indexer,col_indexer] = value instead\n",
      "\n",
      "See the caveats in the documentation: https://pandas.pydata.org/pandas-docs/stable/user_guide/indexing.html#returning-a-view-versus-a-copy\n",
      "  new_df['first_utm_source_c'] = \"others\" # replace the value of these levels to others\n"
     ]
    }
   ],
   "source": [
    "utils.map_categorical_vars(constants.DB_PATH,constants.DB_FILE_NAME,list_platform,list_medium,list_source)"
   ]
  },
  {
   "cell_type": "code",
   "execution_count": 6,
   "id": "b086c1f7-7020-4dce-bff5-069a25613168",
   "metadata": {},
   "outputs": [],
   "source": [
    "utils.interactions_mapping(constants.DB_PATH,constants.DB_FILE_NAME,constants.INTERACTION_MAPPING, \n",
    "                           constants.INDEX_COLUMNS_TRAINING, constants.INDEX_COLUMNS_INFERENCE, constants.NOT_FEATURES)"
   ]
  },
  {
   "cell_type": "code",
   "execution_count": 4,
   "id": "fa5d08e4-41a2-401a-877d-7f5ee1a0fc1c",
   "metadata": {},
   "outputs": [
    {
     "name": "stdout",
     "output_type": "stream",
     "text": [
      "Index(['created_date', 'first_platform_c', 'first_utm_medium_c',\n",
      "       'first_utm_source_c', 'total_leads_droppped', 'city_tier',\n",
      "       'referred_lead', 'app_complete_flag', 'assistance_interaction',\n",
      "       'career_interaction', 'payment_interaction', 'social_interaction',\n",
      "       'syllabus_interaction'],\n",
      "      dtype='object')\n",
      "['total_leads_droppped', 'city_tier', 'referred_lead', 'first_platform_c', 'first_utm_medium_c', 'first_utm_source_c', 'app_complete_flag']\n",
      "Models input schema is NOT in line with the schema present in schema.py\n"
     ]
    }
   ],
   "source": [
    "data_validation_checks.model_input_schema_check(constants.DB_PATH,constants.DB_FILE_NAME,model_input_schema)"
   ]
  },
  {
   "cell_type": "code",
   "execution_count": null,
   "id": "7cc46407-2eaa-43bb-80da-1bc36697a61e",
   "metadata": {},
   "outputs": [],
   "source": []
  }
 ],
 "metadata": {
  "kernelspec": {
   "display_name": "Python 3 (ipykernel)",
   "language": "python",
   "name": "python3"
  },
  "language_info": {
   "codemirror_mode": {
    "name": "ipython",
    "version": 3
   },
   "file_extension": ".py",
   "mimetype": "text/x-python",
   "name": "python",
   "nbconvert_exporter": "python",
   "pygments_lexer": "ipython3",
   "version": "3.8.12"
  }
 },
 "nbformat": 4,
 "nbformat_minor": 5
}
