{
 "cells": [
  {
   "cell_type": "code",
   "execution_count": 5,
   "id": "81c22f31-74b4-4853-9c68-14c5cfdf83c5",
   "metadata": {},
   "outputs": [],
   "source": [
    "import utils\n",
    "import constants\n",
    "from significant_categorical_level import list_platform,list_medium,list_source\n",
    "from city_tier_mapping import city_tier_mapping"
   ]
  },
  {
   "cell_type": "code",
   "execution_count": 2,
   "id": "996630bf-b823-459b-a5c6-99c56ba00448",
   "metadata": {},
   "outputs": [
    {
     "name": "stdout",
     "output_type": "stream",
     "text": [
      "DB Already Exsist\n",
      "/home/Assignment/01_data_pipeline/scripts\n"
     ]
    },
    {
     "data": {
      "text/plain": [
       "'DB Exsist'"
      ]
     },
     "execution_count": 2,
     "metadata": {},
     "output_type": "execute_result"
    }
   ],
   "source": [
    "utils.build_dbs(constants.DB_PATH,constants.DB_FILE_NAME )"
   ]
  },
  {
   "cell_type": "code",
   "execution_count": 3,
   "id": "f51e90e8-31ee-4afb-9a4a-80d5fe608e75",
   "metadata": {},
   "outputs": [],
   "source": [
    "utils.load_data_into_db(constants.DB_PATH,constants.DB_FILE_NAME, constants.DATA_DIRECTORY)"
   ]
  },
  {
   "cell_type": "code",
   "execution_count": 4,
   "id": "5279b84d-e246-4b0a-a2d9-f197767c078f",
   "metadata": {},
   "outputs": [],
   "source": [
    "utils.map_city_tier(constants.DB_PATH,constants.DB_FILE_NAME,city_tier_mapping)"
   ]
  },
  {
   "cell_type": "code",
   "execution_count": 6,
   "id": "07b0f50c-8183-4fe6-9c0a-639e52068452",
   "metadata": {},
   "outputs": [
    {
     "name": "stderr",
     "output_type": "stream",
     "text": [
      "/home/Assignment/01_data_pipeline/scripts/utils.py:188: SettingWithCopyWarning: \n",
      "A value is trying to be set on a copy of a slice from a DataFrame.\n",
      "Try using .loc[row_indexer,col_indexer] = value instead\n",
      "\n",
      "See the caveats in the documentation: https://pandas.pydata.org/pandas-docs/stable/user_guide/indexing.html#returning-a-view-versus-a-copy\n",
      "  new_df['first_platform_c'] = \"others\" # replace the value of these levels to others\n",
      "/home/Assignment/01_data_pipeline/scripts/utils.py:194: SettingWithCopyWarning: \n",
      "A value is trying to be set on a copy of a slice from a DataFrame.\n",
      "Try using .loc[row_indexer,col_indexer] = value instead\n",
      "\n",
      "See the caveats in the documentation: https://pandas.pydata.org/pandas-docs/stable/user_guide/indexing.html#returning-a-view-versus-a-copy\n",
      "  new_df['first_utm_medium_c'] = \"others\" # replace the value of these levels to others\n",
      "/home/Assignment/01_data_pipeline/scripts/utils.py:200: SettingWithCopyWarning: \n",
      "A value is trying to be set on a copy of a slice from a DataFrame.\n",
      "Try using .loc[row_indexer,col_indexer] = value instead\n",
      "\n",
      "See the caveats in the documentation: https://pandas.pydata.org/pandas-docs/stable/user_guide/indexing.html#returning-a-view-versus-a-copy\n",
      "  new_df['first_utm_source_c'] = \"others\" # replace the value of these levels to others\n"
     ]
    }
   ],
   "source": [
    "utils.map_categorical_vars(constants.DB_PATH,constants.DB_FILE_NAME,list_platform,list_medium,list_source)"
   ]
  },
  {
   "cell_type": "code",
   "execution_count": null,
   "id": "b086c1f7-7020-4dce-bff5-069a25613168",
   "metadata": {},
   "outputs": [],
   "source": []
  }
 ],
 "metadata": {
  "kernelspec": {
   "display_name": "Python 3 (ipykernel)",
   "language": "python",
   "name": "python3"
  },
  "language_info": {
   "codemirror_mode": {
    "name": "ipython",
    "version": 3
   },
   "file_extension": ".py",
   "mimetype": "text/x-python",
   "name": "python",
   "nbconvert_exporter": "python",
   "pygments_lexer": "ipython3",
   "version": "3.8.12"
  }
 },
 "nbformat": 4,
 "nbformat_minor": 5
}
