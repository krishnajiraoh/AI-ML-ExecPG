{
 "cells": [
  {
   "cell_type": "code",
   "execution_count": 1,
   "metadata": {},
   "outputs": [],
   "source": [
    "#Specification of CFG\n",
    "import nltk \n",
    "\n",
    "grammar = nltk.CFG.fromstring(\"\"\"\n",
    "S -> NP VP\n",
    "NP -> Det N | Det N PP\n",
    "VP -> V | V NP | V NP PP\n",
    "PP -> P NP\n",
    "\n",
    "Det -> 'a' | 'an' | 'the'\n",
    "N -> 'man' | 'park' | 'dog' | 'telescope'\n",
    "V -> 'saw' | 'walked'\n",
    "P -> 'in' | 'with'\n",
    "\"\"\")"
   ]
  },
  {
   "cell_type": "code",
   "execution_count": 4,
   "metadata": {},
   "outputs": [
    {
     "ename": "ValueError",
     "evalue": "Unable to parse line 12: NN -> 'work' | ‘analyst’\nExpected a nonterminal, found: ‘analyst’",
     "output_type": "error",
     "traceback": [
      "\u001b[0;31m---------------------------------------------------------------------------\u001b[0m",
      "\u001b[0;31mValueError\u001b[0m                                Traceback (most recent call last)",
      "File \u001b[0;32m~/opt/anaconda3/lib/python3.9/site-packages/nltk/grammar.py:1435\u001b[0m, in \u001b[0;36mread_grammar\u001b[0;34m(input, nonterm_parser, probabilistic, encoding)\u001b[0m\n\u001b[1;32m   <a href='file:///Users/I301903/opt/anaconda3/lib/python3.9/site-packages/nltk/grammar.py?line=1432'>1433</a>\u001b[0m     \u001b[39melse\u001b[39;00m:\n\u001b[1;32m   <a href='file:///Users/I301903/opt/anaconda3/lib/python3.9/site-packages/nltk/grammar.py?line=1433'>1434</a>\u001b[0m         \u001b[39m# expand out the disjunctions on the RHS\u001b[39;00m\n\u001b[0;32m-> <a href='file:///Users/I301903/opt/anaconda3/lib/python3.9/site-packages/nltk/grammar.py?line=1434'>1435</a>\u001b[0m         productions \u001b[39m+\u001b[39m\u001b[39m=\u001b[39m _read_production(line, nonterm_parser, probabilistic)\n\u001b[1;32m   <a href='file:///Users/I301903/opt/anaconda3/lib/python3.9/site-packages/nltk/grammar.py?line=1435'>1436</a>\u001b[0m \u001b[39mexcept\u001b[39;00m \u001b[39mValueError\u001b[39;00m \u001b[39mas\u001b[39;00m e:\n",
      "File \u001b[0;32m~/opt/anaconda3/lib/python3.9/site-packages/nltk/grammar.py:1374\u001b[0m, in \u001b[0;36m_read_production\u001b[0;34m(line, nonterm_parser, probabilistic)\u001b[0m\n\u001b[1;32m   <a href='file:///Users/I301903/opt/anaconda3/lib/python3.9/site-packages/nltk/grammar.py?line=1371'>1372</a>\u001b[0m \u001b[39m# Anything else -- nonterminal.\u001b[39;00m\n\u001b[1;32m   <a href='file:///Users/I301903/opt/anaconda3/lib/python3.9/site-packages/nltk/grammar.py?line=1372'>1373</a>\u001b[0m \u001b[39melse\u001b[39;00m:\n\u001b[0;32m-> <a href='file:///Users/I301903/opt/anaconda3/lib/python3.9/site-packages/nltk/grammar.py?line=1373'>1374</a>\u001b[0m     nonterm, pos \u001b[39m=\u001b[39m nonterm_parser(line, pos)\n\u001b[1;32m   <a href='file:///Users/I301903/opt/anaconda3/lib/python3.9/site-packages/nltk/grammar.py?line=1374'>1375</a>\u001b[0m     rhsides[\u001b[39m-\u001b[39m\u001b[39m1\u001b[39m]\u001b[39m.\u001b[39mappend(nonterm)\n",
      "File \u001b[0;32m~/opt/anaconda3/lib/python3.9/site-packages/nltk/grammar.py:1452\u001b[0m, in \u001b[0;36mstandard_nonterm_parser\u001b[0;34m(string, pos)\u001b[0m\n\u001b[1;32m   <a href='file:///Users/I301903/opt/anaconda3/lib/python3.9/site-packages/nltk/grammar.py?line=1450'>1451</a>\u001b[0m \u001b[39mif\u001b[39;00m \u001b[39mnot\u001b[39;00m m:\n\u001b[0;32m-> <a href='file:///Users/I301903/opt/anaconda3/lib/python3.9/site-packages/nltk/grammar.py?line=1451'>1452</a>\u001b[0m     \u001b[39mraise\u001b[39;00m \u001b[39mValueError\u001b[39;00m(\u001b[39m\"\u001b[39m\u001b[39mExpected a nonterminal, found: \u001b[39m\u001b[39m\"\u001b[39m \u001b[39m+\u001b[39m string[pos:])\n\u001b[1;32m   <a href='file:///Users/I301903/opt/anaconda3/lib/python3.9/site-packages/nltk/grammar.py?line=1452'>1453</a>\u001b[0m \u001b[39mreturn\u001b[39;00m (Nonterminal(m\u001b[39m.\u001b[39mgroup(\u001b[39m1\u001b[39m)), m\u001b[39m.\u001b[39mend())\n",
      "\u001b[0;31mValueError\u001b[0m: Expected a nonterminal, found: ‘analyst’",
      "\nThe above exception was the direct cause of the following exception:\n",
      "\u001b[0;31mValueError\u001b[0m                                Traceback (most recent call last)",
      "Cell \u001b[0;32mIn[4], line 1\u001b[0m\n\u001b[0;32m----> 1\u001b[0m grammar \u001b[38;5;241m=\u001b[39m \u001b[43mnltk\u001b[49m\u001b[38;5;241;43m.\u001b[39;49m\u001b[43mCFG\u001b[49m\u001b[38;5;241;43m.\u001b[39;49m\u001b[43mfromstring\u001b[49m\u001b[43m(\u001b[49m\u001b[38;5;124;43m\"\"\"\u001b[39;49m\n\u001b[1;32m      2\u001b[0m \u001b[38;5;124;43mS -> NP VP\u001b[39;49m\n\u001b[1;32m      3\u001b[0m \n\u001b[1;32m      4\u001b[0m \u001b[38;5;124;43mNP ->  NP PP | DT NN\u001b[39;49m\n\u001b[1;32m      5\u001b[0m \n\u001b[1;32m      6\u001b[0m \u001b[38;5;124;43mVP -> V JJ\u001b[39;49m\n\u001b[1;32m      7\u001b[0m \n\u001b[1;32m      8\u001b[0m \u001b[38;5;124;43mPP -> IN NP\u001b[39;49m\n\u001b[1;32m      9\u001b[0m \n\u001b[1;32m     10\u001b[0m \u001b[38;5;124;43mDT -> \u001b[39;49m\u001b[38;5;124;43m'\u001b[39;49m\u001b[38;5;124;43mThe\u001b[39;49m\u001b[38;5;124;43m'\u001b[39;49m\u001b[38;5;124;43m | \u001b[39;49m\u001b[38;5;124;43m'\u001b[39;49m\u001b[38;5;124;43mthe\u001b[39;49m\u001b[38;5;124;43m'\u001b[39;49m\n\u001b[1;32m     11\u001b[0m \n\u001b[1;32m     12\u001b[0m \u001b[38;5;124;43mNN -> \u001b[39;49m\u001b[38;5;124;43m'\u001b[39;49m\u001b[38;5;124;43mwork\u001b[39;49m\u001b[38;5;124;43m'\u001b[39;49m\u001b[38;5;124;43m | ‘analyst’\u001b[39;49m\n\u001b[1;32m     13\u001b[0m \n\u001b[1;32m     14\u001b[0m \u001b[38;5;124;43mV -> \u001b[39;49m\u001b[38;5;124;43m'\u001b[39;49m\u001b[38;5;124;43mis\u001b[39;49m\u001b[38;5;124;43m'\u001b[39;49m\n\u001b[1;32m     15\u001b[0m \n\u001b[1;32m     16\u001b[0m \u001b[38;5;124;43mJJ -> \u001b[39;49m\u001b[38;5;124;43m'\u001b[39;49m\u001b[38;5;124;43mgood\u001b[39;49m\u001b[38;5;124;43m'\u001b[39;49m\n\u001b[1;32m     17\u001b[0m \n\u001b[1;32m     18\u001b[0m \u001b[38;5;124;43mIN -> \u001b[39;49m\u001b[38;5;124;43m'\u001b[39;49m\u001b[38;5;124;43mof\u001b[39;49m\u001b[38;5;124;43m'\u001b[39;49m\n\u001b[1;32m     19\u001b[0m \u001b[38;5;124;43m\"\"\"\u001b[39;49m\u001b[43m)\u001b[49m\n",
      "File \u001b[0;32m~/opt/anaconda3/lib/python3.9/site-packages/nltk/grammar.py:547\u001b[0m, in \u001b[0;36mCFG.fromstring\u001b[0;34m(cls, input, encoding)\u001b[0m\n\u001b[1;32m    <a href='file:///Users/I301903/opt/anaconda3/lib/python3.9/site-packages/nltk/grammar.py?line=539'>540</a>\u001b[0m \u001b[39m@classmethod\u001b[39m\n\u001b[1;32m    <a href='file:///Users/I301903/opt/anaconda3/lib/python3.9/site-packages/nltk/grammar.py?line=540'>541</a>\u001b[0m \u001b[39mdef\u001b[39;00m \u001b[39mfromstring\u001b[39m(\u001b[39mcls\u001b[39m, \u001b[39minput\u001b[39m, encoding\u001b[39m=\u001b[39m\u001b[39mNone\u001b[39;00m):\n\u001b[1;32m    <a href='file:///Users/I301903/opt/anaconda3/lib/python3.9/site-packages/nltk/grammar.py?line=541'>542</a>\u001b[0m \u001b[39m    \u001b[39m\u001b[39m\"\"\"\u001b[39;00m\n\u001b[1;32m    <a href='file:///Users/I301903/opt/anaconda3/lib/python3.9/site-packages/nltk/grammar.py?line=542'>543</a>\u001b[0m \u001b[39m    Return the grammar instance corresponding to the input string(s).\u001b[39;00m\n\u001b[1;32m    <a href='file:///Users/I301903/opt/anaconda3/lib/python3.9/site-packages/nltk/grammar.py?line=543'>544</a>\u001b[0m \n\u001b[1;32m    <a href='file:///Users/I301903/opt/anaconda3/lib/python3.9/site-packages/nltk/grammar.py?line=544'>545</a>\u001b[0m \u001b[39m    :param input: a grammar, either in the form of a string or as a list of strings.\u001b[39;00m\n\u001b[1;32m    <a href='file:///Users/I301903/opt/anaconda3/lib/python3.9/site-packages/nltk/grammar.py?line=545'>546</a>\u001b[0m \u001b[39m    \"\"\"\u001b[39;00m\n\u001b[0;32m--> <a href='file:///Users/I301903/opt/anaconda3/lib/python3.9/site-packages/nltk/grammar.py?line=546'>547</a>\u001b[0m     start, productions \u001b[39m=\u001b[39m read_grammar(\n\u001b[1;32m    <a href='file:///Users/I301903/opt/anaconda3/lib/python3.9/site-packages/nltk/grammar.py?line=547'>548</a>\u001b[0m         \u001b[39minput\u001b[39;49m, standard_nonterm_parser, encoding\u001b[39m=\u001b[39;49mencoding\n\u001b[1;32m    <a href='file:///Users/I301903/opt/anaconda3/lib/python3.9/site-packages/nltk/grammar.py?line=548'>549</a>\u001b[0m     )\n\u001b[1;32m    <a href='file:///Users/I301903/opt/anaconda3/lib/python3.9/site-packages/nltk/grammar.py?line=549'>550</a>\u001b[0m     \u001b[39mreturn\u001b[39;00m \u001b[39mcls\u001b[39m(start, productions)\n",
      "File \u001b[0;32m~/opt/anaconda3/lib/python3.9/site-packages/nltk/grammar.py:1437\u001b[0m, in \u001b[0;36mread_grammar\u001b[0;34m(input, nonterm_parser, probabilistic, encoding)\u001b[0m\n\u001b[1;32m   <a href='file:///Users/I301903/opt/anaconda3/lib/python3.9/site-packages/nltk/grammar.py?line=1434'>1435</a>\u001b[0m             productions \u001b[39m+\u001b[39m\u001b[39m=\u001b[39m _read_production(line, nonterm_parser, probabilistic)\n\u001b[1;32m   <a href='file:///Users/I301903/opt/anaconda3/lib/python3.9/site-packages/nltk/grammar.py?line=1435'>1436</a>\u001b[0m     \u001b[39mexcept\u001b[39;00m \u001b[39mValueError\u001b[39;00m \u001b[39mas\u001b[39;00m e:\n\u001b[0;32m-> <a href='file:///Users/I301903/opt/anaconda3/lib/python3.9/site-packages/nltk/grammar.py?line=1436'>1437</a>\u001b[0m         \u001b[39mraise\u001b[39;00m \u001b[39mValueError\u001b[39;00m(\u001b[39mf\u001b[39m\u001b[39m\"\u001b[39m\u001b[39mUnable to parse line \u001b[39m\u001b[39m{\u001b[39;00mlinenum\u001b[39m \u001b[39m\u001b[39m+\u001b[39m\u001b[39m \u001b[39m\u001b[39m1\u001b[39m\u001b[39m}\u001b[39;00m\u001b[39m: \u001b[39m\u001b[39m{\u001b[39;00mline\u001b[39m}\u001b[39;00m\u001b[39m\\n\u001b[39;00m\u001b[39m{\u001b[39;00me\u001b[39m}\u001b[39;00m\u001b[39m\"\u001b[39m) \u001b[39mfrom\u001b[39;00m \u001b[39me\u001b[39;00m\n\u001b[1;32m   <a href='file:///Users/I301903/opt/anaconda3/lib/python3.9/site-packages/nltk/grammar.py?line=1438'>1439</a>\u001b[0m \u001b[39mif\u001b[39;00m \u001b[39mnot\u001b[39;00m productions:\n\u001b[1;32m   <a href='file:///Users/I301903/opt/anaconda3/lib/python3.9/site-packages/nltk/grammar.py?line=1439'>1440</a>\u001b[0m     \u001b[39mraise\u001b[39;00m \u001b[39mValueError\u001b[39;00m(\u001b[39m\"\u001b[39m\u001b[39mNo productions found!\u001b[39m\u001b[39m\"\u001b[39m)\n",
      "\u001b[0;31mValueError\u001b[0m: Unable to parse line 12: NN -> 'work' | ‘analyst’\nExpected a nonterminal, found: ‘analyst’"
     ]
    }
   ],
   "source": [
    "grammar = nltk.CFG.fromstring(\"\"\"\n",
    "S -> NP VP\n",
    "\n",
    "NP ->  NP PP | DT NN\n",
    "\n",
    "VP -> V JJ\n",
    "\n",
    "PP -> IN NP\n",
    "\n",
    "DT -> 'The' | 'the'\n",
    "\n",
    "NN -> 'work' | ‘analyst’\n",
    "\n",
    "V -> 'is'\n",
    "\n",
    "JJ -> 'good'\n",
    "\n",
    "IN -> 'of'\n",
    "\"\"\")"
   ]
  },
  {
   "cell_type": "code",
   "execution_count": 2,
   "metadata": {},
   "outputs": [
    {
     "name": "stdout",
     "output_type": "stream",
     "text": [
      "(S\n",
      "  (NP (Det the) (N man))\n",
      "  (VP\n",
      "    (V saw)\n",
      "    (NP\n",
      "      (Det a)\n",
      "      (N dog)\n",
      "      (PP\n",
      "        (P in)\n",
      "        (NP\n",
      "          (Det the)\n",
      "          (N park)\n",
      "          (PP (P with) (NP (Det a) (N telescope))))))))\n",
      "(S\n",
      "  (NP (Det the) (N man))\n",
      "  (VP\n",
      "    (V saw)\n",
      "    (NP (Det a) (N dog))\n",
      "    (PP\n",
      "      (P in)\n",
      "      (NP\n",
      "        (Det the)\n",
      "        (N park)\n",
      "        (PP (P with) (NP (Det a) (N telescope)))))))\n",
      "(S\n",
      "  (NP (Det the) (N man))\n",
      "  (VP\n",
      "    (V saw)\n",
      "    (NP (Det a) (N dog) (PP (P in) (NP (Det the) (N park))))\n",
      "    (PP (P with) (NP (Det a) (N telescope)))))\n"
     ]
    }
   ],
   "source": [
    "str = \"the man saw a dog in the park with a telescope\"\n",
    "\n",
    "from nltk.parse import RecursiveDescentParser\n",
    "\n",
    "#Using a top-down parser\n",
    "rdstr = RecursiveDescentParser(grammar)\n",
    "\n",
    "#Print each of the trees \n",
    "for tree in rdstr.parse(str.split()):\n",
    "    print(tree)"
   ]
  },
  {
   "cell_type": "code",
   "execution_count": 3,
   "metadata": {},
   "outputs": [
    {
     "ename": "ModuleNotFoundError",
     "evalue": "No module named 'svgling'",
     "output_type": "error",
     "traceback": [
      "\u001b[0;31m---------------------------------------------------------------------------\u001b[0m",
      "\u001b[0;31mModuleNotFoundError\u001b[0m                       Traceback (most recent call last)",
      "File \u001b[0;32m~/opt/anaconda3/lib/python3.9/site-packages/IPython/core/formatters.py:344\u001b[0m, in \u001b[0;36mBaseFormatter.__call__\u001b[0;34m(self, obj)\u001b[0m\n\u001b[1;32m    <a href='file:///Users/I301903/opt/anaconda3/lib/python3.9/site-packages/IPython/core/formatters.py?line=341'>342</a>\u001b[0m     method \u001b[39m=\u001b[39m get_real_method(obj, \u001b[39mself\u001b[39m\u001b[39m.\u001b[39mprint_method)\n\u001b[1;32m    <a href='file:///Users/I301903/opt/anaconda3/lib/python3.9/site-packages/IPython/core/formatters.py?line=342'>343</a>\u001b[0m     \u001b[39mif\u001b[39;00m method \u001b[39mis\u001b[39;00m \u001b[39mnot\u001b[39;00m \u001b[39mNone\u001b[39;00m:\n\u001b[0;32m--> <a href='file:///Users/I301903/opt/anaconda3/lib/python3.9/site-packages/IPython/core/formatters.py?line=343'>344</a>\u001b[0m         \u001b[39mreturn\u001b[39;00m method()\n\u001b[1;32m    <a href='file:///Users/I301903/opt/anaconda3/lib/python3.9/site-packages/IPython/core/formatters.py?line=344'>345</a>\u001b[0m     \u001b[39mreturn\u001b[39;00m \u001b[39mNone\u001b[39;00m\n\u001b[1;32m    <a href='file:///Users/I301903/opt/anaconda3/lib/python3.9/site-packages/IPython/core/formatters.py?line=345'>346</a>\u001b[0m \u001b[39melse\u001b[39;00m:\n",
      "File \u001b[0;32m~/opt/anaconda3/lib/python3.9/site-packages/nltk/tree/tree.py:782\u001b[0m, in \u001b[0;36mTree._repr_svg_\u001b[0;34m(self)\u001b[0m\n\u001b[1;32m    <a href='file:///Users/I301903/opt/anaconda3/lib/python3.9/site-packages/nltk/tree/tree.py?line=780'>781</a>\u001b[0m \u001b[39mdef\u001b[39;00m \u001b[39m_repr_svg_\u001b[39m(\u001b[39mself\u001b[39m):\n\u001b[0;32m--> <a href='file:///Users/I301903/opt/anaconda3/lib/python3.9/site-packages/nltk/tree/tree.py?line=781'>782</a>\u001b[0m     \u001b[39mfrom\u001b[39;00m \u001b[39msvgling\u001b[39;00m \u001b[39mimport\u001b[39;00m draw_tree\n\u001b[1;32m    <a href='file:///Users/I301903/opt/anaconda3/lib/python3.9/site-packages/nltk/tree/tree.py?line=783'>784</a>\u001b[0m     \u001b[39mreturn\u001b[39;00m draw_tree(\u001b[39mself\u001b[39m)\u001b[39m.\u001b[39m_repr_svg_()\n",
      "\u001b[0;31mModuleNotFoundError\u001b[0m: No module named 'svgling'"
     ]
    },
    {
     "data": {
      "text/plain": [
       "Tree('S', [Tree('NP', [Tree('Det', ['the']), Tree('N', ['man'])]), Tree('VP', [Tree('V', ['saw']), Tree('NP', [Tree('Det', ['a']), Tree('N', ['dog']), Tree('PP', [Tree('P', ['in']), Tree('NP', [Tree('Det', ['the']), Tree('N', ['park'])])])]), Tree('PP', [Tree('P', ['with']), Tree('NP', [Tree('Det', ['a']), Tree('N', ['telescope'])])])])])"
      ]
     },
     "execution_count": 3,
     "metadata": {},
     "output_type": "execute_result"
    }
   ],
   "source": [
    "#The last tree looks like this - \n",
    "tree"
   ]
  },
  {
   "cell_type": "code",
   "execution_count": null,
   "metadata": {},
   "outputs": [],
   "source": [
    "nltk.app.rdparser()\n",
    "# once the recursive descent parser application opens, \n",
    "# you can edit the 'Text' and 'Grammar' according to your requirements\n"
   ]
  },
  {
   "cell_type": "code",
   "execution_count": null,
   "metadata": {},
   "outputs": [],
   "source": []
  }
 ],
 "metadata": {
  "kernelspec": {
   "display_name": "Python 3",
   "language": "python",
   "name": "python3"
  },
  "language_info": {
   "codemirror_mode": {
    "name": "ipython",
    "version": 3
   },
   "file_extension": ".py",
   "mimetype": "text/x-python",
   "name": "python",
   "nbconvert_exporter": "python",
   "pygments_lexer": "ipython3",
   "version": "3.9.16"
  }
 },
 "nbformat": 4,
 "nbformat_minor": 2
}
