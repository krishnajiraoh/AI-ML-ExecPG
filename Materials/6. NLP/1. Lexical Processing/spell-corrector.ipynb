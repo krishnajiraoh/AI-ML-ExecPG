{
 "cells": [
  {
   "cell_type": "code",
   "execution_count": 1,
   "metadata": {
    "collapsed": true
   },
   "outputs": [],
   "source": [
    "import re\n",
    "from collections import Counter"
   ]
  },
  {
   "cell_type": "code",
   "execution_count": 2,
   "metadata": {
    "collapsed": true
   },
   "outputs": [],
   "source": [
    "# function to tokenise words\n",
    "def words(document):\n",
    "    \"Convert text to lower case and tokenise the document\"\n",
    "    return re.findall(r'\\w+', document.lower())"
   ]
  },
  {
   "cell_type": "code",
   "execution_count": 3,
   "metadata": {
    "collapsed": true
   },
   "outputs": [],
   "source": [
    "# create a frequency table of all the words of the document\n",
    "all_words = Counter(words(open('big.txt').read()))"
   ]
  },
  {
   "cell_type": "code",
   "execution_count": 4,
   "metadata": {},
   "outputs": [
    {
     "data": {
      "text/plain": [
       "135"
      ]
     },
     "execution_count": 4,
     "metadata": {},
     "output_type": "execute_result"
    }
   ],
   "source": [
    "# check frequency of a random word, say, 'chair'\n",
    "all_words['chair']"
   ]
  },
  {
   "cell_type": "code",
   "execution_count": 5,
   "metadata": {},
   "outputs": [
    {
     "data": {
      "text/plain": [
       "[('the', 79809),\n",
       " ('of', 40024),\n",
       " ('and', 38312),\n",
       " ('to', 28765),\n",
       " ('in', 22023),\n",
       " ('a', 21124),\n",
       " ('that', 12512),\n",
       " ('he', 12401),\n",
       " ('was', 11410),\n",
       " ('it', 10681)]"
      ]
     },
     "execution_count": 5,
     "metadata": {},
     "output_type": "execute_result"
    }
   ],
   "source": [
    "# look at top 10 frequent words\n",
    "all_words.most_common(10)"
   ]
  },
  {
   "cell_type": "code",
   "execution_count": 6,
   "metadata": {
    "collapsed": true
   },
   "outputs": [],
   "source": [
    "def edits_one(word):\n",
    "    \"Create all edits that are one edit away from `word`.\"\n",
    "    alphabets    = 'abcdefghijklmnopqrstuvwxyz'\n",
    "    splits     = [(word[:i], word[i:])                   for i in range(len(word) + 1)]\n",
    "    deletes    = [left + right[1:]                       for left, right in splits if right]\n",
    "    inserts    = [left + c + right                       for left, right in splits for c in alphabets]\n",
    "    replaces   = [left + c + right[1:]                   for left, right in splits if right for c in alphabets]\n",
    "    transposes = [left + right[1] + right[0] + right[2:] for left, right in splits if len(right)>1]\n",
    "    return set(deletes + inserts + replaces + transposes)"
   ]
  },
  {
   "cell_type": "code",
   "execution_count": 7,
   "metadata": {
    "collapsed": true
   },
   "outputs": [],
   "source": [
    "def edits_two(word):\n",
    "    \"Create all edits that are two edits away from `word`.\"\n",
    "    return (e2 for e1 in edits_one(word) for e2 in edits_one(e1))"
   ]
  },
  {
   "cell_type": "code",
   "execution_count": 8,
   "metadata": {
    "collapsed": true
   },
   "outputs": [],
   "source": [
    "def known(words):\n",
    "    \"The subset of `words` that appear in the `all_words`.\"\n",
    "    return set(word for word in words if word in all_words)"
   ]
  },
  {
   "cell_type": "code",
   "execution_count": 9,
   "metadata": {
    "collapsed": true
   },
   "outputs": [],
   "source": [
    "def possible_corrections(word):\n",
    "    \"Generate possible spelling corrections for word.\"\n",
    "    return (known([word]) or known(edits_one(word)) or known(edits_two(word)) or [word])"
   ]
  },
  {
   "cell_type": "code",
   "execution_count": 10,
   "metadata": {
    "collapsed": true
   },
   "outputs": [],
   "source": [
    "def prob(word, N=sum(all_words.values())): \n",
    "    \"Probability of `word`: Number of appearances of 'word' / total number of tokens\"\n",
    "    return all_words[word] / N"
   ]
  },
  {
   "cell_type": "code",
   "execution_count": 11,
   "metadata": {},
   "outputs": [
    {
     "name": "stdout",
     "output_type": "stream",
     "text": [
      "336\n",
      "{'mounney', 'mionney', 'monbey', 'monnye', 'moniney', 'monnzy', 'fmonney', 'monney', 'monnxy', 'umonney', 'monnay', 'mosney', 'monnney', 'msonney', 'moenney', 'mouney', 'monjney', 'monnea', 'mronney', 'monnzey', 'meonney', 'mwnney', 'monnee', 'mdonney', 'monnyy', 'monneyg', 'monnoy', 'monnrey', 'monnmy', 'monneoy', 'monzey', 'onney', 'amonney', 'molney', 'monnwey', 'moaney', 'monoey', 'monwey', 'motnney', 'monuey', 'mohnney', 'money', 'monnewy', 'mongney', 'monneh', 'monkney', 'monneu', 'monnevy', 'lonney', 'monnfy', 'mobney', 'monnec', 'mqonney', 'mornney', 'monnel', 'monneny', 'monneyh', 'rmonney', 'mpnney', 'monngy', 'mwonney', 'monfey', 'monneo', 'mdnney', 'monjey', 'qonney', 'monneya', 'ponney', 'monnedy', 'ionney', 'omonney', 'hmonney', 'xonney', 'mojney', 'monley', 'mznney', 'mownney', 'movney', 'mofney', 'vonney', 'menney', 'monneyw', 'moxnney', 'monpney', 'monnaey', 'moknney', 'monneyx', 'mxonney', 'fonney', 'monnfey', 'monneyj', 'monnoey', 'monneyc', 'mvnney', 'mponney', 'monneiy', 'monneyo', 'monnqey', 'mopney', 'monncey', 'mxnney', 'monnny', 'mbonney', 'monneyt', 'mynney', 'monneb', 'lmonney', 'monnepy', 'monsey', 'mokney', 'mondey', 'mogney', 'monny', 'monneym', 'pmonney', 'monnkey', 'jmonney', 'monneuy', 'mobnney', 'uonney', 'mgonney', 'monneyq', 'monnpy', 'monhney', 'monnety', 'monneys', 'mkonney', 'monneyu', 'mopnney', 'monnley', 'oonney', 'monnehy', 'monneyk', 'monnvey', 'zonney', 'monneqy', 'monnes', 'monneyv', 'tonney', 'moyney', 'dmonney', 'molnney', 'mohney', 'zmonney', 'nmonney', 'moxney', 'monniey', 'mlonney', 'mnonney', 'mqnney', 'monngey', 'monndy', 'monnry', 'monnmey', 'monnhy', 'mnoney', 'monnsey', 'moiney', 'morney', 'cmonney', 'konney', 'smonney', 'ronney', 'nonney', 'sonney', 'monaney', 'mmonney', 'monnky', 'monned', 'monneyn', 'moynney', 'monrey', 'moqnney', 'monnty', 'monnen', 'mrnney', 'monnex', 'monyey', 'mgnney', 'mvonney', 'mognney', 'moonney', 'mnney', 'monnuy', 'monnesy', 'monnsy', 'monnecy', 'monneey', 'omnney', 'monnely', 'mzonney', 'manney', 'mfnney', 'minney', 'mnnney', 'imonney', 'monuney', 'mongey', 'msnney', 'monbney', 'monnej', 'monnbey', 'monaey', 'mofnney', 'jonney', 'modney', 'monnwy', 'muonney', 'conney', 'monnvy', 'monfney', 'monnem', 'mjnney', 'momney', 'monneyp', 'monmey', 'monqney', 'mhnney', 'mbnney', 'mondney', 'monpey', 'monnly', 'monnez', 'monner', 'monnqy', 'monkey', 'monneq', 'monzney', 'monnew', 'monnep', 'eonney', 'bmonney', 'moeney', 'emonney', 'mocnney', 'mooney', 'yonney', 'mtonney', 'maonney', 'monrney', 'monneg', 'monncy', 'monsney', 'monnjey', 'moneney', 'motney', 'honney', 'monneyl', 'monneky', 'modnney', 'gonney', 'montey', 'moinney', 'mmnney', 'montney', 'monne', 'moneey', 'monvey', 'monnuey', 'moneny', 'monnemy', 'monvney', 'monyney', 'monneyb', 'aonney', 'monhey', 'monnet', 'monniy', 'tmonney', 'mconney', 'monqey', 'bonney', 'monneyr', 'monnery', 'monlney', 'mjonney', 'moncney', 'monneyz', 'mowney', 'monnefy', 'movnney', 'monnjy', 'monneyi', 'mknney', 'monnhey', 'mononey', 'monnei', 'donney', 'momnney', 'monnek', 'kmonney', 'monneby', 'monxey', 'monneyf', 'mlnney', 'mocney', 'xmonney', 'monntey', 'mojnney', 'mozney', 'moncey', 'gmonney', 'monmney', 'munney', 'moanney', 'monnpey', 'qmonney', 'monxney', 'wonney', 'monneye', 'ymonney', 'monneyy', 'monnyey', 'mosnney', 'monwney', 'wmonney', 'monnezy', 'mhonney', 'vmonney', 'mfonney', 'monneay', 'monnegy', 'monnby', 'monneyd', 'moznney', 'monnxey', 'monnef', 'mcnney', 'myonney', 'moniey', 'monnexy', 'monndey', 'mtnney', 'moqney', 'monnejy', 'monnev'}\n"
     ]
    }
   ],
   "source": [
    "print(len(set(edits_one(\"monney\"))))\n",
    "print(edits_one(\"monney\"))"
   ]
  },
  {
   "cell_type": "code",
   "execution_count": 12,
   "metadata": {},
   "outputs": [
    {
     "name": "stdout",
     "output_type": "stream",
     "text": [
      "{'monkey', 'money'}\n"
     ]
    }
   ],
   "source": [
    "print(known(edits_one(\"monney\")))"
   ]
  },
  {
   "cell_type": "code",
   "execution_count": 13,
   "metadata": {},
   "outputs": [
    {
     "name": "stdout",
     "output_type": "stream",
     "text": [
      "51013\n",
      "{'monkey', 'money'}\n"
     ]
    }
   ],
   "source": [
    "# Let's look at words that are two edits away\n",
    "print(len(set(edits_two(\"monney\"))))\n",
    "print(known(edits_one(\"monney\")))"
   ]
  },
  {
   "cell_type": "code",
   "execution_count": 14,
   "metadata": {},
   "outputs": [
    {
     "name": "stdout",
     "output_type": "stream",
     "text": [
      "{'monkey', 'money'}\n"
     ]
    }
   ],
   "source": [
    "# Let's look at possible corrections of a word\n",
    "print(possible_corrections(\"monney\"))"
   ]
  },
  {
   "cell_type": "code",
   "execution_count": 15,
   "metadata": {},
   "outputs": [
    {
     "name": "stdout",
     "output_type": "stream",
     "text": [
      "0.0002922233626303688\n",
      "5.378344097491451e-06\n"
     ]
    }
   ],
   "source": [
    "# Let's look at probability of a word\n",
    "print(prob(\"money\"))\n",
    "print(prob(\"monkey\"))"
   ]
  },
  {
   "cell_type": "code",
   "execution_count": 16,
   "metadata": {},
   "outputs": [],
   "source": [
    "def spell_check(word):\n",
    "    \"Print the most probable spelling correction for `word` out of all the `possible_corrections`\"\n",
    "    correct_word = max(possible_corrections(word), key=prob)\n",
    "    if correct_word != word:\n",
    "        return \"Did you mean \" + correct_word + \"?\"\n",
    "    else:\n",
    "        return \"Correct spelling.\""
   ]
  },
  {
   "cell_type": "code",
   "execution_count": 17,
   "metadata": {},
   "outputs": [
    {
     "name": "stdout",
     "output_type": "stream",
     "text": [
      "Did you mean money?\n"
     ]
    }
   ],
   "source": [
    "# test spell check\n",
    "print(spell_check(\"monney\"))"
   ]
  },
  {
   "cell_type": "code",
   "execution_count": 19,
   "metadata": {},
   "outputs": [
    {
     "data": {
      "text/plain": [
       "442"
      ]
     },
     "execution_count": 19,
     "metadata": {},
     "output_type": "execute_result"
    }
   ],
   "source": [
    "len(edits_one(\"emfasize\"))"
   ]
  },
  {
   "cell_type": "code",
   "execution_count": 23,
   "metadata": {},
   "outputs": [
    {
     "data": {
      "text/plain": [
       "90902"
      ]
     },
     "execution_count": 23,
     "metadata": {},
     "output_type": "execute_result"
    }
   ],
   "source": [
    "len(set(edits_two(\"emfasize\")))"
   ]
  },
  {
   "cell_type": "code",
   "execution_count": 24,
   "metadata": {},
   "outputs": [
    {
     "data": {
      "text/plain": [
       "1"
      ]
     },
     "execution_count": 24,
     "metadata": {},
     "output_type": "execute_result"
    }
   ],
   "source": [
    "len(possible_corrections('possible_corrections'))"
   ]
  },
  {
   "cell_type": "code",
   "execution_count": null,
   "metadata": {},
   "outputs": [],
   "source": []
  }
 ],
 "metadata": {
  "kernelspec": {
   "display_name": "Python 3",
   "language": "python",
   "name": "python3"
  },
  "language_info": {
   "codemirror_mode": {
    "name": "ipython",
    "version": 3
   },
   "file_extension": ".py",
   "mimetype": "text/x-python",
   "name": "python",
   "nbconvert_exporter": "python",
   "pygments_lexer": "ipython3",
   "version": "3.9.16"
  }
 },
 "nbformat": 4,
 "nbformat_minor": 2
}
